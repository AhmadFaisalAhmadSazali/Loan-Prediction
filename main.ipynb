{
 "cells": [
  {
   "cell_type": "code",
   "execution_count": 1,
   "metadata": {},
   "outputs": [],
   "source": [
    "# Package Imports\n",
    "\n",
    "import pandas as pd\n",
    "import numpy as np\n",
    "import plotly.express as px\n",
    "import matplotlib.pyplot as plt\n",
    "from sklearn.model_selection import train_test_split, StratifiedKFold\n",
    "from sklearn.pipeline import Pipeline\n",
    "from sklearn.preprocessing import StandardScaler, OneHotEncoder, PowerTransformer, KBinsDiscretizer, OrdinalEncoder\n",
    "from sklearn.compose import ColumnTransformer\n",
    "from sklearn.linear_model import LogisticRegression\n",
    "from sklearn.neighbors import KNeighborsClassifier\n",
    "from sklearn.svm import SVC\n",
    "from sklearn.ensemble import RandomForestClassifier, GradientBoostingClassifier\n",
    "from sklearn.model_selection import GridSearchCV\n",
    "from sklearn.metrics import accuracy_score, precision_score, recall_score, f1_score, roc_auc_score\n",
    "from xgboost import XGBClassifier\n",
    "\n",
    "pd.set_option('display.max_rows', 100)"
   ]
  },
  {
   "cell_type": "code",
   "execution_count": 2,
   "metadata": {},
   "outputs": [
    {
     "name": "stdout",
     "output_type": "stream",
     "text": [
      "<class 'pandas.core.frame.DataFrame'>\n",
      "RangeIndex: 1000 entries, 0 to 999\n",
      "Data columns (total 16 columns):\n",
      " #   Column             Non-Null Count  Dtype  \n",
      "---  ------             --------------  -----  \n",
      " 0   id                 1000 non-null   object \n",
      " 1   ela                939 non-null    float64\n",
      " 2   financeAmount      939 non-null    float64\n",
      " 3   address1           998 non-null    object \n",
      " 4   address2           862 non-null    object \n",
      " 5   address3           416 non-null    object \n",
      " 6   state              1000 non-null   object \n",
      " 7   city               1000 non-null   object \n",
      " 8   postcode           976 non-null    float64\n",
      " 9   applicationStatus  1000 non-null   object \n",
      " 10  netSalary          1000 non-null   float64\n",
      " 11  loanTenure         1000 non-null   int64  \n",
      " 12  interestRate       1000 non-null   int64  \n",
      " 13  loanApplied        1000 non-null   int64  \n",
      " 14  jobTitle           1000 non-null   object \n",
      " 15  loanReason         1000 non-null   object \n",
      "dtypes: float64(4), int64(3), object(9)\n",
      "memory usage: 125.1+ KB\n"
     ]
    }
   ],
   "source": [
    "# Loading and understanding the data\n",
    "raw_data = pd.read_csv(\"data.csv\")\n",
    "raw_data.info()"
   ]
  },
  {
   "cell_type": "code",
   "execution_count": 3,
   "metadata": {},
   "outputs": [
    {
     "data": {
      "text/html": [
       "<div>\n",
       "<style scoped>\n",
       "    .dataframe tbody tr th:only-of-type {\n",
       "        vertical-align: middle;\n",
       "    }\n",
       "\n",
       "    .dataframe tbody tr th {\n",
       "        vertical-align: top;\n",
       "    }\n",
       "\n",
       "    .dataframe thead th {\n",
       "        text-align: right;\n",
       "    }\n",
       "</style>\n",
       "<table border=\"1\" class=\"dataframe\">\n",
       "  <thead>\n",
       "    <tr style=\"text-align: right;\">\n",
       "      <th></th>\n",
       "      <th>ela</th>\n",
       "      <th>financeAmount</th>\n",
       "      <th>postcode</th>\n",
       "      <th>netSalary</th>\n",
       "      <th>loanTenure</th>\n",
       "      <th>interestRate</th>\n",
       "      <th>loanApplied</th>\n",
       "    </tr>\n",
       "  </thead>\n",
       "  <tbody>\n",
       "    <tr>\n",
       "      <th>count</th>\n",
       "      <td>939.000000</td>\n",
       "      <td>939.000000</td>\n",
       "      <td>976.000000</td>\n",
       "      <td>1000.000000</td>\n",
       "      <td>1000.000000</td>\n",
       "      <td>1000.000000</td>\n",
       "      <td>1000.000000</td>\n",
       "    </tr>\n",
       "    <tr>\n",
       "      <th>mean</th>\n",
       "      <td>15959.531416</td>\n",
       "      <td>3532.694356</td>\n",
       "      <td>47655.150615</td>\n",
       "      <td>3457.413940</td>\n",
       "      <td>21.990000</td>\n",
       "      <td>17.997000</td>\n",
       "      <td>5581.600000</td>\n",
       "    </tr>\n",
       "    <tr>\n",
       "      <th>std</th>\n",
       "      <td>24027.757185</td>\n",
       "      <td>3351.043863</td>\n",
       "      <td>27143.513917</td>\n",
       "      <td>11434.249677</td>\n",
       "      <td>4.614021</td>\n",
       "      <td>0.094868</td>\n",
       "      <td>3255.973403</td>\n",
       "    </tr>\n",
       "    <tr>\n",
       "      <th>min</th>\n",
       "      <td>0.000000</td>\n",
       "      <td>0.000000</td>\n",
       "      <td>1000.000000</td>\n",
       "      <td>450.000000</td>\n",
       "      <td>6.000000</td>\n",
       "      <td>15.000000</td>\n",
       "      <td>1000.000000</td>\n",
       "    </tr>\n",
       "    <tr>\n",
       "      <th>25%</th>\n",
       "      <td>1000.000000</td>\n",
       "      <td>1000.000000</td>\n",
       "      <td>26092.500000</td>\n",
       "      <td>1990.442500</td>\n",
       "      <td>24.000000</td>\n",
       "      <td>18.000000</td>\n",
       "      <td>3000.000000</td>\n",
       "    </tr>\n",
       "    <tr>\n",
       "      <th>50%</th>\n",
       "      <td>11000.000000</td>\n",
       "      <td>2500.000000</td>\n",
       "      <td>43900.000000</td>\n",
       "      <td>2676.085000</td>\n",
       "      <td>24.000000</td>\n",
       "      <td>18.000000</td>\n",
       "      <td>5000.000000</td>\n",
       "    </tr>\n",
       "    <tr>\n",
       "      <th>75%</th>\n",
       "      <td>22000.000000</td>\n",
       "      <td>5000.000000</td>\n",
       "      <td>71800.000000</td>\n",
       "      <td>3700.000000</td>\n",
       "      <td>24.000000</td>\n",
       "      <td>18.000000</td>\n",
       "      <td>10000.000000</td>\n",
       "    </tr>\n",
       "    <tr>\n",
       "      <th>max</th>\n",
       "      <td>397000.000000</td>\n",
       "      <td>10000.000000</td>\n",
       "      <td>98000.000000</td>\n",
       "      <td>359313.000000</td>\n",
       "      <td>24.000000</td>\n",
       "      <td>18.000000</td>\n",
       "      <td>10000.000000</td>\n",
       "    </tr>\n",
       "  </tbody>\n",
       "</table>\n",
       "</div>"
      ],
      "text/plain": [
       "                 ela  financeAmount      postcode      netSalary   loanTenure  \\\n",
       "count     939.000000     939.000000    976.000000    1000.000000  1000.000000   \n",
       "mean    15959.531416    3532.694356  47655.150615    3457.413940    21.990000   \n",
       "std     24027.757185    3351.043863  27143.513917   11434.249677     4.614021   \n",
       "min         0.000000       0.000000   1000.000000     450.000000     6.000000   \n",
       "25%      1000.000000    1000.000000  26092.500000    1990.442500    24.000000   \n",
       "50%     11000.000000    2500.000000  43900.000000    2676.085000    24.000000   \n",
       "75%     22000.000000    5000.000000  71800.000000    3700.000000    24.000000   \n",
       "max    397000.000000   10000.000000  98000.000000  359313.000000    24.000000   \n",
       "\n",
       "       interestRate   loanApplied  \n",
       "count   1000.000000   1000.000000  \n",
       "mean      17.997000   5581.600000  \n",
       "std        0.094868   3255.973403  \n",
       "min       15.000000   1000.000000  \n",
       "25%       18.000000   3000.000000  \n",
       "50%       18.000000   5000.000000  \n",
       "75%       18.000000  10000.000000  \n",
       "max       18.000000  10000.000000  "
      ]
     },
     "execution_count": 3,
     "metadata": {},
     "output_type": "execute_result"
    }
   ],
   "source": [
    "# Summary statistics of numerical features\n",
    "raw_data.describe()"
   ]
  },
  {
   "cell_type": "code",
   "execution_count": 4,
   "metadata": {},
   "outputs": [
    {
     "data": {
      "text/plain": [
       "1000"
      ]
     },
     "execution_count": 4,
     "metadata": {},
     "output_type": "execute_result"
    }
   ],
   "source": [
    "# Check if all ids are indeed unique\n",
    "raw_data['id'].nunique()"
   ]
  },
  {
   "cell_type": "markdown",
   "metadata": {},
   "source": [
    "## NaN/Null Investigation and Handling"
   ]
  },
  {
   "cell_type": "code",
   "execution_count": 5,
   "metadata": {},
   "outputs": [
    {
     "data": {
      "text/plain": [
       "['ela', 'financeAmount', 'address1', 'address2', 'address3', 'postcode']"
      ]
     },
     "execution_count": 5,
     "metadata": {},
     "output_type": "execute_result"
    }
   ],
   "source": [
    "# Indentify columns with NaN\n",
    "col_with_na = raw_data.columns[raw_data.isna().any()].tolist()\n",
    "col_with_na"
   ]
  },
  {
   "cell_type": "markdown",
   "metadata": {},
   "source": [
    "#### ela - Maximum loan amount which the applicant is eligible to loan based on his/her financial capability"
   ]
  },
  {
   "cell_type": "code",
   "execution_count": 6,
   "metadata": {},
   "outputs": [
    {
     "data": {
      "text/html": [
       "<div>\n",
       "<style scoped>\n",
       "    .dataframe tbody tr th:only-of-type {\n",
       "        vertical-align: middle;\n",
       "    }\n",
       "\n",
       "    .dataframe tbody tr th {\n",
       "        vertical-align: top;\n",
       "    }\n",
       "\n",
       "    .dataframe thead th {\n",
       "        text-align: right;\n",
       "    }\n",
       "</style>\n",
       "<table border=\"1\" class=\"dataframe\">\n",
       "  <thead>\n",
       "    <tr style=\"text-align: right;\">\n",
       "      <th></th>\n",
       "      <th>id</th>\n",
       "      <th>ela</th>\n",
       "      <th>financeAmount</th>\n",
       "      <th>address1</th>\n",
       "      <th>address2</th>\n",
       "      <th>address3</th>\n",
       "      <th>state</th>\n",
       "      <th>city</th>\n",
       "      <th>postcode</th>\n",
       "      <th>applicationStatus</th>\n",
       "      <th>netSalary</th>\n",
       "      <th>loanTenure</th>\n",
       "      <th>interestRate</th>\n",
       "      <th>loanApplied</th>\n",
       "      <th>jobTitle</th>\n",
       "      <th>loanReason</th>\n",
       "    </tr>\n",
       "  </thead>\n",
       "  <tbody>\n",
       "    <tr>\n",
       "      <th>15</th>\n",
       "      <td>02c912c4-bb44-4028-88cb-f62814894137</td>\n",
       "      <td>NaN</td>\n",
       "      <td>NaN</td>\n",
       "      <td>802 BLOK C TINGKAT 8</td>\n",
       "      <td>KUARTERS FRU POLIS DEPOH</td>\n",
       "      <td>NaN</td>\n",
       "      <td>JOHOR</td>\n",
       "      <td>JOHOR BAHRU</td>\n",
       "      <td>80250.0</td>\n",
       "      <td>REJECTED</td>\n",
       "      <td>2100.00</td>\n",
       "      <td>24</td>\n",
       "      <td>18</td>\n",
       "      <td>5000</td>\n",
       "      <td>PARTS ASSISTANT</td>\n",
       "      <td>RENOVATION</td>\n",
       "    </tr>\n",
       "    <tr>\n",
       "      <th>17</th>\n",
       "      <td>02f0b3b1-52e4-4051-b71e-d0994fc9f337</td>\n",
       "      <td>NaN</td>\n",
       "      <td>NaN</td>\n",
       "      <td>77 JALAN 3/149D BANDAR BARU</td>\n",
       "      <td>SERI PETALING</td>\n",
       "      <td>NaN</td>\n",
       "      <td>KUALA LUMPUR</td>\n",
       "      <td>KUALA LUMPUR</td>\n",
       "      <td>57000.0</td>\n",
       "      <td>REJECTED</td>\n",
       "      <td>2000.00</td>\n",
       "      <td>24</td>\n",
       "      <td>18</td>\n",
       "      <td>10000</td>\n",
       "      <td>CASHIER</td>\n",
       "      <td>DEBTS CONSOLIDATION</td>\n",
       "    </tr>\n",
       "    <tr>\n",
       "      <th>25</th>\n",
       "      <td>03f3bceb-0d7d-4893-b01a-3bfa9c0de8dd</td>\n",
       "      <td>NaN</td>\n",
       "      <td>NaN</td>\n",
       "      <td>F-9-24</td>\n",
       "      <td>MENTARI COURT</td>\n",
       "      <td>PETALING JAYA, SELANGOR</td>\n",
       "      <td>SELANGOR</td>\n",
       "      <td>PETALING JAYA</td>\n",
       "      <td>46150.0</td>\n",
       "      <td>REJECTED</td>\n",
       "      <td>3500.00</td>\n",
       "      <td>6</td>\n",
       "      <td>18</td>\n",
       "      <td>1100</td>\n",
       "      <td>BUILDING EXECUTIVE</td>\n",
       "      <td>DEBTS CONSOLIDATION</td>\n",
       "    </tr>\n",
       "    <tr>\n",
       "      <th>30</th>\n",
       "      <td>04dd3aff-5539-459d-8966-4bc55fc06a64</td>\n",
       "      <td>NaN</td>\n",
       "      <td>NaN</td>\n",
       "      <td>RL116 JALAN RESTU</td>\n",
       "      <td>RANTAU PERINTIS</td>\n",
       "      <td>BANDAR JENGKA</td>\n",
       "      <td>PAHANG</td>\n",
       "      <td>BANDAR PUSAT JENGKA</td>\n",
       "      <td>26400.0</td>\n",
       "      <td>REJECTED</td>\n",
       "      <td>6725.51</td>\n",
       "      <td>24</td>\n",
       "      <td>18</td>\n",
       "      <td>10000</td>\n",
       "      <td>PHARMACIST</td>\n",
       "      <td>EXPAND BUSINESS</td>\n",
       "    </tr>\n",
       "    <tr>\n",
       "      <th>52</th>\n",
       "      <td>08a39ec5-7e7d-48af-857d-84d696207de6</td>\n",
       "      <td>NaN</td>\n",
       "      <td>NaN</td>\n",
       "      <td>NO 109 JALAN P.I 3</td>\n",
       "      <td>TAMAN PEDAS INDAH</td>\n",
       "      <td>NaN</td>\n",
       "      <td>NEGERI SEMBILAN</td>\n",
       "      <td>REMBAU</td>\n",
       "      <td>71400.0</td>\n",
       "      <td>REJECTED</td>\n",
       "      <td>3000.00</td>\n",
       "      <td>24</td>\n",
       "      <td>18</td>\n",
       "      <td>10000</td>\n",
       "      <td>COURIER</td>\n",
       "      <td>RENOVATION</td>\n",
       "    </tr>\n",
       "  </tbody>\n",
       "</table>\n",
       "</div>"
      ],
      "text/plain": [
       "                                      id  ela  financeAmount  \\\n",
       "15  02c912c4-bb44-4028-88cb-f62814894137  NaN            NaN   \n",
       "17  02f0b3b1-52e4-4051-b71e-d0994fc9f337  NaN            NaN   \n",
       "25  03f3bceb-0d7d-4893-b01a-3bfa9c0de8dd  NaN            NaN   \n",
       "30  04dd3aff-5539-459d-8966-4bc55fc06a64  NaN            NaN   \n",
       "52  08a39ec5-7e7d-48af-857d-84d696207de6  NaN            NaN   \n",
       "\n",
       "                       address1                  address2  \\\n",
       "15         802 BLOK C TINGKAT 8  KUARTERS FRU POLIS DEPOH   \n",
       "17  77 JALAN 3/149D BANDAR BARU             SERI PETALING   \n",
       "25                       F-9-24             MENTARI COURT   \n",
       "30            RL116 JALAN RESTU           RANTAU PERINTIS   \n",
       "52           NO 109 JALAN P.I 3         TAMAN PEDAS INDAH   \n",
       "\n",
       "                   address3            state                 city  postcode  \\\n",
       "15                      NaN            JOHOR          JOHOR BAHRU   80250.0   \n",
       "17                      NaN     KUALA LUMPUR         KUALA LUMPUR   57000.0   \n",
       "25  PETALING JAYA, SELANGOR         SELANGOR        PETALING JAYA   46150.0   \n",
       "30            BANDAR JENGKA           PAHANG  BANDAR PUSAT JENGKA   26400.0   \n",
       "52                      NaN  NEGERI SEMBILAN               REMBAU   71400.0   \n",
       "\n",
       "   applicationStatus  netSalary  loanTenure  interestRate  loanApplied  \\\n",
       "15          REJECTED    2100.00          24            18         5000   \n",
       "17          REJECTED    2000.00          24            18        10000   \n",
       "25          REJECTED    3500.00           6            18         1100   \n",
       "30          REJECTED    6725.51          24            18        10000   \n",
       "52          REJECTED    3000.00          24            18        10000   \n",
       "\n",
       "              jobTitle           loanReason  \n",
       "15     PARTS ASSISTANT           RENOVATION  \n",
       "17             CASHIER  DEBTS CONSOLIDATION  \n",
       "25  BUILDING EXECUTIVE  DEBTS CONSOLIDATION  \n",
       "30          PHARMACIST      EXPAND BUSINESS  \n",
       "52             COURIER           RENOVATION  "
      ]
     },
     "execution_count": 6,
     "metadata": {},
     "output_type": "execute_result"
    }
   ],
   "source": [
    "ela_na = raw_data.query(\"ela.isna()\")\n",
    "ela_na.head()"
   ]
  },
  {
   "cell_type": "code",
   "execution_count": 7,
   "metadata": {},
   "outputs": [
    {
     "data": {
      "text/plain": [
       "applicationStatus\n",
       "REJECTED    61\n",
       "Name: count, dtype: int64"
      ]
     },
     "execution_count": 7,
     "metadata": {},
     "output_type": "execute_result"
    }
   ],
   "source": [
    "# Based on the below ela NaN analysis, the applicationStatus for all of them is REJECTED\n",
    "ela_na['applicationStatus'].value_counts()"
   ]
  },
  {
   "cell_type": "code",
   "execution_count": 8,
   "metadata": {},
   "outputs": [
    {
     "name": "stdout",
     "output_type": "stream",
     "text": [
      "applicationStatus\n",
      "REJECTED    228\n",
      "APPROVED      1\n",
      "Name: count, dtype: int64\n"
     ]
    }
   ],
   "source": [
    "# Check applicationStatus if ela is 0\n",
    "# It appears that there is one case of when ela = 0 and loan is still approved, which should not be the case\n",
    "\n",
    "if raw_data['ela'].min() == 0.0:\n",
    "    print(raw_data[raw_data['ela'] == 0.0]['applicationStatus'].value_counts())"
   ]
  },
  {
   "cell_type": "code",
   "execution_count": 9,
   "metadata": {},
   "outputs": [
    {
     "data": {
      "text/html": [
       "<div>\n",
       "<style scoped>\n",
       "    .dataframe tbody tr th:only-of-type {\n",
       "        vertical-align: middle;\n",
       "    }\n",
       "\n",
       "    .dataframe tbody tr th {\n",
       "        vertical-align: top;\n",
       "    }\n",
       "\n",
       "    .dataframe thead th {\n",
       "        text-align: right;\n",
       "    }\n",
       "</style>\n",
       "<table border=\"1\" class=\"dataframe\">\n",
       "  <thead>\n",
       "    <tr style=\"text-align: right;\">\n",
       "      <th></th>\n",
       "      <th>id</th>\n",
       "      <th>ela</th>\n",
       "      <th>financeAmount</th>\n",
       "      <th>address1</th>\n",
       "      <th>address2</th>\n",
       "      <th>address3</th>\n",
       "      <th>state</th>\n",
       "      <th>city</th>\n",
       "      <th>postcode</th>\n",
       "      <th>applicationStatus</th>\n",
       "      <th>netSalary</th>\n",
       "      <th>loanTenure</th>\n",
       "      <th>interestRate</th>\n",
       "      <th>loanApplied</th>\n",
       "      <th>jobTitle</th>\n",
       "      <th>loanReason</th>\n",
       "    </tr>\n",
       "  </thead>\n",
       "  <tbody>\n",
       "    <tr>\n",
       "      <th>292</th>\n",
       "      <td>2c40878b-aa10-4b65-b27a-9b55dbaba256</td>\n",
       "      <td>0.0</td>\n",
       "      <td>5000.0</td>\n",
       "      <td>NO 4250</td>\n",
       "      <td>KAMPUNG SELAMAT</td>\n",
       "      <td>NaN</td>\n",
       "      <td>PENANG</td>\n",
       "      <td>TASEK GELUGOR</td>\n",
       "      <td>NaN</td>\n",
       "      <td>APPROVED</td>\n",
       "      <td>1800.0</td>\n",
       "      <td>24</td>\n",
       "      <td>18</td>\n",
       "      <td>10000</td>\n",
       "      <td>MARKETING</td>\n",
       "      <td>OTHER USAGE</td>\n",
       "    </tr>\n",
       "  </tbody>\n",
       "</table>\n",
       "</div>"
      ],
      "text/plain": [
       "                                       id  ela  financeAmount address1  \\\n",
       "292  2c40878b-aa10-4b65-b27a-9b55dbaba256  0.0         5000.0  NO 4250   \n",
       "\n",
       "            address2 address3   state           city  postcode  \\\n",
       "292  KAMPUNG SELAMAT      NaN  PENANG  TASEK GELUGOR       NaN   \n",
       "\n",
       "    applicationStatus  netSalary  loanTenure  interestRate  loanApplied  \\\n",
       "292          APPROVED     1800.0          24            18        10000   \n",
       "\n",
       "      jobTitle   loanReason  \n",
       "292  MARKETING  OTHER USAGE  "
      ]
     },
     "execution_count": 9,
     "metadata": {},
     "output_type": "execute_result"
    }
   ],
   "source": [
    "raw_data.query(\"ela == 0.0 and applicationStatus == 'APPROVED'\")"
   ]
  },
  {
   "cell_type": "code",
   "execution_count": 10,
   "metadata": {},
   "outputs": [
    {
     "data": {
      "text/plain": [
       "0"
      ]
     },
     "execution_count": 10,
     "metadata": {},
     "output_type": "execute_result"
    }
   ],
   "source": [
    "# ela NaN handling\n",
    "# In all cases when ela is NaN, the application status is REJECTED. When ela is 0, for most cases the application status is REJECTED apart from 1 unique case where the application status is APPROVED. \n",
    "# It is likely that this unique case is an error in the data or a wrong decision was made as when ela is 0 they should not be eligible for a loan. \n",
    "# The way forward is to replace the NaN with 0 for ela and drop the unique case from the data.\n",
    "\n",
    "data_p1 = raw_data[raw_data['id'] != '2c40878b-aa10-4b65-b27a-9b55dbaba256']\n",
    "data_p1.loc[data_p1['ela'].isna(), 'ela'] = 0.0\n",
    "data_p1['ela'].isna().sum()"
   ]
  },
  {
   "cell_type": "markdown",
   "metadata": {},
   "source": [
    "#### financeAmount - Approved loan amount"
   ]
  },
  {
   "cell_type": "code",
   "execution_count": 11,
   "metadata": {},
   "outputs": [
    {
     "data": {
      "text/html": [
       "<div>\n",
       "<style scoped>\n",
       "    .dataframe tbody tr th:only-of-type {\n",
       "        vertical-align: middle;\n",
       "    }\n",
       "\n",
       "    .dataframe tbody tr th {\n",
       "        vertical-align: top;\n",
       "    }\n",
       "\n",
       "    .dataframe thead th {\n",
       "        text-align: right;\n",
       "    }\n",
       "</style>\n",
       "<table border=\"1\" class=\"dataframe\">\n",
       "  <thead>\n",
       "    <tr style=\"text-align: right;\">\n",
       "      <th></th>\n",
       "      <th>id</th>\n",
       "      <th>ela</th>\n",
       "      <th>financeAmount</th>\n",
       "      <th>address1</th>\n",
       "      <th>address2</th>\n",
       "      <th>address3</th>\n",
       "      <th>state</th>\n",
       "      <th>city</th>\n",
       "      <th>postcode</th>\n",
       "      <th>applicationStatus</th>\n",
       "      <th>netSalary</th>\n",
       "      <th>loanTenure</th>\n",
       "      <th>interestRate</th>\n",
       "      <th>loanApplied</th>\n",
       "      <th>jobTitle</th>\n",
       "      <th>loanReason</th>\n",
       "    </tr>\n",
       "  </thead>\n",
       "  <tbody>\n",
       "    <tr>\n",
       "      <th>15</th>\n",
       "      <td>02c912c4-bb44-4028-88cb-f62814894137</td>\n",
       "      <td>0.0</td>\n",
       "      <td>NaN</td>\n",
       "      <td>802 BLOK C TINGKAT 8</td>\n",
       "      <td>KUARTERS FRU POLIS DEPOH</td>\n",
       "      <td>NaN</td>\n",
       "      <td>JOHOR</td>\n",
       "      <td>JOHOR BAHRU</td>\n",
       "      <td>80250.0</td>\n",
       "      <td>REJECTED</td>\n",
       "      <td>2100.00</td>\n",
       "      <td>24</td>\n",
       "      <td>18</td>\n",
       "      <td>5000</td>\n",
       "      <td>PARTS ASSISTANT</td>\n",
       "      <td>RENOVATION</td>\n",
       "    </tr>\n",
       "    <tr>\n",
       "      <th>17</th>\n",
       "      <td>02f0b3b1-52e4-4051-b71e-d0994fc9f337</td>\n",
       "      <td>0.0</td>\n",
       "      <td>NaN</td>\n",
       "      <td>77 JALAN 3/149D BANDAR BARU</td>\n",
       "      <td>SERI PETALING</td>\n",
       "      <td>NaN</td>\n",
       "      <td>KUALA LUMPUR</td>\n",
       "      <td>KUALA LUMPUR</td>\n",
       "      <td>57000.0</td>\n",
       "      <td>REJECTED</td>\n",
       "      <td>2000.00</td>\n",
       "      <td>24</td>\n",
       "      <td>18</td>\n",
       "      <td>10000</td>\n",
       "      <td>CASHIER</td>\n",
       "      <td>DEBTS CONSOLIDATION</td>\n",
       "    </tr>\n",
       "    <tr>\n",
       "      <th>25</th>\n",
       "      <td>03f3bceb-0d7d-4893-b01a-3bfa9c0de8dd</td>\n",
       "      <td>0.0</td>\n",
       "      <td>NaN</td>\n",
       "      <td>F-9-24</td>\n",
       "      <td>MENTARI COURT</td>\n",
       "      <td>PETALING JAYA, SELANGOR</td>\n",
       "      <td>SELANGOR</td>\n",
       "      <td>PETALING JAYA</td>\n",
       "      <td>46150.0</td>\n",
       "      <td>REJECTED</td>\n",
       "      <td>3500.00</td>\n",
       "      <td>6</td>\n",
       "      <td>18</td>\n",
       "      <td>1100</td>\n",
       "      <td>BUILDING EXECUTIVE</td>\n",
       "      <td>DEBTS CONSOLIDATION</td>\n",
       "    </tr>\n",
       "    <tr>\n",
       "      <th>30</th>\n",
       "      <td>04dd3aff-5539-459d-8966-4bc55fc06a64</td>\n",
       "      <td>0.0</td>\n",
       "      <td>NaN</td>\n",
       "      <td>RL116 JALAN RESTU</td>\n",
       "      <td>RANTAU PERINTIS</td>\n",
       "      <td>BANDAR JENGKA</td>\n",
       "      <td>PAHANG</td>\n",
       "      <td>BANDAR PUSAT JENGKA</td>\n",
       "      <td>26400.0</td>\n",
       "      <td>REJECTED</td>\n",
       "      <td>6725.51</td>\n",
       "      <td>24</td>\n",
       "      <td>18</td>\n",
       "      <td>10000</td>\n",
       "      <td>PHARMACIST</td>\n",
       "      <td>EXPAND BUSINESS</td>\n",
       "    </tr>\n",
       "    <tr>\n",
       "      <th>52</th>\n",
       "      <td>08a39ec5-7e7d-48af-857d-84d696207de6</td>\n",
       "      <td>0.0</td>\n",
       "      <td>NaN</td>\n",
       "      <td>NO 109 JALAN P.I 3</td>\n",
       "      <td>TAMAN PEDAS INDAH</td>\n",
       "      <td>NaN</td>\n",
       "      <td>NEGERI SEMBILAN</td>\n",
       "      <td>REMBAU</td>\n",
       "      <td>71400.0</td>\n",
       "      <td>REJECTED</td>\n",
       "      <td>3000.00</td>\n",
       "      <td>24</td>\n",
       "      <td>18</td>\n",
       "      <td>10000</td>\n",
       "      <td>COURIER</td>\n",
       "      <td>RENOVATION</td>\n",
       "    </tr>\n",
       "  </tbody>\n",
       "</table>\n",
       "</div>"
      ],
      "text/plain": [
       "                                      id  ela  financeAmount  \\\n",
       "15  02c912c4-bb44-4028-88cb-f62814894137  0.0            NaN   \n",
       "17  02f0b3b1-52e4-4051-b71e-d0994fc9f337  0.0            NaN   \n",
       "25  03f3bceb-0d7d-4893-b01a-3bfa9c0de8dd  0.0            NaN   \n",
       "30  04dd3aff-5539-459d-8966-4bc55fc06a64  0.0            NaN   \n",
       "52  08a39ec5-7e7d-48af-857d-84d696207de6  0.0            NaN   \n",
       "\n",
       "                       address1                  address2  \\\n",
       "15         802 BLOK C TINGKAT 8  KUARTERS FRU POLIS DEPOH   \n",
       "17  77 JALAN 3/149D BANDAR BARU             SERI PETALING   \n",
       "25                       F-9-24             MENTARI COURT   \n",
       "30            RL116 JALAN RESTU           RANTAU PERINTIS   \n",
       "52           NO 109 JALAN P.I 3         TAMAN PEDAS INDAH   \n",
       "\n",
       "                   address3            state                 city  postcode  \\\n",
       "15                      NaN            JOHOR          JOHOR BAHRU   80250.0   \n",
       "17                      NaN     KUALA LUMPUR         KUALA LUMPUR   57000.0   \n",
       "25  PETALING JAYA, SELANGOR         SELANGOR        PETALING JAYA   46150.0   \n",
       "30            BANDAR JENGKA           PAHANG  BANDAR PUSAT JENGKA   26400.0   \n",
       "52                      NaN  NEGERI SEMBILAN               REMBAU   71400.0   \n",
       "\n",
       "   applicationStatus  netSalary  loanTenure  interestRate  loanApplied  \\\n",
       "15          REJECTED    2100.00          24            18         5000   \n",
       "17          REJECTED    2000.00          24            18        10000   \n",
       "25          REJECTED    3500.00           6            18         1100   \n",
       "30          REJECTED    6725.51          24            18        10000   \n",
       "52          REJECTED    3000.00          24            18        10000   \n",
       "\n",
       "              jobTitle           loanReason  \n",
       "15     PARTS ASSISTANT           RENOVATION  \n",
       "17             CASHIER  DEBTS CONSOLIDATION  \n",
       "25  BUILDING EXECUTIVE  DEBTS CONSOLIDATION  \n",
       "30          PHARMACIST      EXPAND BUSINESS  \n",
       "52             COURIER           RENOVATION  "
      ]
     },
     "metadata": {},
     "output_type": "display_data"
    },
    {
     "data": {
      "text/plain": [
       "applicationStatus\n",
       "REJECTED    61\n",
       "Name: count, dtype: int64"
      ]
     },
     "execution_count": 11,
     "metadata": {},
     "output_type": "execute_result"
    }
   ],
   "source": [
    "financeAmount_na = data_p1[data_p1['financeAmount'].isna()]\n",
    "display(financeAmount_na.head())\n",
    "financeAmount_na['applicationStatus'].value_counts()"
   ]
  },
  {
   "cell_type": "code",
   "execution_count": 12,
   "metadata": {},
   "outputs": [
    {
     "name": "stdout",
     "output_type": "stream",
     "text": [
      "applicationStatus\n",
      "REJECTED    228\n",
      "Name: count, dtype: int64\n"
     ]
    }
   ],
   "source": [
    "# Check applicationStatus if financeAmount is 0\n",
    "# For all cases when financeAmount is 0, the application status is REJECTED\n",
    "\n",
    "if raw_data['financeAmount'].min() == 0.0:\n",
    "    print(raw_data[raw_data['financeAmount'] == 0.0]['applicationStatus'].value_counts())"
   ]
  },
  {
   "cell_type": "code",
   "execution_count": 13,
   "metadata": {},
   "outputs": [
    {
     "data": {
      "text/plain": [
       "0"
      ]
     },
     "execution_count": 13,
     "metadata": {},
     "output_type": "execute_result"
    }
   ],
   "source": [
    "# Way forward is to replace the NaN with 0 for financeAmount\n",
    "data_p1.loc[data_p1['financeAmount'].isna(), 'financeAmount'] = 0.0\n",
    "data_p1['financeAmount'].isna().sum()"
   ]
  },
  {
   "cell_type": "markdown",
   "metadata": {},
   "source": [
    "#### NaN/Null analysis for nominal data\n",
    "\n",
    "address1  \n",
    "address2  \n",
    "address3  \n",
    "postcode  "
   ]
  },
  {
   "cell_type": "code",
   "execution_count": 14,
   "metadata": {},
   "outputs": [
    {
     "name": "stdout",
     "output_type": "stream",
     "text": [
      "Number of unique values for address1: 960\n",
      "Number of NaN for address1: 2 \n",
      "\n",
      "Number of unique values for address2: 805\n",
      "Number of NaN for address2: 138 \n",
      "\n",
      "Number of unique values for address3: 359\n",
      "Number of NaN for address3: 583 \n",
      "\n",
      "Number of unique values for postcode: 349\n",
      "Number of NaN for postcode: 23 \n",
      "\n"
     ]
    }
   ],
   "source": [
    "nan_nominal = ['address1', 'address2', 'address3', 'postcode']\n",
    "\n",
    "for col in nan_nominal:\n",
    "    print(f'Number of unique values for {col}:',data_p1[col].nunique())\n",
    "    print(f'Number of NaN for {col}:', data_p1[col].isna().sum(), '\\n')"
   ]
  },
  {
   "cell_type": "code",
   "execution_count": 15,
   "metadata": {},
   "outputs": [],
   "source": [
    "# address1, address2, address3 will be dropped for the reasons below:\n",
    "    # They are similar to identifier columns and will not add any value to the model\n",
    "    # They have a lot of NaNs that can't be imputed\n",
    "    # The model should not learn from these columns, as a person's address should not be a part of the model. If the address columns are included, the model will be biased to towards certain addresses of which occupants may change in the future, this includes states and cities.\n",
    "    # It is ethically questionable to reject / approve loans based on the address of the applicant."
   ]
  },
  {
   "cell_type": "code",
   "execution_count": 16,
   "metadata": {},
   "outputs": [
    {
     "data": {
      "text/html": [
       "<div>\n",
       "<style scoped>\n",
       "    .dataframe tbody tr th:only-of-type {\n",
       "        vertical-align: middle;\n",
       "    }\n",
       "\n",
       "    .dataframe tbody tr th {\n",
       "        vertical-align: top;\n",
       "    }\n",
       "\n",
       "    .dataframe thead th {\n",
       "        text-align: right;\n",
       "    }\n",
       "</style>\n",
       "<table border=\"1\" class=\"dataframe\">\n",
       "  <thead>\n",
       "    <tr style=\"text-align: right;\">\n",
       "      <th></th>\n",
       "      <th>count</th>\n",
       "      <th>approved_count</th>\n",
       "      <th>rejected_count</th>\n",
       "      <th>min_salary</th>\n",
       "      <th>max_salary</th>\n",
       "      <th>mean_salary</th>\n",
       "      <th>min_ela</th>\n",
       "      <th>max_ela</th>\n",
       "      <th>mean_ela</th>\n",
       "      <th>min_loan</th>\n",
       "      <th>max_loan</th>\n",
       "      <th>mean_loan</th>\n",
       "    </tr>\n",
       "    <tr>\n",
       "      <th>postcode</th>\n",
       "      <th></th>\n",
       "      <th></th>\n",
       "      <th></th>\n",
       "      <th></th>\n",
       "      <th></th>\n",
       "      <th></th>\n",
       "      <th></th>\n",
       "      <th></th>\n",
       "      <th></th>\n",
       "      <th></th>\n",
       "      <th></th>\n",
       "      <th></th>\n",
       "    </tr>\n",
       "  </thead>\n",
       "  <tbody>\n",
       "    <tr>\n",
       "      <th>71300.0</th>\n",
       "      <td>3</td>\n",
       "      <td>1</td>\n",
       "      <td>2</td>\n",
       "      <td>2400.00</td>\n",
       "      <td>3700.00</td>\n",
       "      <td>2898.666667</td>\n",
       "      <td>19000.0</td>\n",
       "      <td>34000.0</td>\n",
       "      <td>26000.000000</td>\n",
       "      <td>2000</td>\n",
       "      <td>6400</td>\n",
       "      <td>3966.666667</td>\n",
       "    </tr>\n",
       "    <tr>\n",
       "      <th>20300.0</th>\n",
       "      <td>1</td>\n",
       "      <td>0</td>\n",
       "      <td>1</td>\n",
       "      <td>3695.00</td>\n",
       "      <td>3695.00</td>\n",
       "      <td>3695.000000</td>\n",
       "      <td>0.0</td>\n",
       "      <td>0.0</td>\n",
       "      <td>0.000000</td>\n",
       "      <td>5000</td>\n",
       "      <td>5000</td>\n",
       "      <td>5000.000000</td>\n",
       "    </tr>\n",
       "    <tr>\n",
       "      <th>77500.0</th>\n",
       "      <td>1</td>\n",
       "      <td>0</td>\n",
       "      <td>1</td>\n",
       "      <td>2136.42</td>\n",
       "      <td>2136.42</td>\n",
       "      <td>2136.420000</td>\n",
       "      <td>22000.0</td>\n",
       "      <td>22000.0</td>\n",
       "      <td>22000.000000</td>\n",
       "      <td>3500</td>\n",
       "      <td>3500</td>\n",
       "      <td>3500.000000</td>\n",
       "    </tr>\n",
       "    <tr>\n",
       "      <th>48300.0</th>\n",
       "      <td>1</td>\n",
       "      <td>0</td>\n",
       "      <td>1</td>\n",
       "      <td>3500.00</td>\n",
       "      <td>3500.00</td>\n",
       "      <td>3500.000000</td>\n",
       "      <td>43000.0</td>\n",
       "      <td>43000.0</td>\n",
       "      <td>43000.000000</td>\n",
       "      <td>3000</td>\n",
       "      <td>3000</td>\n",
       "      <td>3000.000000</td>\n",
       "    </tr>\n",
       "    <tr>\n",
       "      <th>75200.0</th>\n",
       "      <td>1</td>\n",
       "      <td>0</td>\n",
       "      <td>1</td>\n",
       "      <td>3000.00</td>\n",
       "      <td>3000.00</td>\n",
       "      <td>3000.000000</td>\n",
       "      <td>19000.0</td>\n",
       "      <td>19000.0</td>\n",
       "      <td>19000.000000</td>\n",
       "      <td>10000</td>\n",
       "      <td>10000</td>\n",
       "      <td>10000.000000</td>\n",
       "    </tr>\n",
       "    <tr>\n",
       "      <th>89747.0</th>\n",
       "      <td>1</td>\n",
       "      <td>0</td>\n",
       "      <td>1</td>\n",
       "      <td>3263.00</td>\n",
       "      <td>3263.00</td>\n",
       "      <td>3263.000000</td>\n",
       "      <td>0.0</td>\n",
       "      <td>0.0</td>\n",
       "      <td>0.000000</td>\n",
       "      <td>4000</td>\n",
       "      <td>4000</td>\n",
       "      <td>4000.000000</td>\n",
       "    </tr>\n",
       "    <tr>\n",
       "      <th>14100.0</th>\n",
       "      <td>3</td>\n",
       "      <td>0</td>\n",
       "      <td>3</td>\n",
       "      <td>2900.00</td>\n",
       "      <td>3700.00</td>\n",
       "      <td>3366.666667</td>\n",
       "      <td>10000.0</td>\n",
       "      <td>29000.0</td>\n",
       "      <td>19333.333333</td>\n",
       "      <td>1500</td>\n",
       "      <td>3000</td>\n",
       "      <td>2033.333333</td>\n",
       "    </tr>\n",
       "    <tr>\n",
       "      <th>31100.0</th>\n",
       "      <td>1</td>\n",
       "      <td>0</td>\n",
       "      <td>1</td>\n",
       "      <td>3800.00</td>\n",
       "      <td>3800.00</td>\n",
       "      <td>3800.000000</td>\n",
       "      <td>12000.0</td>\n",
       "      <td>12000.0</td>\n",
       "      <td>12000.000000</td>\n",
       "      <td>5000</td>\n",
       "      <td>5000</td>\n",
       "      <td>5000.000000</td>\n",
       "    </tr>\n",
       "    <tr>\n",
       "      <th>34300.0</th>\n",
       "      <td>1</td>\n",
       "      <td>1</td>\n",
       "      <td>0</td>\n",
       "      <td>5500.00</td>\n",
       "      <td>5500.00</td>\n",
       "      <td>5500.000000</td>\n",
       "      <td>43000.0</td>\n",
       "      <td>43000.0</td>\n",
       "      <td>43000.000000</td>\n",
       "      <td>3000</td>\n",
       "      <td>3000</td>\n",
       "      <td>3000.000000</td>\n",
       "    </tr>\n",
       "    <tr>\n",
       "      <th>54100.0</th>\n",
       "      <td>1</td>\n",
       "      <td>0</td>\n",
       "      <td>1</td>\n",
       "      <td>3874.00</td>\n",
       "      <td>3874.00</td>\n",
       "      <td>3874.000000</td>\n",
       "      <td>7000.0</td>\n",
       "      <td>7000.0</td>\n",
       "      <td>7000.000000</td>\n",
       "      <td>1000</td>\n",
       "      <td>1000</td>\n",
       "      <td>1000.000000</td>\n",
       "    </tr>\n",
       "    <tr>\n",
       "      <th>31920.0</th>\n",
       "      <td>1</td>\n",
       "      <td>1</td>\n",
       "      <td>0</td>\n",
       "      <td>2500.00</td>\n",
       "      <td>2500.00</td>\n",
       "      <td>2500.000000</td>\n",
       "      <td>26000.0</td>\n",
       "      <td>26000.0</td>\n",
       "      <td>26000.000000</td>\n",
       "      <td>10000</td>\n",
       "      <td>10000</td>\n",
       "      <td>10000.000000</td>\n",
       "    </tr>\n",
       "    <tr>\n",
       "      <th>5400.0</th>\n",
       "      <td>3</td>\n",
       "      <td>0</td>\n",
       "      <td>3</td>\n",
       "      <td>1500.00</td>\n",
       "      <td>2200.00</td>\n",
       "      <td>1866.666667</td>\n",
       "      <td>0.0</td>\n",
       "      <td>15000.0</td>\n",
       "      <td>5000.000000</td>\n",
       "      <td>2400</td>\n",
       "      <td>10000</td>\n",
       "      <td>5800.000000</td>\n",
       "    </tr>\n",
       "    <tr>\n",
       "      <th>47630.0</th>\n",
       "      <td>1</td>\n",
       "      <td>1</td>\n",
       "      <td>0</td>\n",
       "      <td>2790.00</td>\n",
       "      <td>2790.00</td>\n",
       "      <td>2790.000000</td>\n",
       "      <td>16000.0</td>\n",
       "      <td>16000.0</td>\n",
       "      <td>16000.000000</td>\n",
       "      <td>10000</td>\n",
       "      <td>10000</td>\n",
       "      <td>10000.000000</td>\n",
       "    </tr>\n",
       "    <tr>\n",
       "      <th>33100.0</th>\n",
       "      <td>2</td>\n",
       "      <td>0</td>\n",
       "      <td>2</td>\n",
       "      <td>1658.98</td>\n",
       "      <td>1990.59</td>\n",
       "      <td>1824.785000</td>\n",
       "      <td>0.0</td>\n",
       "      <td>16000.0</td>\n",
       "      <td>8000.000000</td>\n",
       "      <td>5000</td>\n",
       "      <td>10000</td>\n",
       "      <td>7500.000000</td>\n",
       "    </tr>\n",
       "    <tr>\n",
       "      <th>89800.0</th>\n",
       "      <td>1</td>\n",
       "      <td>0</td>\n",
       "      <td>1</td>\n",
       "      <td>1000.00</td>\n",
       "      <td>1000.00</td>\n",
       "      <td>1000.000000</td>\n",
       "      <td>0.0</td>\n",
       "      <td>0.0</td>\n",
       "      <td>0.000000</td>\n",
       "      <td>2000</td>\n",
       "      <td>2000</td>\n",
       "      <td>2000.000000</td>\n",
       "    </tr>\n",
       "    <tr>\n",
       "      <th>42000.0</th>\n",
       "      <td>3</td>\n",
       "      <td>0</td>\n",
       "      <td>3</td>\n",
       "      <td>2150.00</td>\n",
       "      <td>6000.00</td>\n",
       "      <td>3916.666667</td>\n",
       "      <td>0.0</td>\n",
       "      <td>74000.0</td>\n",
       "      <td>26000.000000</td>\n",
       "      <td>1000</td>\n",
       "      <td>10000</td>\n",
       "      <td>7000.000000</td>\n",
       "    </tr>\n",
       "    <tr>\n",
       "      <th>6050.0</th>\n",
       "      <td>1</td>\n",
       "      <td>0</td>\n",
       "      <td>1</td>\n",
       "      <td>2780.00</td>\n",
       "      <td>2780.00</td>\n",
       "      <td>2780.000000</td>\n",
       "      <td>0.0</td>\n",
       "      <td>0.0</td>\n",
       "      <td>0.000000</td>\n",
       "      <td>5500</td>\n",
       "      <td>5500</td>\n",
       "      <td>5500.000000</td>\n",
       "    </tr>\n",
       "    <tr>\n",
       "      <th>6500.0</th>\n",
       "      <td>1</td>\n",
       "      <td>1</td>\n",
       "      <td>0</td>\n",
       "      <td>2800.00</td>\n",
       "      <td>2800.00</td>\n",
       "      <td>2800.000000</td>\n",
       "      <td>29000.0</td>\n",
       "      <td>29000.0</td>\n",
       "      <td>29000.000000</td>\n",
       "      <td>5100</td>\n",
       "      <td>5100</td>\n",
       "      <td>5100.000000</td>\n",
       "    </tr>\n",
       "    <tr>\n",
       "      <th>56000.0</th>\n",
       "      <td>10</td>\n",
       "      <td>2</td>\n",
       "      <td>8</td>\n",
       "      <td>1767.00</td>\n",
       "      <td>9500.00</td>\n",
       "      <td>3882.780000</td>\n",
       "      <td>0.0</td>\n",
       "      <td>43000.0</td>\n",
       "      <td>16000.000000</td>\n",
       "      <td>2000</td>\n",
       "      <td>10000</td>\n",
       "      <td>5650.000000</td>\n",
       "    </tr>\n",
       "    <tr>\n",
       "      <th>91000.0</th>\n",
       "      <td>1</td>\n",
       "      <td>0</td>\n",
       "      <td>1</td>\n",
       "      <td>2613.00</td>\n",
       "      <td>2613.00</td>\n",
       "      <td>2613.000000</td>\n",
       "      <td>0.0</td>\n",
       "      <td>0.0</td>\n",
       "      <td>0.000000</td>\n",
       "      <td>2500</td>\n",
       "      <td>2500</td>\n",
       "      <td>2500.000000</td>\n",
       "    </tr>\n",
       "  </tbody>\n",
       "</table>\n",
       "</div>"
      ],
      "text/plain": [
       "          count  approved_count  rejected_count  min_salary  max_salary  \\\n",
       "postcode                                                                  \n",
       "71300.0       3               1               2     2400.00     3700.00   \n",
       "20300.0       1               0               1     3695.00     3695.00   \n",
       "77500.0       1               0               1     2136.42     2136.42   \n",
       "48300.0       1               0               1     3500.00     3500.00   \n",
       "75200.0       1               0               1     3000.00     3000.00   \n",
       "89747.0       1               0               1     3263.00     3263.00   \n",
       "14100.0       3               0               3     2900.00     3700.00   \n",
       "31100.0       1               0               1     3800.00     3800.00   \n",
       "34300.0       1               1               0     5500.00     5500.00   \n",
       "54100.0       1               0               1     3874.00     3874.00   \n",
       "31920.0       1               1               0     2500.00     2500.00   \n",
       "5400.0        3               0               3     1500.00     2200.00   \n",
       "47630.0       1               1               0     2790.00     2790.00   \n",
       "33100.0       2               0               2     1658.98     1990.59   \n",
       "89800.0       1               0               1     1000.00     1000.00   \n",
       "42000.0       3               0               3     2150.00     6000.00   \n",
       "6050.0        1               0               1     2780.00     2780.00   \n",
       "6500.0        1               1               0     2800.00     2800.00   \n",
       "56000.0      10               2               8     1767.00     9500.00   \n",
       "91000.0       1               0               1     2613.00     2613.00   \n",
       "\n",
       "          mean_salary  min_ela  max_ela      mean_ela  min_loan  max_loan  \\\n",
       "postcode                                                                    \n",
       "71300.0   2898.666667  19000.0  34000.0  26000.000000      2000      6400   \n",
       "20300.0   3695.000000      0.0      0.0      0.000000      5000      5000   \n",
       "77500.0   2136.420000  22000.0  22000.0  22000.000000      3500      3500   \n",
       "48300.0   3500.000000  43000.0  43000.0  43000.000000      3000      3000   \n",
       "75200.0   3000.000000  19000.0  19000.0  19000.000000     10000     10000   \n",
       "89747.0   3263.000000      0.0      0.0      0.000000      4000      4000   \n",
       "14100.0   3366.666667  10000.0  29000.0  19333.333333      1500      3000   \n",
       "31100.0   3800.000000  12000.0  12000.0  12000.000000      5000      5000   \n",
       "34300.0   5500.000000  43000.0  43000.0  43000.000000      3000      3000   \n",
       "54100.0   3874.000000   7000.0   7000.0   7000.000000      1000      1000   \n",
       "31920.0   2500.000000  26000.0  26000.0  26000.000000     10000     10000   \n",
       "5400.0    1866.666667      0.0  15000.0   5000.000000      2400     10000   \n",
       "47630.0   2790.000000  16000.0  16000.0  16000.000000     10000     10000   \n",
       "33100.0   1824.785000      0.0  16000.0   8000.000000      5000     10000   \n",
       "89800.0   1000.000000      0.0      0.0      0.000000      2000      2000   \n",
       "42000.0   3916.666667      0.0  74000.0  26000.000000      1000     10000   \n",
       "6050.0    2780.000000      0.0      0.0      0.000000      5500      5500   \n",
       "6500.0    2800.000000  29000.0  29000.0  29000.000000      5100      5100   \n",
       "56000.0   3882.780000      0.0  43000.0  16000.000000      2000     10000   \n",
       "91000.0   2613.000000      0.0      0.0      0.000000      2500      2500   \n",
       "\n",
       "             mean_loan  \n",
       "postcode                \n",
       "71300.0    3966.666667  \n",
       "20300.0    5000.000000  \n",
       "77500.0    3500.000000  \n",
       "48300.0    3000.000000  \n",
       "75200.0   10000.000000  \n",
       "89747.0    4000.000000  \n",
       "14100.0    2033.333333  \n",
       "31100.0    5000.000000  \n",
       "34300.0    3000.000000  \n",
       "54100.0    1000.000000  \n",
       "31920.0   10000.000000  \n",
       "5400.0     5800.000000  \n",
       "47630.0   10000.000000  \n",
       "33100.0    7500.000000  \n",
       "89800.0    2000.000000  \n",
       "42000.0    7000.000000  \n",
       "6050.0     5500.000000  \n",
       "6500.0     5100.000000  \n",
       "56000.0    5650.000000  \n",
       "91000.0    2500.000000  "
      ]
     },
     "execution_count": 16,
     "metadata": {},
     "output_type": "execute_result"
    }
   ],
   "source": [
    "# The postcode also has similar issues to address but it is not as unique and is linked to a certain areas or regions. While including the postcode as a model input will cause similar issues as the address features but to lesser extent, exploring it will yield more insight.\n",
    "postcode_stats = data_p1.groupby('postcode').agg(\n",
    "    count = ('postcode', 'count'),\n",
    "    approved_count=('applicationStatus', lambda x: (x == 'APPROVED').sum()),  \n",
    "    rejected_count=('applicationStatus', lambda x: (x == 'REJECTED').sum()), \n",
    "    min_salary  = ('netSalary', 'min'),\n",
    "    max_salary = ('netSalary', 'max'),\n",
    "    mean_salary = ('netSalary', 'mean'),\n",
    "    min_ela = ('ela', 'min'),\n",
    "    max_ela = ('ela', 'max'),\n",
    "    mean_ela = ('ela', 'mean'),\n",
    "    min_loan=('loanApplied', 'min'),\n",
    "    max_loan=('loanApplied', 'max'),\n",
    "    mean_loan=('loanApplied', 'mean')\n",
    ").sort_values(by='count', ascending=False)\n",
    "\n",
    "postcode_stats.sample(20)"
   ]
  },
  {
   "cell_type": "code",
   "execution_count": 17,
   "metadata": {},
   "outputs": [
    {
     "name": "stdout",
     "output_type": "stream",
     "text": [
      "Count of a single unique postcode: 151\n",
      "Count of unique postcode: 349\n"
     ]
    }
   ],
   "source": [
    "postcode_counts = data_p1['postcode'].value_counts()\n",
    "count_of_single_postcode = len(postcode_counts[postcode_counts == 1])\n",
    "print(\"Count of a single unique postcode:\", count_of_single_postcode)\n",
    "print(\"Count of unique postcode:\",len(postcode_counts))"
   ]
  },
  {
   "cell_type": "code",
   "execution_count": 18,
   "metadata": {},
   "outputs": [
    {
     "name": "stderr",
     "output_type": "stream",
     "text": [
      "c:\\Users\\aahmadsazali\\anaconda3\\envs\\nowcast\\Lib\\site-packages\\plotly\\express\\_core.py:2065: FutureWarning: When grouping with a length-1 list-like, you will need to pass a length-1 tuple to get_group in a future version of pandas. Pass `(name,)` instead of `name` to silence this warning.\n",
      "  sf: grouped.get_group(s if len(s) > 1 else s[0])\n"
     ]
    },
    {
     "data": {
      "application/vnd.plotly.v1+json": {
       "config": {
        "plotlyServerURL": "https://plot.ly"
       },
       "data": [
        {
         "alignmentgroup": "True",
         "hovertemplate": "applicationStatus=APPROVED<br>state=%{x}<br>count=%{y}<extra></extra>",
         "legendgroup": "APPROVED",
         "marker": {
          "color": "#636efa",
          "pattern": {
           "shape": ""
          }
         },
         "name": "APPROVED",
         "offsetgroup": "APPROVED",
         "orientation": "v",
         "showlegend": true,
         "textposition": "auto",
         "type": "bar",
         "x": [
          "JOHOR",
          "KEDAH",
          "KELANTAN",
          "KUALA LUMPUR",
          "LBN",
          "MELAKA",
          "NEGERI SEMBILAN",
          "PAHANG",
          "PENANG",
          "PERAK",
          "PERLIS",
          "PUTRAJAYA",
          "SABAH",
          "SARAWAK",
          "SELANGOR",
          "TERENGGANU"
         ],
         "xaxis": "x",
         "y": [
          19,
          25,
          5,
          17,
          1,
          15,
          16,
          11,
          18,
          16,
          1,
          2,
          5,
          8,
          49,
          3
         ],
         "yaxis": "y"
        },
        {
         "alignmentgroup": "True",
         "hovertemplate": "applicationStatus=REJECTED<br>state=%{x}<br>count=%{y}<extra></extra>",
         "legendgroup": "REJECTED",
         "marker": {
          "color": "#EF553B",
          "pattern": {
           "shape": ""
          }
         },
         "name": "REJECTED",
         "offsetgroup": "REJECTED",
         "orientation": "v",
         "showlegend": true,
         "textposition": "auto",
         "type": "bar",
         "x": [
          "JOHOR",
          "KEDAH",
          "KELANTAN",
          "KUALA LUMPUR",
          "KUANTAN",
          "LBN",
          "MELAKA",
          "NEGERI SEMBILAN",
          "PAHANG",
          "PENANG",
          "PERAK",
          "PERLIS",
          "PUTRAJAYA",
          "SABAH",
          "SARAWAK",
          "SELANGOR",
          "TERENGGANU"
         ],
         "xaxis": "x",
         "y": [
          88,
          74,
          17,
          69,
          1,
          2,
          50,
          54,
          22,
          74,
          67,
          10,
          13,
          19,
          28,
          189,
          11
         ],
         "yaxis": "y"
        }
       ],
       "layout": {
        "barmode": "relative",
        "height": 700,
        "legend": {
         "title": {
          "text": "applicationStatus"
         },
         "tracegroupgap": 0
        },
        "template": {
         "data": {
          "bar": [
           {
            "error_x": {
             "color": "#2a3f5f"
            },
            "error_y": {
             "color": "#2a3f5f"
            },
            "marker": {
             "line": {
              "color": "#E5ECF6",
              "width": 0.5
             },
             "pattern": {
              "fillmode": "overlay",
              "size": 10,
              "solidity": 0.2
             }
            },
            "type": "bar"
           }
          ],
          "barpolar": [
           {
            "marker": {
             "line": {
              "color": "#E5ECF6",
              "width": 0.5
             },
             "pattern": {
              "fillmode": "overlay",
              "size": 10,
              "solidity": 0.2
             }
            },
            "type": "barpolar"
           }
          ],
          "carpet": [
           {
            "aaxis": {
             "endlinecolor": "#2a3f5f",
             "gridcolor": "white",
             "linecolor": "white",
             "minorgridcolor": "white",
             "startlinecolor": "#2a3f5f"
            },
            "baxis": {
             "endlinecolor": "#2a3f5f",
             "gridcolor": "white",
             "linecolor": "white",
             "minorgridcolor": "white",
             "startlinecolor": "#2a3f5f"
            },
            "type": "carpet"
           }
          ],
          "choropleth": [
           {
            "colorbar": {
             "outlinewidth": 0,
             "ticks": ""
            },
            "type": "choropleth"
           }
          ],
          "contour": [
           {
            "colorbar": {
             "outlinewidth": 0,
             "ticks": ""
            },
            "colorscale": [
             [
              0,
              "#0d0887"
             ],
             [
              0.1111111111111111,
              "#46039f"
             ],
             [
              0.2222222222222222,
              "#7201a8"
             ],
             [
              0.3333333333333333,
              "#9c179e"
             ],
             [
              0.4444444444444444,
              "#bd3786"
             ],
             [
              0.5555555555555556,
              "#d8576b"
             ],
             [
              0.6666666666666666,
              "#ed7953"
             ],
             [
              0.7777777777777778,
              "#fb9f3a"
             ],
             [
              0.8888888888888888,
              "#fdca26"
             ],
             [
              1,
              "#f0f921"
             ]
            ],
            "type": "contour"
           }
          ],
          "contourcarpet": [
           {
            "colorbar": {
             "outlinewidth": 0,
             "ticks": ""
            },
            "type": "contourcarpet"
           }
          ],
          "heatmap": [
           {
            "colorbar": {
             "outlinewidth": 0,
             "ticks": ""
            },
            "colorscale": [
             [
              0,
              "#0d0887"
             ],
             [
              0.1111111111111111,
              "#46039f"
             ],
             [
              0.2222222222222222,
              "#7201a8"
             ],
             [
              0.3333333333333333,
              "#9c179e"
             ],
             [
              0.4444444444444444,
              "#bd3786"
             ],
             [
              0.5555555555555556,
              "#d8576b"
             ],
             [
              0.6666666666666666,
              "#ed7953"
             ],
             [
              0.7777777777777778,
              "#fb9f3a"
             ],
             [
              0.8888888888888888,
              "#fdca26"
             ],
             [
              1,
              "#f0f921"
             ]
            ],
            "type": "heatmap"
           }
          ],
          "heatmapgl": [
           {
            "colorbar": {
             "outlinewidth": 0,
             "ticks": ""
            },
            "colorscale": [
             [
              0,
              "#0d0887"
             ],
             [
              0.1111111111111111,
              "#46039f"
             ],
             [
              0.2222222222222222,
              "#7201a8"
             ],
             [
              0.3333333333333333,
              "#9c179e"
             ],
             [
              0.4444444444444444,
              "#bd3786"
             ],
             [
              0.5555555555555556,
              "#d8576b"
             ],
             [
              0.6666666666666666,
              "#ed7953"
             ],
             [
              0.7777777777777778,
              "#fb9f3a"
             ],
             [
              0.8888888888888888,
              "#fdca26"
             ],
             [
              1,
              "#f0f921"
             ]
            ],
            "type": "heatmapgl"
           }
          ],
          "histogram": [
           {
            "marker": {
             "pattern": {
              "fillmode": "overlay",
              "size": 10,
              "solidity": 0.2
             }
            },
            "type": "histogram"
           }
          ],
          "histogram2d": [
           {
            "colorbar": {
             "outlinewidth": 0,
             "ticks": ""
            },
            "colorscale": [
             [
              0,
              "#0d0887"
             ],
             [
              0.1111111111111111,
              "#46039f"
             ],
             [
              0.2222222222222222,
              "#7201a8"
             ],
             [
              0.3333333333333333,
              "#9c179e"
             ],
             [
              0.4444444444444444,
              "#bd3786"
             ],
             [
              0.5555555555555556,
              "#d8576b"
             ],
             [
              0.6666666666666666,
              "#ed7953"
             ],
             [
              0.7777777777777778,
              "#fb9f3a"
             ],
             [
              0.8888888888888888,
              "#fdca26"
             ],
             [
              1,
              "#f0f921"
             ]
            ],
            "type": "histogram2d"
           }
          ],
          "histogram2dcontour": [
           {
            "colorbar": {
             "outlinewidth": 0,
             "ticks": ""
            },
            "colorscale": [
             [
              0,
              "#0d0887"
             ],
             [
              0.1111111111111111,
              "#46039f"
             ],
             [
              0.2222222222222222,
              "#7201a8"
             ],
             [
              0.3333333333333333,
              "#9c179e"
             ],
             [
              0.4444444444444444,
              "#bd3786"
             ],
             [
              0.5555555555555556,
              "#d8576b"
             ],
             [
              0.6666666666666666,
              "#ed7953"
             ],
             [
              0.7777777777777778,
              "#fb9f3a"
             ],
             [
              0.8888888888888888,
              "#fdca26"
             ],
             [
              1,
              "#f0f921"
             ]
            ],
            "type": "histogram2dcontour"
           }
          ],
          "mesh3d": [
           {
            "colorbar": {
             "outlinewidth": 0,
             "ticks": ""
            },
            "type": "mesh3d"
           }
          ],
          "parcoords": [
           {
            "line": {
             "colorbar": {
              "outlinewidth": 0,
              "ticks": ""
             }
            },
            "type": "parcoords"
           }
          ],
          "pie": [
           {
            "automargin": true,
            "type": "pie"
           }
          ],
          "scatter": [
           {
            "fillpattern": {
             "fillmode": "overlay",
             "size": 10,
             "solidity": 0.2
            },
            "type": "scatter"
           }
          ],
          "scatter3d": [
           {
            "line": {
             "colorbar": {
              "outlinewidth": 0,
              "ticks": ""
             }
            },
            "marker": {
             "colorbar": {
              "outlinewidth": 0,
              "ticks": ""
             }
            },
            "type": "scatter3d"
           }
          ],
          "scattercarpet": [
           {
            "marker": {
             "colorbar": {
              "outlinewidth": 0,
              "ticks": ""
             }
            },
            "type": "scattercarpet"
           }
          ],
          "scattergeo": [
           {
            "marker": {
             "colorbar": {
              "outlinewidth": 0,
              "ticks": ""
             }
            },
            "type": "scattergeo"
           }
          ],
          "scattergl": [
           {
            "marker": {
             "colorbar": {
              "outlinewidth": 0,
              "ticks": ""
             }
            },
            "type": "scattergl"
           }
          ],
          "scattermapbox": [
           {
            "marker": {
             "colorbar": {
              "outlinewidth": 0,
              "ticks": ""
             }
            },
            "type": "scattermapbox"
           }
          ],
          "scatterpolar": [
           {
            "marker": {
             "colorbar": {
              "outlinewidth": 0,
              "ticks": ""
             }
            },
            "type": "scatterpolar"
           }
          ],
          "scatterpolargl": [
           {
            "marker": {
             "colorbar": {
              "outlinewidth": 0,
              "ticks": ""
             }
            },
            "type": "scatterpolargl"
           }
          ],
          "scatterternary": [
           {
            "marker": {
             "colorbar": {
              "outlinewidth": 0,
              "ticks": ""
             }
            },
            "type": "scatterternary"
           }
          ],
          "surface": [
           {
            "colorbar": {
             "outlinewidth": 0,
             "ticks": ""
            },
            "colorscale": [
             [
              0,
              "#0d0887"
             ],
             [
              0.1111111111111111,
              "#46039f"
             ],
             [
              0.2222222222222222,
              "#7201a8"
             ],
             [
              0.3333333333333333,
              "#9c179e"
             ],
             [
              0.4444444444444444,
              "#bd3786"
             ],
             [
              0.5555555555555556,
              "#d8576b"
             ],
             [
              0.6666666666666666,
              "#ed7953"
             ],
             [
              0.7777777777777778,
              "#fb9f3a"
             ],
             [
              0.8888888888888888,
              "#fdca26"
             ],
             [
              1,
              "#f0f921"
             ]
            ],
            "type": "surface"
           }
          ],
          "table": [
           {
            "cells": {
             "fill": {
              "color": "#EBF0F8"
             },
             "line": {
              "color": "white"
             }
            },
            "header": {
             "fill": {
              "color": "#C8D4E3"
             },
             "line": {
              "color": "white"
             }
            },
            "type": "table"
           }
          ]
         },
         "layout": {
          "annotationdefaults": {
           "arrowcolor": "#2a3f5f",
           "arrowhead": 0,
           "arrowwidth": 1
          },
          "autotypenumbers": "strict",
          "coloraxis": {
           "colorbar": {
            "outlinewidth": 0,
            "ticks": ""
           }
          },
          "colorscale": {
           "diverging": [
            [
             0,
             "#8e0152"
            ],
            [
             0.1,
             "#c51b7d"
            ],
            [
             0.2,
             "#de77ae"
            ],
            [
             0.3,
             "#f1b6da"
            ],
            [
             0.4,
             "#fde0ef"
            ],
            [
             0.5,
             "#f7f7f7"
            ],
            [
             0.6,
             "#e6f5d0"
            ],
            [
             0.7,
             "#b8e186"
            ],
            [
             0.8,
             "#7fbc41"
            ],
            [
             0.9,
             "#4d9221"
            ],
            [
             1,
             "#276419"
            ]
           ],
           "sequential": [
            [
             0,
             "#0d0887"
            ],
            [
             0.1111111111111111,
             "#46039f"
            ],
            [
             0.2222222222222222,
             "#7201a8"
            ],
            [
             0.3333333333333333,
             "#9c179e"
            ],
            [
             0.4444444444444444,
             "#bd3786"
            ],
            [
             0.5555555555555556,
             "#d8576b"
            ],
            [
             0.6666666666666666,
             "#ed7953"
            ],
            [
             0.7777777777777778,
             "#fb9f3a"
            ],
            [
             0.8888888888888888,
             "#fdca26"
            ],
            [
             1,
             "#f0f921"
            ]
           ],
           "sequentialminus": [
            [
             0,
             "#0d0887"
            ],
            [
             0.1111111111111111,
             "#46039f"
            ],
            [
             0.2222222222222222,
             "#7201a8"
            ],
            [
             0.3333333333333333,
             "#9c179e"
            ],
            [
             0.4444444444444444,
             "#bd3786"
            ],
            [
             0.5555555555555556,
             "#d8576b"
            ],
            [
             0.6666666666666666,
             "#ed7953"
            ],
            [
             0.7777777777777778,
             "#fb9f3a"
            ],
            [
             0.8888888888888888,
             "#fdca26"
            ],
            [
             1,
             "#f0f921"
            ]
           ]
          },
          "colorway": [
           "#636efa",
           "#EF553B",
           "#00cc96",
           "#ab63fa",
           "#FFA15A",
           "#19d3f3",
           "#FF6692",
           "#B6E880",
           "#FF97FF",
           "#FECB52"
          ],
          "font": {
           "color": "#2a3f5f"
          },
          "geo": {
           "bgcolor": "white",
           "lakecolor": "white",
           "landcolor": "#E5ECF6",
           "showlakes": true,
           "showland": true,
           "subunitcolor": "white"
          },
          "hoverlabel": {
           "align": "left"
          },
          "hovermode": "closest",
          "mapbox": {
           "style": "light"
          },
          "paper_bgcolor": "white",
          "plot_bgcolor": "#E5ECF6",
          "polar": {
           "angularaxis": {
            "gridcolor": "white",
            "linecolor": "white",
            "ticks": ""
           },
           "bgcolor": "#E5ECF6",
           "radialaxis": {
            "gridcolor": "white",
            "linecolor": "white",
            "ticks": ""
           }
          },
          "scene": {
           "xaxis": {
            "backgroundcolor": "#E5ECF6",
            "gridcolor": "white",
            "gridwidth": 2,
            "linecolor": "white",
            "showbackground": true,
            "ticks": "",
            "zerolinecolor": "white"
           },
           "yaxis": {
            "backgroundcolor": "#E5ECF6",
            "gridcolor": "white",
            "gridwidth": 2,
            "linecolor": "white",
            "showbackground": true,
            "ticks": "",
            "zerolinecolor": "white"
           },
           "zaxis": {
            "backgroundcolor": "#E5ECF6",
            "gridcolor": "white",
            "gridwidth": 2,
            "linecolor": "white",
            "showbackground": true,
            "ticks": "",
            "zerolinecolor": "white"
           }
          },
          "shapedefaults": {
           "line": {
            "color": "#2a3f5f"
           }
          },
          "ternary": {
           "aaxis": {
            "gridcolor": "white",
            "linecolor": "white",
            "ticks": ""
           },
           "baxis": {
            "gridcolor": "white",
            "linecolor": "white",
            "ticks": ""
           },
           "bgcolor": "#E5ECF6",
           "caxis": {
            "gridcolor": "white",
            "linecolor": "white",
            "ticks": ""
           }
          },
          "title": {
           "x": 0.05
          },
          "xaxis": {
           "automargin": true,
           "gridcolor": "white",
           "linecolor": "white",
           "ticks": "",
           "title": {
            "standoff": 15
           },
           "zerolinecolor": "white",
           "zerolinewidth": 2
          },
          "yaxis": {
           "automargin": true,
           "gridcolor": "white",
           "linecolor": "white",
           "ticks": "",
           "title": {
            "standoff": 15
           },
           "zerolinecolor": "white",
           "zerolinewidth": 2
          }
         }
        },
        "title": {
         "text": "Application Status by State"
        },
        "width": 1200,
        "xaxis": {
         "anchor": "y",
         "domain": [
          0,
          1
         ],
         "title": {
          "text": "state"
         }
        },
        "yaxis": {
         "anchor": "x",
         "domain": [
          0,
          1
         ],
         "title": {
          "text": "count"
         }
        }
       }
      }
     },
     "metadata": {},
     "output_type": "display_data"
    }
   ],
   "source": [
    "# Additional analysis for applicationStatus by state\n",
    "# It appears that state has minimal effect on applicationStatus. Moreover it is not a feature that should be included in the model due to potential discrimination.\n",
    "agg_data = data_p1.groupby(['state', 'applicationStatus']).size().reset_index(name='count')\n",
    "\n",
    "fig = px.bar(agg_data, x='state', y='count', color='applicationStatus', \n",
    "             width=1200, height=700, title='Application Status by State')\n",
    "fig.show()"
   ]
  },
  {
   "cell_type": "code",
   "execution_count": 19,
   "metadata": {},
   "outputs": [
    {
     "data": {
      "text/html": [
       "<div>\n",
       "<style scoped>\n",
       "    .dataframe tbody tr th:only-of-type {\n",
       "        vertical-align: middle;\n",
       "    }\n",
       "\n",
       "    .dataframe tbody tr th {\n",
       "        vertical-align: top;\n",
       "    }\n",
       "\n",
       "    .dataframe thead th {\n",
       "        text-align: right;\n",
       "    }\n",
       "</style>\n",
       "<table border=\"1\" class=\"dataframe\">\n",
       "  <thead>\n",
       "    <tr style=\"text-align: right;\">\n",
       "      <th></th>\n",
       "      <th>ela</th>\n",
       "      <th>financeAmount</th>\n",
       "      <th>applicationStatus</th>\n",
       "      <th>netSalary</th>\n",
       "      <th>loanTenure</th>\n",
       "      <th>interestRate</th>\n",
       "      <th>loanApplied</th>\n",
       "      <th>jobTitle</th>\n",
       "      <th>loanReason</th>\n",
       "    </tr>\n",
       "  </thead>\n",
       "  <tbody>\n",
       "    <tr>\n",
       "      <th>438</th>\n",
       "      <td>0.0</td>\n",
       "      <td>0.0</td>\n",
       "      <td>REJECTED</td>\n",
       "      <td>2700.0</td>\n",
       "      <td>24</td>\n",
       "      <td>18</td>\n",
       "      <td>7500</td>\n",
       "      <td>DRIVER</td>\n",
       "      <td>DEBTS CONSOLIDATION</td>\n",
       "    </tr>\n",
       "    <tr>\n",
       "      <th>926</th>\n",
       "      <td>28000.0</td>\n",
       "      <td>7500.0</td>\n",
       "      <td>REJECTED</td>\n",
       "      <td>2650.0</td>\n",
       "      <td>24</td>\n",
       "      <td>18</td>\n",
       "      <td>7500</td>\n",
       "      <td>AUDIO VIDEO SYSTEM</td>\n",
       "      <td>OTHER USAGE</td>\n",
       "    </tr>\n",
       "    <tr>\n",
       "      <th>811</th>\n",
       "      <td>39000.0</td>\n",
       "      <td>5000.0</td>\n",
       "      <td>REJECTED</td>\n",
       "      <td>3300.0</td>\n",
       "      <td>24</td>\n",
       "      <td>18</td>\n",
       "      <td>5000</td>\n",
       "      <td>CREDIT ADMIN EXECUTIVE</td>\n",
       "      <td>DEBTS CONSOLIDATION</td>\n",
       "    </tr>\n",
       "    <tr>\n",
       "      <th>479</th>\n",
       "      <td>6000.0</td>\n",
       "      <td>3600.0</td>\n",
       "      <td>REJECTED</td>\n",
       "      <td>1670.0</td>\n",
       "      <td>24</td>\n",
       "      <td>18</td>\n",
       "      <td>3600</td>\n",
       "      <td>DRIVER LORI</td>\n",
       "      <td>DEBTS CONSOLIDATION</td>\n",
       "    </tr>\n",
       "    <tr>\n",
       "      <th>43</th>\n",
       "      <td>2000.0</td>\n",
       "      <td>1000.0</td>\n",
       "      <td>REJECTED</td>\n",
       "      <td>2800.0</td>\n",
       "      <td>24</td>\n",
       "      <td>18</td>\n",
       "      <td>1000</td>\n",
       "      <td>PRODUCTION PLANNER EXECUTIVE</td>\n",
       "      <td>RENOVATION</td>\n",
       "    </tr>\n",
       "  </tbody>\n",
       "</table>\n",
       "</div>"
      ],
      "text/plain": [
       "         ela  financeAmount applicationStatus  netSalary  loanTenure  \\\n",
       "438      0.0            0.0          REJECTED     2700.0          24   \n",
       "926  28000.0         7500.0          REJECTED     2650.0          24   \n",
       "811  39000.0         5000.0          REJECTED     3300.0          24   \n",
       "479   6000.0         3600.0          REJECTED     1670.0          24   \n",
       "43    2000.0         1000.0          REJECTED     2800.0          24   \n",
       "\n",
       "     interestRate  loanApplied                      jobTitle  \\\n",
       "438            18         7500                        DRIVER   \n",
       "926            18         7500            AUDIO VIDEO SYSTEM   \n",
       "811            18         5000        CREDIT ADMIN EXECUTIVE   \n",
       "479            18         3600                   DRIVER LORI   \n",
       "43             18         1000  PRODUCTION PLANNER EXECUTIVE   \n",
       "\n",
       "              loanReason  \n",
       "438  DEBTS CONSOLIDATION  \n",
       "926          OTHER USAGE  \n",
       "811  DEBTS CONSOLIDATION  \n",
       "479  DEBTS CONSOLIDATION  \n",
       "43            RENOVATION  "
      ]
     },
     "execution_count": 19,
     "metadata": {},
     "output_type": "execute_result"
    }
   ],
   "source": [
    "# Based on the findings above it appears that postcode has minimal impact on application Status. In addition, a significant number of poscodes are unique with one occurance. Therefore, it is recommended to not include the postcode as a model input.\n",
    "# As a result all address and postcode columns will be dropped. Other id related columns such as state and city will also be dropped\n",
    "data_p2 = data_p1.drop(columns=['address1', 'address2', 'address3', 'postcode','id','state','city'])\n",
    "data_p2.sample(5)"
   ]
  },
  {
   "cell_type": "code",
   "execution_count": 20,
   "metadata": {},
   "outputs": [
    {
     "name": "stdout",
     "output_type": "stream",
     "text": [
      "<class 'pandas.core.frame.DataFrame'>\n",
      "Index: 999 entries, 0 to 999\n",
      "Data columns (total 9 columns):\n",
      " #   Column             Non-Null Count  Dtype  \n",
      "---  ------             --------------  -----  \n",
      " 0   ela                999 non-null    float64\n",
      " 1   financeAmount      999 non-null    float64\n",
      " 2   applicationStatus  999 non-null    object \n",
      " 3   netSalary          999 non-null    float64\n",
      " 4   loanTenure         999 non-null    int64  \n",
      " 5   interestRate       999 non-null    int64  \n",
      " 6   loanApplied        999 non-null    int64  \n",
      " 7   jobTitle           999 non-null    object \n",
      " 8   loanReason         999 non-null    object \n",
      "dtypes: float64(3), int64(3), object(3)\n",
      "memory usage: 78.0+ KB\n"
     ]
    }
   ],
   "source": [
    "# Information for dataset after handling NaN and dropping columns\n",
    "data_p2.info()"
   ]
  },
  {
   "cell_type": "markdown",
   "metadata": {},
   "source": [
    "### Exploratory Data Analysis"
   ]
  },
  {
   "cell_type": "code",
   "execution_count": 21,
   "metadata": {},
   "outputs": [
    {
     "data": {
      "application/vnd.plotly.v1+json": {
       "config": {
        "plotlyServerURL": "https://plot.ly"
       },
       "data": [
        {
         "alignmentgroup": "True",
         "hovertemplate": "variable=count<br>applicationStatus=%{x}<br>value=%{y}<extra></extra>",
         "legendgroup": "count",
         "marker": {
          "color": "#636efa",
          "pattern": {
           "shape": ""
          }
         },
         "name": "count",
         "offsetgroup": "count",
         "orientation": "v",
         "showlegend": true,
         "textposition": "auto",
         "type": "bar",
         "x": [
          "REJECTED",
          "APPROVED"
         ],
         "xaxis": "x",
         "y": [
          788,
          211
         ],
         "yaxis": "y"
        }
       ],
       "layout": {
        "barmode": "relative",
        "height": 400,
        "legend": {
         "title": {
          "text": "variable"
         },
         "tracegroupgap": 0
        },
        "template": {
         "data": {
          "bar": [
           {
            "error_x": {
             "color": "#2a3f5f"
            },
            "error_y": {
             "color": "#2a3f5f"
            },
            "marker": {
             "line": {
              "color": "#E5ECF6",
              "width": 0.5
             },
             "pattern": {
              "fillmode": "overlay",
              "size": 10,
              "solidity": 0.2
             }
            },
            "type": "bar"
           }
          ],
          "barpolar": [
           {
            "marker": {
             "line": {
              "color": "#E5ECF6",
              "width": 0.5
             },
             "pattern": {
              "fillmode": "overlay",
              "size": 10,
              "solidity": 0.2
             }
            },
            "type": "barpolar"
           }
          ],
          "carpet": [
           {
            "aaxis": {
             "endlinecolor": "#2a3f5f",
             "gridcolor": "white",
             "linecolor": "white",
             "minorgridcolor": "white",
             "startlinecolor": "#2a3f5f"
            },
            "baxis": {
             "endlinecolor": "#2a3f5f",
             "gridcolor": "white",
             "linecolor": "white",
             "minorgridcolor": "white",
             "startlinecolor": "#2a3f5f"
            },
            "type": "carpet"
           }
          ],
          "choropleth": [
           {
            "colorbar": {
             "outlinewidth": 0,
             "ticks": ""
            },
            "type": "choropleth"
           }
          ],
          "contour": [
           {
            "colorbar": {
             "outlinewidth": 0,
             "ticks": ""
            },
            "colorscale": [
             [
              0,
              "#0d0887"
             ],
             [
              0.1111111111111111,
              "#46039f"
             ],
             [
              0.2222222222222222,
              "#7201a8"
             ],
             [
              0.3333333333333333,
              "#9c179e"
             ],
             [
              0.4444444444444444,
              "#bd3786"
             ],
             [
              0.5555555555555556,
              "#d8576b"
             ],
             [
              0.6666666666666666,
              "#ed7953"
             ],
             [
              0.7777777777777778,
              "#fb9f3a"
             ],
             [
              0.8888888888888888,
              "#fdca26"
             ],
             [
              1,
              "#f0f921"
             ]
            ],
            "type": "contour"
           }
          ],
          "contourcarpet": [
           {
            "colorbar": {
             "outlinewidth": 0,
             "ticks": ""
            },
            "type": "contourcarpet"
           }
          ],
          "heatmap": [
           {
            "colorbar": {
             "outlinewidth": 0,
             "ticks": ""
            },
            "colorscale": [
             [
              0,
              "#0d0887"
             ],
             [
              0.1111111111111111,
              "#46039f"
             ],
             [
              0.2222222222222222,
              "#7201a8"
             ],
             [
              0.3333333333333333,
              "#9c179e"
             ],
             [
              0.4444444444444444,
              "#bd3786"
             ],
             [
              0.5555555555555556,
              "#d8576b"
             ],
             [
              0.6666666666666666,
              "#ed7953"
             ],
             [
              0.7777777777777778,
              "#fb9f3a"
             ],
             [
              0.8888888888888888,
              "#fdca26"
             ],
             [
              1,
              "#f0f921"
             ]
            ],
            "type": "heatmap"
           }
          ],
          "heatmapgl": [
           {
            "colorbar": {
             "outlinewidth": 0,
             "ticks": ""
            },
            "colorscale": [
             [
              0,
              "#0d0887"
             ],
             [
              0.1111111111111111,
              "#46039f"
             ],
             [
              0.2222222222222222,
              "#7201a8"
             ],
             [
              0.3333333333333333,
              "#9c179e"
             ],
             [
              0.4444444444444444,
              "#bd3786"
             ],
             [
              0.5555555555555556,
              "#d8576b"
             ],
             [
              0.6666666666666666,
              "#ed7953"
             ],
             [
              0.7777777777777778,
              "#fb9f3a"
             ],
             [
              0.8888888888888888,
              "#fdca26"
             ],
             [
              1,
              "#f0f921"
             ]
            ],
            "type": "heatmapgl"
           }
          ],
          "histogram": [
           {
            "marker": {
             "pattern": {
              "fillmode": "overlay",
              "size": 10,
              "solidity": 0.2
             }
            },
            "type": "histogram"
           }
          ],
          "histogram2d": [
           {
            "colorbar": {
             "outlinewidth": 0,
             "ticks": ""
            },
            "colorscale": [
             [
              0,
              "#0d0887"
             ],
             [
              0.1111111111111111,
              "#46039f"
             ],
             [
              0.2222222222222222,
              "#7201a8"
             ],
             [
              0.3333333333333333,
              "#9c179e"
             ],
             [
              0.4444444444444444,
              "#bd3786"
             ],
             [
              0.5555555555555556,
              "#d8576b"
             ],
             [
              0.6666666666666666,
              "#ed7953"
             ],
             [
              0.7777777777777778,
              "#fb9f3a"
             ],
             [
              0.8888888888888888,
              "#fdca26"
             ],
             [
              1,
              "#f0f921"
             ]
            ],
            "type": "histogram2d"
           }
          ],
          "histogram2dcontour": [
           {
            "colorbar": {
             "outlinewidth": 0,
             "ticks": ""
            },
            "colorscale": [
             [
              0,
              "#0d0887"
             ],
             [
              0.1111111111111111,
              "#46039f"
             ],
             [
              0.2222222222222222,
              "#7201a8"
             ],
             [
              0.3333333333333333,
              "#9c179e"
             ],
             [
              0.4444444444444444,
              "#bd3786"
             ],
             [
              0.5555555555555556,
              "#d8576b"
             ],
             [
              0.6666666666666666,
              "#ed7953"
             ],
             [
              0.7777777777777778,
              "#fb9f3a"
             ],
             [
              0.8888888888888888,
              "#fdca26"
             ],
             [
              1,
              "#f0f921"
             ]
            ],
            "type": "histogram2dcontour"
           }
          ],
          "mesh3d": [
           {
            "colorbar": {
             "outlinewidth": 0,
             "ticks": ""
            },
            "type": "mesh3d"
           }
          ],
          "parcoords": [
           {
            "line": {
             "colorbar": {
              "outlinewidth": 0,
              "ticks": ""
             }
            },
            "type": "parcoords"
           }
          ],
          "pie": [
           {
            "automargin": true,
            "type": "pie"
           }
          ],
          "scatter": [
           {
            "fillpattern": {
             "fillmode": "overlay",
             "size": 10,
             "solidity": 0.2
            },
            "type": "scatter"
           }
          ],
          "scatter3d": [
           {
            "line": {
             "colorbar": {
              "outlinewidth": 0,
              "ticks": ""
             }
            },
            "marker": {
             "colorbar": {
              "outlinewidth": 0,
              "ticks": ""
             }
            },
            "type": "scatter3d"
           }
          ],
          "scattercarpet": [
           {
            "marker": {
             "colorbar": {
              "outlinewidth": 0,
              "ticks": ""
             }
            },
            "type": "scattercarpet"
           }
          ],
          "scattergeo": [
           {
            "marker": {
             "colorbar": {
              "outlinewidth": 0,
              "ticks": ""
             }
            },
            "type": "scattergeo"
           }
          ],
          "scattergl": [
           {
            "marker": {
             "colorbar": {
              "outlinewidth": 0,
              "ticks": ""
             }
            },
            "type": "scattergl"
           }
          ],
          "scattermapbox": [
           {
            "marker": {
             "colorbar": {
              "outlinewidth": 0,
              "ticks": ""
             }
            },
            "type": "scattermapbox"
           }
          ],
          "scatterpolar": [
           {
            "marker": {
             "colorbar": {
              "outlinewidth": 0,
              "ticks": ""
             }
            },
            "type": "scatterpolar"
           }
          ],
          "scatterpolargl": [
           {
            "marker": {
             "colorbar": {
              "outlinewidth": 0,
              "ticks": ""
             }
            },
            "type": "scatterpolargl"
           }
          ],
          "scatterternary": [
           {
            "marker": {
             "colorbar": {
              "outlinewidth": 0,
              "ticks": ""
             }
            },
            "type": "scatterternary"
           }
          ],
          "surface": [
           {
            "colorbar": {
             "outlinewidth": 0,
             "ticks": ""
            },
            "colorscale": [
             [
              0,
              "#0d0887"
             ],
             [
              0.1111111111111111,
              "#46039f"
             ],
             [
              0.2222222222222222,
              "#7201a8"
             ],
             [
              0.3333333333333333,
              "#9c179e"
             ],
             [
              0.4444444444444444,
              "#bd3786"
             ],
             [
              0.5555555555555556,
              "#d8576b"
             ],
             [
              0.6666666666666666,
              "#ed7953"
             ],
             [
              0.7777777777777778,
              "#fb9f3a"
             ],
             [
              0.8888888888888888,
              "#fdca26"
             ],
             [
              1,
              "#f0f921"
             ]
            ],
            "type": "surface"
           }
          ],
          "table": [
           {
            "cells": {
             "fill": {
              "color": "#EBF0F8"
             },
             "line": {
              "color": "white"
             }
            },
            "header": {
             "fill": {
              "color": "#C8D4E3"
             },
             "line": {
              "color": "white"
             }
            },
            "type": "table"
           }
          ]
         },
         "layout": {
          "annotationdefaults": {
           "arrowcolor": "#2a3f5f",
           "arrowhead": 0,
           "arrowwidth": 1
          },
          "autotypenumbers": "strict",
          "coloraxis": {
           "colorbar": {
            "outlinewidth": 0,
            "ticks": ""
           }
          },
          "colorscale": {
           "diverging": [
            [
             0,
             "#8e0152"
            ],
            [
             0.1,
             "#c51b7d"
            ],
            [
             0.2,
             "#de77ae"
            ],
            [
             0.3,
             "#f1b6da"
            ],
            [
             0.4,
             "#fde0ef"
            ],
            [
             0.5,
             "#f7f7f7"
            ],
            [
             0.6,
             "#e6f5d0"
            ],
            [
             0.7,
             "#b8e186"
            ],
            [
             0.8,
             "#7fbc41"
            ],
            [
             0.9,
             "#4d9221"
            ],
            [
             1,
             "#276419"
            ]
           ],
           "sequential": [
            [
             0,
             "#0d0887"
            ],
            [
             0.1111111111111111,
             "#46039f"
            ],
            [
             0.2222222222222222,
             "#7201a8"
            ],
            [
             0.3333333333333333,
             "#9c179e"
            ],
            [
             0.4444444444444444,
             "#bd3786"
            ],
            [
             0.5555555555555556,
             "#d8576b"
            ],
            [
             0.6666666666666666,
             "#ed7953"
            ],
            [
             0.7777777777777778,
             "#fb9f3a"
            ],
            [
             0.8888888888888888,
             "#fdca26"
            ],
            [
             1,
             "#f0f921"
            ]
           ],
           "sequentialminus": [
            [
             0,
             "#0d0887"
            ],
            [
             0.1111111111111111,
             "#46039f"
            ],
            [
             0.2222222222222222,
             "#7201a8"
            ],
            [
             0.3333333333333333,
             "#9c179e"
            ],
            [
             0.4444444444444444,
             "#bd3786"
            ],
            [
             0.5555555555555556,
             "#d8576b"
            ],
            [
             0.6666666666666666,
             "#ed7953"
            ],
            [
             0.7777777777777778,
             "#fb9f3a"
            ],
            [
             0.8888888888888888,
             "#fdca26"
            ],
            [
             1,
             "#f0f921"
            ]
           ]
          },
          "colorway": [
           "#636efa",
           "#EF553B",
           "#00cc96",
           "#ab63fa",
           "#FFA15A",
           "#19d3f3",
           "#FF6692",
           "#B6E880",
           "#FF97FF",
           "#FECB52"
          ],
          "font": {
           "color": "#2a3f5f"
          },
          "geo": {
           "bgcolor": "white",
           "lakecolor": "white",
           "landcolor": "#E5ECF6",
           "showlakes": true,
           "showland": true,
           "subunitcolor": "white"
          },
          "hoverlabel": {
           "align": "left"
          },
          "hovermode": "closest",
          "mapbox": {
           "style": "light"
          },
          "paper_bgcolor": "white",
          "plot_bgcolor": "#E5ECF6",
          "polar": {
           "angularaxis": {
            "gridcolor": "white",
            "linecolor": "white",
            "ticks": ""
           },
           "bgcolor": "#E5ECF6",
           "radialaxis": {
            "gridcolor": "white",
            "linecolor": "white",
            "ticks": ""
           }
          },
          "scene": {
           "xaxis": {
            "backgroundcolor": "#E5ECF6",
            "gridcolor": "white",
            "gridwidth": 2,
            "linecolor": "white",
            "showbackground": true,
            "ticks": "",
            "zerolinecolor": "white"
           },
           "yaxis": {
            "backgroundcolor": "#E5ECF6",
            "gridcolor": "white",
            "gridwidth": 2,
            "linecolor": "white",
            "showbackground": true,
            "ticks": "",
            "zerolinecolor": "white"
           },
           "zaxis": {
            "backgroundcolor": "#E5ECF6",
            "gridcolor": "white",
            "gridwidth": 2,
            "linecolor": "white",
            "showbackground": true,
            "ticks": "",
            "zerolinecolor": "white"
           }
          },
          "shapedefaults": {
           "line": {
            "color": "#2a3f5f"
           }
          },
          "ternary": {
           "aaxis": {
            "gridcolor": "white",
            "linecolor": "white",
            "ticks": ""
           },
           "baxis": {
            "gridcolor": "white",
            "linecolor": "white",
            "ticks": ""
           },
           "bgcolor": "#E5ECF6",
           "caxis": {
            "gridcolor": "white",
            "linecolor": "white",
            "ticks": ""
           }
          },
          "title": {
           "x": 0.05
          },
          "xaxis": {
           "automargin": true,
           "gridcolor": "white",
           "linecolor": "white",
           "ticks": "",
           "title": {
            "standoff": 15
           },
           "zerolinecolor": "white",
           "zerolinewidth": 2
          },
          "yaxis": {
           "automargin": true,
           "gridcolor": "white",
           "linecolor": "white",
           "ticks": "",
           "title": {
            "standoff": 15
           },
           "zerolinecolor": "white",
           "zerolinewidth": 2
          }
         }
        },
        "title": {
         "text": "Application Status Counts"
        },
        "width": 600,
        "xaxis": {
         "anchor": "y",
         "domain": [
          0,
          1
         ],
         "title": {
          "text": "applicationStatus"
         }
        },
        "yaxis": {
         "anchor": "x",
         "domain": [
          0,
          1
         ],
         "title": {
          "text": "value"
         }
        }
       }
      }
     },
     "metadata": {},
     "output_type": "display_data"
    }
   ],
   "source": [
    "# Target variable analysis, to determine if it is balanced\n",
    "target_counts = data_p2['applicationStatus'].value_counts()\n",
    "target_bar = px.bar(target_counts,  width=600, height=400, title='Application Status Counts')\n",
    "target_bar.show()\n",
    "\n",
    "# The target variable is imbalanced, however it should not be too great of an issue as the imbalance is not servere. Approximately 20% of the target is APPROVED. \n",
    "# This will be managed by performing stratified splitting during the model training to provide a more accurate estimation of model performance."
   ]
  },
  {
   "cell_type": "code",
   "execution_count": 22,
   "metadata": {},
   "outputs": [
    {
     "name": "stdout",
     "output_type": "stream",
     "text": [
      "Number of unique job titles: 590\n",
      "Number of single occurance job titles: 475\n"
     ]
    }
   ],
   "source": [
    "# Categorical feature analysis - jobTitle\n",
    "job_title_counts = data_p2['jobTitle'].value_counts()\n",
    "\n",
    "print(\"Number of unique job titles:\", len(job_title_counts))\n",
    "print(\"Number of single occurance job titles:\", len(job_title_counts[job_title_counts == 1]))"
   ]
  },
  {
   "cell_type": "code",
   "execution_count": 23,
   "metadata": {},
   "outputs": [
    {
     "data": {
      "application/vnd.plotly.v1+json": {
       "config": {
        "plotlyServerURL": "https://plot.ly"
       },
       "data": [
        {
         "alignmentgroup": "True",
         "hovertemplate": "variable=count<br>jobTitle=%{x}<br>value=%{y}<extra></extra>",
         "legendgroup": "count",
         "marker": {
          "color": "#636efa",
          "pattern": {
           "shape": ""
          }
         },
         "name": "count",
         "offsetgroup": "count",
         "orientation": "v",
         "showlegend": true,
         "textposition": "auto",
         "type": "bar",
         "x": [
          "CLERK",
          "TECHNICIAN",
          "DRIVER",
          "TEACHER",
          "EXECUTIVE",
          "MANAGER",
          "OPERATOR",
          "SUPERVISOR",
          "GURU",
          "PEMBANTU TADBIR",
          "ADMIN",
          "PEMBANTU OPERASI",
          "KERANI",
          "ADMIN CLERK",
          "CUSTOMER SERVICE",
          "NURSE",
          "PEMANDU",
          "POLIS BANTUAN",
          "ASSISTANT MANAGER",
          "BUSINESS OWNER",
          "SALESMAN",
          "LORRY DRIVER",
          "DIRECTOR",
          "SECURITY",
          "SALES EXECUTIVE",
          "CASHIER",
          "PERSONAL DRIVER",
          "PEMBANTU AWAM",
          "ENGINEER",
          "DRIVER LORI",
          "PEMBANTU PENGURUSAN MURID",
          "SITE SUPERVISOR",
          "POLICE",
          "GENERAL WORKER",
          "OWNER",
          "DRIVER LORRY",
          "CLEANER",
          "ACCOUNT EXECUTIVE",
          "PENGUATKUASA",
          "STAFF NURSE",
          "SALES",
          "JURURAWAT",
          "MARKETING",
          "PDRM",
          "ARMY",
          "PEMANDU LORI",
          "EKSEKUTIF",
          "SECURITY GUARD",
          "PEMBANTU TADBIR KEWANGAN",
          "LAB TECHNICIAN",
          "BUSINESS",
          "JURUTEKNIK",
          "SALES ADVISOR",
          "SALES ASSISTANT",
          "SALES MANAGER",
          "CHEF",
          "PROMOTER",
          "OFFICER",
          "KOPERAL",
          "SENIOR CLERK",
          "SECRETARY",
          "SENIOR TECHNICIAN",
          "GURU BESAR",
          "AUXILIARY POLICE",
          "PENOLONG AKAUNTAN",
          "STOREKEEPER",
          "PENGAWAL KESELAMATAN",
          "ACCOUNT MANAGER",
          "AUDIO VIDEO SYSTEM",
          "PEMBANTU OPERASI N11",
          "PEMBANTU MAKMAL",
          "JURUJUAL",
          "DESPATCH",
          "PENOLONG PEGAWAI TEKNOLOGI MAKLUMAT",
          "SALES SUPERVISOR",
          "ASSISTANT SUPERVISOR",
          "SUPERVISIOR",
          "SALES AGENT",
          "MEDICAL LAB TECHNOLOGIST",
          "PENGURUS",
          "LECTURER",
          "PEMBANTU AM",
          "QC",
          "TEAM LEADER",
          "ADMINISTRATIVE",
          "CMM TECHNICAL SUPPORT SPECIALIST",
          "ADMINISTRATION",
          "OPERATION EXECUTIVE",
          "PEMBANTU PEGAWAI SOKONGAN",
          "MAINTENANCE",
          "SENIOR IT SUPPORT",
          "ASSITANT MANAGER",
          "BRANCH MANAGER",
          "POLICEMAN",
          "PENYELIA",
          "LOGISTIC COORDINATOR",
          "PEGAWAI IMIGRESEN",
          "SALES MERCHANDISER",
          "CLINIC ASSISTANT",
          "ACCOUNT CLERK",
          "COURIER",
          "PENOLONG PEGAWAI FARMASI",
          "PEMANDU KENDERAAN",
          "PESARA",
          "KERANI PENTADBIRAN",
          "ACCOUNT ASSISTANT",
          "EXECUTIVE HOUSEKEEPING",
          "OPERATION",
          "GROUP SOUS CHEF",
          "FIELD SURVEYOR",
          "PENDIDIK MASYARAKAT",
          "PRODUCTION EXECUTIVE",
          "PROJECT MANAGER",
          "SERVICE CREW",
          "PEMBANTU PERAWATAN KESIHATAN"
         ],
         "xaxis": "x",
         "y": [
          29,
          28,
          26,
          23,
          17,
          16,
          15,
          13,
          13,
          13,
          9,
          9,
          8,
          8,
          7,
          7,
          7,
          6,
          6,
          6,
          6,
          6,
          6,
          5,
          5,
          5,
          5,
          4,
          4,
          4,
          4,
          4,
          4,
          4,
          4,
          4,
          3,
          3,
          3,
          3,
          3,
          3,
          3,
          3,
          3,
          3,
          3,
          3,
          3,
          3,
          3,
          3,
          3,
          3,
          3,
          3,
          3,
          3,
          3,
          3,
          3,
          3,
          2,
          2,
          2,
          2,
          2,
          2,
          2,
          2,
          2,
          2,
          2,
          2,
          2,
          2,
          2,
          2,
          2,
          2,
          2,
          2,
          2,
          2,
          2,
          2,
          2,
          2,
          2,
          2,
          2,
          2,
          2,
          2,
          2,
          2,
          2,
          2,
          2,
          2,
          2,
          2,
          2,
          2,
          2,
          2,
          2,
          2,
          2,
          2,
          2,
          2,
          2,
          2,
          2
         ],
         "yaxis": "y"
        }
       ],
       "layout": {
        "barmode": "relative",
        "height": 700,
        "legend": {
         "title": {
          "text": "variable"
         },
         "tracegroupgap": 0
        },
        "template": {
         "data": {
          "bar": [
           {
            "error_x": {
             "color": "#2a3f5f"
            },
            "error_y": {
             "color": "#2a3f5f"
            },
            "marker": {
             "line": {
              "color": "#E5ECF6",
              "width": 0.5
             },
             "pattern": {
              "fillmode": "overlay",
              "size": 10,
              "solidity": 0.2
             }
            },
            "type": "bar"
           }
          ],
          "barpolar": [
           {
            "marker": {
             "line": {
              "color": "#E5ECF6",
              "width": 0.5
             },
             "pattern": {
              "fillmode": "overlay",
              "size": 10,
              "solidity": 0.2
             }
            },
            "type": "barpolar"
           }
          ],
          "carpet": [
           {
            "aaxis": {
             "endlinecolor": "#2a3f5f",
             "gridcolor": "white",
             "linecolor": "white",
             "minorgridcolor": "white",
             "startlinecolor": "#2a3f5f"
            },
            "baxis": {
             "endlinecolor": "#2a3f5f",
             "gridcolor": "white",
             "linecolor": "white",
             "minorgridcolor": "white",
             "startlinecolor": "#2a3f5f"
            },
            "type": "carpet"
           }
          ],
          "choropleth": [
           {
            "colorbar": {
             "outlinewidth": 0,
             "ticks": ""
            },
            "type": "choropleth"
           }
          ],
          "contour": [
           {
            "colorbar": {
             "outlinewidth": 0,
             "ticks": ""
            },
            "colorscale": [
             [
              0,
              "#0d0887"
             ],
             [
              0.1111111111111111,
              "#46039f"
             ],
             [
              0.2222222222222222,
              "#7201a8"
             ],
             [
              0.3333333333333333,
              "#9c179e"
             ],
             [
              0.4444444444444444,
              "#bd3786"
             ],
             [
              0.5555555555555556,
              "#d8576b"
             ],
             [
              0.6666666666666666,
              "#ed7953"
             ],
             [
              0.7777777777777778,
              "#fb9f3a"
             ],
             [
              0.8888888888888888,
              "#fdca26"
             ],
             [
              1,
              "#f0f921"
             ]
            ],
            "type": "contour"
           }
          ],
          "contourcarpet": [
           {
            "colorbar": {
             "outlinewidth": 0,
             "ticks": ""
            },
            "type": "contourcarpet"
           }
          ],
          "heatmap": [
           {
            "colorbar": {
             "outlinewidth": 0,
             "ticks": ""
            },
            "colorscale": [
             [
              0,
              "#0d0887"
             ],
             [
              0.1111111111111111,
              "#46039f"
             ],
             [
              0.2222222222222222,
              "#7201a8"
             ],
             [
              0.3333333333333333,
              "#9c179e"
             ],
             [
              0.4444444444444444,
              "#bd3786"
             ],
             [
              0.5555555555555556,
              "#d8576b"
             ],
             [
              0.6666666666666666,
              "#ed7953"
             ],
             [
              0.7777777777777778,
              "#fb9f3a"
             ],
             [
              0.8888888888888888,
              "#fdca26"
             ],
             [
              1,
              "#f0f921"
             ]
            ],
            "type": "heatmap"
           }
          ],
          "heatmapgl": [
           {
            "colorbar": {
             "outlinewidth": 0,
             "ticks": ""
            },
            "colorscale": [
             [
              0,
              "#0d0887"
             ],
             [
              0.1111111111111111,
              "#46039f"
             ],
             [
              0.2222222222222222,
              "#7201a8"
             ],
             [
              0.3333333333333333,
              "#9c179e"
             ],
             [
              0.4444444444444444,
              "#bd3786"
             ],
             [
              0.5555555555555556,
              "#d8576b"
             ],
             [
              0.6666666666666666,
              "#ed7953"
             ],
             [
              0.7777777777777778,
              "#fb9f3a"
             ],
             [
              0.8888888888888888,
              "#fdca26"
             ],
             [
              1,
              "#f0f921"
             ]
            ],
            "type": "heatmapgl"
           }
          ],
          "histogram": [
           {
            "marker": {
             "pattern": {
              "fillmode": "overlay",
              "size": 10,
              "solidity": 0.2
             }
            },
            "type": "histogram"
           }
          ],
          "histogram2d": [
           {
            "colorbar": {
             "outlinewidth": 0,
             "ticks": ""
            },
            "colorscale": [
             [
              0,
              "#0d0887"
             ],
             [
              0.1111111111111111,
              "#46039f"
             ],
             [
              0.2222222222222222,
              "#7201a8"
             ],
             [
              0.3333333333333333,
              "#9c179e"
             ],
             [
              0.4444444444444444,
              "#bd3786"
             ],
             [
              0.5555555555555556,
              "#d8576b"
             ],
             [
              0.6666666666666666,
              "#ed7953"
             ],
             [
              0.7777777777777778,
              "#fb9f3a"
             ],
             [
              0.8888888888888888,
              "#fdca26"
             ],
             [
              1,
              "#f0f921"
             ]
            ],
            "type": "histogram2d"
           }
          ],
          "histogram2dcontour": [
           {
            "colorbar": {
             "outlinewidth": 0,
             "ticks": ""
            },
            "colorscale": [
             [
              0,
              "#0d0887"
             ],
             [
              0.1111111111111111,
              "#46039f"
             ],
             [
              0.2222222222222222,
              "#7201a8"
             ],
             [
              0.3333333333333333,
              "#9c179e"
             ],
             [
              0.4444444444444444,
              "#bd3786"
             ],
             [
              0.5555555555555556,
              "#d8576b"
             ],
             [
              0.6666666666666666,
              "#ed7953"
             ],
             [
              0.7777777777777778,
              "#fb9f3a"
             ],
             [
              0.8888888888888888,
              "#fdca26"
             ],
             [
              1,
              "#f0f921"
             ]
            ],
            "type": "histogram2dcontour"
           }
          ],
          "mesh3d": [
           {
            "colorbar": {
             "outlinewidth": 0,
             "ticks": ""
            },
            "type": "mesh3d"
           }
          ],
          "parcoords": [
           {
            "line": {
             "colorbar": {
              "outlinewidth": 0,
              "ticks": ""
             }
            },
            "type": "parcoords"
           }
          ],
          "pie": [
           {
            "automargin": true,
            "type": "pie"
           }
          ],
          "scatter": [
           {
            "fillpattern": {
             "fillmode": "overlay",
             "size": 10,
             "solidity": 0.2
            },
            "type": "scatter"
           }
          ],
          "scatter3d": [
           {
            "line": {
             "colorbar": {
              "outlinewidth": 0,
              "ticks": ""
             }
            },
            "marker": {
             "colorbar": {
              "outlinewidth": 0,
              "ticks": ""
             }
            },
            "type": "scatter3d"
           }
          ],
          "scattercarpet": [
           {
            "marker": {
             "colorbar": {
              "outlinewidth": 0,
              "ticks": ""
             }
            },
            "type": "scattercarpet"
           }
          ],
          "scattergeo": [
           {
            "marker": {
             "colorbar": {
              "outlinewidth": 0,
              "ticks": ""
             }
            },
            "type": "scattergeo"
           }
          ],
          "scattergl": [
           {
            "marker": {
             "colorbar": {
              "outlinewidth": 0,
              "ticks": ""
             }
            },
            "type": "scattergl"
           }
          ],
          "scattermapbox": [
           {
            "marker": {
             "colorbar": {
              "outlinewidth": 0,
              "ticks": ""
             }
            },
            "type": "scattermapbox"
           }
          ],
          "scatterpolar": [
           {
            "marker": {
             "colorbar": {
              "outlinewidth": 0,
              "ticks": ""
             }
            },
            "type": "scatterpolar"
           }
          ],
          "scatterpolargl": [
           {
            "marker": {
             "colorbar": {
              "outlinewidth": 0,
              "ticks": ""
             }
            },
            "type": "scatterpolargl"
           }
          ],
          "scatterternary": [
           {
            "marker": {
             "colorbar": {
              "outlinewidth": 0,
              "ticks": ""
             }
            },
            "type": "scatterternary"
           }
          ],
          "surface": [
           {
            "colorbar": {
             "outlinewidth": 0,
             "ticks": ""
            },
            "colorscale": [
             [
              0,
              "#0d0887"
             ],
             [
              0.1111111111111111,
              "#46039f"
             ],
             [
              0.2222222222222222,
              "#7201a8"
             ],
             [
              0.3333333333333333,
              "#9c179e"
             ],
             [
              0.4444444444444444,
              "#bd3786"
             ],
             [
              0.5555555555555556,
              "#d8576b"
             ],
             [
              0.6666666666666666,
              "#ed7953"
             ],
             [
              0.7777777777777778,
              "#fb9f3a"
             ],
             [
              0.8888888888888888,
              "#fdca26"
             ],
             [
              1,
              "#f0f921"
             ]
            ],
            "type": "surface"
           }
          ],
          "table": [
           {
            "cells": {
             "fill": {
              "color": "#EBF0F8"
             },
             "line": {
              "color": "white"
             }
            },
            "header": {
             "fill": {
              "color": "#C8D4E3"
             },
             "line": {
              "color": "white"
             }
            },
            "type": "table"
           }
          ]
         },
         "layout": {
          "annotationdefaults": {
           "arrowcolor": "#2a3f5f",
           "arrowhead": 0,
           "arrowwidth": 1
          },
          "autotypenumbers": "strict",
          "coloraxis": {
           "colorbar": {
            "outlinewidth": 0,
            "ticks": ""
           }
          },
          "colorscale": {
           "diverging": [
            [
             0,
             "#8e0152"
            ],
            [
             0.1,
             "#c51b7d"
            ],
            [
             0.2,
             "#de77ae"
            ],
            [
             0.3,
             "#f1b6da"
            ],
            [
             0.4,
             "#fde0ef"
            ],
            [
             0.5,
             "#f7f7f7"
            ],
            [
             0.6,
             "#e6f5d0"
            ],
            [
             0.7,
             "#b8e186"
            ],
            [
             0.8,
             "#7fbc41"
            ],
            [
             0.9,
             "#4d9221"
            ],
            [
             1,
             "#276419"
            ]
           ],
           "sequential": [
            [
             0,
             "#0d0887"
            ],
            [
             0.1111111111111111,
             "#46039f"
            ],
            [
             0.2222222222222222,
             "#7201a8"
            ],
            [
             0.3333333333333333,
             "#9c179e"
            ],
            [
             0.4444444444444444,
             "#bd3786"
            ],
            [
             0.5555555555555556,
             "#d8576b"
            ],
            [
             0.6666666666666666,
             "#ed7953"
            ],
            [
             0.7777777777777778,
             "#fb9f3a"
            ],
            [
             0.8888888888888888,
             "#fdca26"
            ],
            [
             1,
             "#f0f921"
            ]
           ],
           "sequentialminus": [
            [
             0,
             "#0d0887"
            ],
            [
             0.1111111111111111,
             "#46039f"
            ],
            [
             0.2222222222222222,
             "#7201a8"
            ],
            [
             0.3333333333333333,
             "#9c179e"
            ],
            [
             0.4444444444444444,
             "#bd3786"
            ],
            [
             0.5555555555555556,
             "#d8576b"
            ],
            [
             0.6666666666666666,
             "#ed7953"
            ],
            [
             0.7777777777777778,
             "#fb9f3a"
            ],
            [
             0.8888888888888888,
             "#fdca26"
            ],
            [
             1,
             "#f0f921"
            ]
           ]
          },
          "colorway": [
           "#636efa",
           "#EF553B",
           "#00cc96",
           "#ab63fa",
           "#FFA15A",
           "#19d3f3",
           "#FF6692",
           "#B6E880",
           "#FF97FF",
           "#FECB52"
          ],
          "font": {
           "color": "#2a3f5f"
          },
          "geo": {
           "bgcolor": "white",
           "lakecolor": "white",
           "landcolor": "#E5ECF6",
           "showlakes": true,
           "showland": true,
           "subunitcolor": "white"
          },
          "hoverlabel": {
           "align": "left"
          },
          "hovermode": "closest",
          "mapbox": {
           "style": "light"
          },
          "paper_bgcolor": "white",
          "plot_bgcolor": "#E5ECF6",
          "polar": {
           "angularaxis": {
            "gridcolor": "white",
            "linecolor": "white",
            "ticks": ""
           },
           "bgcolor": "#E5ECF6",
           "radialaxis": {
            "gridcolor": "white",
            "linecolor": "white",
            "ticks": ""
           }
          },
          "scene": {
           "xaxis": {
            "backgroundcolor": "#E5ECF6",
            "gridcolor": "white",
            "gridwidth": 2,
            "linecolor": "white",
            "showbackground": true,
            "ticks": "",
            "zerolinecolor": "white"
           },
           "yaxis": {
            "backgroundcolor": "#E5ECF6",
            "gridcolor": "white",
            "gridwidth": 2,
            "linecolor": "white",
            "showbackground": true,
            "ticks": "",
            "zerolinecolor": "white"
           },
           "zaxis": {
            "backgroundcolor": "#E5ECF6",
            "gridcolor": "white",
            "gridwidth": 2,
            "linecolor": "white",
            "showbackground": true,
            "ticks": "",
            "zerolinecolor": "white"
           }
          },
          "shapedefaults": {
           "line": {
            "color": "#2a3f5f"
           }
          },
          "ternary": {
           "aaxis": {
            "gridcolor": "white",
            "linecolor": "white",
            "ticks": ""
           },
           "baxis": {
            "gridcolor": "white",
            "linecolor": "white",
            "ticks": ""
           },
           "bgcolor": "#E5ECF6",
           "caxis": {
            "gridcolor": "white",
            "linecolor": "white",
            "ticks": ""
           }
          },
          "title": {
           "x": 0.05
          },
          "xaxis": {
           "automargin": true,
           "gridcolor": "white",
           "linecolor": "white",
           "ticks": "",
           "title": {
            "standoff": 15
           },
           "zerolinecolor": "white",
           "zerolinewidth": 2
          },
          "yaxis": {
           "automargin": true,
           "gridcolor": "white",
           "linecolor": "white",
           "ticks": "",
           "title": {
            "standoff": 15
           },
           "zerolinecolor": "white",
           "zerolinewidth": 2
          }
         }
        },
        "title": {
         "text": "Frequency of Jobs with more than 1 occurance"
        },
        "width": 1200,
        "xaxis": {
         "anchor": "y",
         "domain": [
          0,
          1
         ],
         "title": {
          "text": "jobTitle"
         }
        },
        "yaxis": {
         "anchor": "x",
         "domain": [
          0,
          1
         ],
         "title": {
          "text": "value"
         }
        }
       }
      }
     },
     "metadata": {},
     "output_type": "display_data"
    }
   ],
   "source": [
    "# It appears that job title has a large number of single occurance samples. Therefore, it is recommended to not include the jobTitle as a model input.\n",
    "frequent_jobs = job_title_counts[job_title_counts > 1]\n",
    "fig = px.bar(frequent_jobs, width=1200, height=700, title='Frequency of Jobs with more than 1 occurance')\n",
    "fig.show()"
   ]
  },
  {
   "cell_type": "code",
   "execution_count": 24,
   "metadata": {},
   "outputs": [
    {
     "name": "stdout",
     "output_type": "stream",
     "text": [
      "Number of unique loan reasons: 6\n",
      "Number of single occurance loan reasons: 0\n"
     ]
    }
   ],
   "source": [
    "# Categorical feature analysis - loanReason \n",
    "loan_reason_counts = data_p2['loanReason'].value_counts()\n",
    "print(\"Number of unique loan reasons:\", len(loan_reason_counts))\n",
    "print(\"Number of single occurance loan reasons:\", len(loan_reason_counts[loan_reason_counts == 1]))"
   ]
  },
  {
   "cell_type": "code",
   "execution_count": 25,
   "metadata": {},
   "outputs": [
    {
     "name": "stderr",
     "output_type": "stream",
     "text": [
      "c:\\Users\\aahmadsazali\\anaconda3\\envs\\nowcast\\Lib\\site-packages\\plotly\\express\\_core.py:2065: FutureWarning:\n",
      "\n",
      "When grouping with a length-1 list-like, you will need to pass a length-1 tuple to get_group in a future version of pandas. Pass `(name,)` instead of `name` to silence this warning.\n",
      "\n"
     ]
    },
    {
     "data": {
      "application/vnd.plotly.v1+json": {
       "config": {
        "plotlyServerURL": "https://plot.ly"
       },
       "data": [
        {
         "alignmentgroup": "True",
         "hovertemplate": "applicationStatus=APPROVED<br>loanReason=%{x}<br>count=%{y}<extra></extra>",
         "legendgroup": "APPROVED",
         "marker": {
          "color": "#636efa",
          "pattern": {
           "shape": ""
          }
         },
         "name": "APPROVED",
         "offsetgroup": "APPROVED",
         "orientation": "v",
         "showlegend": true,
         "textposition": "auto",
         "type": "bar",
         "x": [
          "DEBTS CONSOLIDATION",
          "EDUCATION",
          "EXPAND BUSINESS",
          "MEDICAL EXPENSES",
          "OTHER USAGE",
          "RENOVATION"
         ],
         "xaxis": "x",
         "y": [
          77,
          21,
          24,
          15,
          43,
          31
         ],
         "yaxis": "y"
        },
        {
         "alignmentgroup": "True",
         "hovertemplate": "applicationStatus=REJECTED<br>loanReason=%{x}<br>count=%{y}<extra></extra>",
         "legendgroup": "REJECTED",
         "marker": {
          "color": "#EF553B",
          "pattern": {
           "shape": ""
          }
         },
         "name": "REJECTED",
         "offsetgroup": "REJECTED",
         "orientation": "v",
         "showlegend": true,
         "textposition": "auto",
         "type": "bar",
         "x": [
          "DEBTS CONSOLIDATION",
          "EDUCATION",
          "EXPAND BUSINESS",
          "MEDICAL EXPENSES",
          "OTHER USAGE",
          "RENOVATION"
         ],
         "xaxis": "x",
         "y": [
          245,
          117,
          107,
          58,
          162,
          99
         ],
         "yaxis": "y"
        }
       ],
       "layout": {
        "barmode": "relative",
        "height": 700,
        "legend": {
         "title": {
          "text": "applicationStatus"
         },
         "tracegroupgap": 0
        },
        "template": {
         "data": {
          "bar": [
           {
            "error_x": {
             "color": "#2a3f5f"
            },
            "error_y": {
             "color": "#2a3f5f"
            },
            "marker": {
             "line": {
              "color": "#E5ECF6",
              "width": 0.5
             },
             "pattern": {
              "fillmode": "overlay",
              "size": 10,
              "solidity": 0.2
             }
            },
            "type": "bar"
           }
          ],
          "barpolar": [
           {
            "marker": {
             "line": {
              "color": "#E5ECF6",
              "width": 0.5
             },
             "pattern": {
              "fillmode": "overlay",
              "size": 10,
              "solidity": 0.2
             }
            },
            "type": "barpolar"
           }
          ],
          "carpet": [
           {
            "aaxis": {
             "endlinecolor": "#2a3f5f",
             "gridcolor": "white",
             "linecolor": "white",
             "minorgridcolor": "white",
             "startlinecolor": "#2a3f5f"
            },
            "baxis": {
             "endlinecolor": "#2a3f5f",
             "gridcolor": "white",
             "linecolor": "white",
             "minorgridcolor": "white",
             "startlinecolor": "#2a3f5f"
            },
            "type": "carpet"
           }
          ],
          "choropleth": [
           {
            "colorbar": {
             "outlinewidth": 0,
             "ticks": ""
            },
            "type": "choropleth"
           }
          ],
          "contour": [
           {
            "colorbar": {
             "outlinewidth": 0,
             "ticks": ""
            },
            "colorscale": [
             [
              0,
              "#0d0887"
             ],
             [
              0.1111111111111111,
              "#46039f"
             ],
             [
              0.2222222222222222,
              "#7201a8"
             ],
             [
              0.3333333333333333,
              "#9c179e"
             ],
             [
              0.4444444444444444,
              "#bd3786"
             ],
             [
              0.5555555555555556,
              "#d8576b"
             ],
             [
              0.6666666666666666,
              "#ed7953"
             ],
             [
              0.7777777777777778,
              "#fb9f3a"
             ],
             [
              0.8888888888888888,
              "#fdca26"
             ],
             [
              1,
              "#f0f921"
             ]
            ],
            "type": "contour"
           }
          ],
          "contourcarpet": [
           {
            "colorbar": {
             "outlinewidth": 0,
             "ticks": ""
            },
            "type": "contourcarpet"
           }
          ],
          "heatmap": [
           {
            "colorbar": {
             "outlinewidth": 0,
             "ticks": ""
            },
            "colorscale": [
             [
              0,
              "#0d0887"
             ],
             [
              0.1111111111111111,
              "#46039f"
             ],
             [
              0.2222222222222222,
              "#7201a8"
             ],
             [
              0.3333333333333333,
              "#9c179e"
             ],
             [
              0.4444444444444444,
              "#bd3786"
             ],
             [
              0.5555555555555556,
              "#d8576b"
             ],
             [
              0.6666666666666666,
              "#ed7953"
             ],
             [
              0.7777777777777778,
              "#fb9f3a"
             ],
             [
              0.8888888888888888,
              "#fdca26"
             ],
             [
              1,
              "#f0f921"
             ]
            ],
            "type": "heatmap"
           }
          ],
          "heatmapgl": [
           {
            "colorbar": {
             "outlinewidth": 0,
             "ticks": ""
            },
            "colorscale": [
             [
              0,
              "#0d0887"
             ],
             [
              0.1111111111111111,
              "#46039f"
             ],
             [
              0.2222222222222222,
              "#7201a8"
             ],
             [
              0.3333333333333333,
              "#9c179e"
             ],
             [
              0.4444444444444444,
              "#bd3786"
             ],
             [
              0.5555555555555556,
              "#d8576b"
             ],
             [
              0.6666666666666666,
              "#ed7953"
             ],
             [
              0.7777777777777778,
              "#fb9f3a"
             ],
             [
              0.8888888888888888,
              "#fdca26"
             ],
             [
              1,
              "#f0f921"
             ]
            ],
            "type": "heatmapgl"
           }
          ],
          "histogram": [
           {
            "marker": {
             "pattern": {
              "fillmode": "overlay",
              "size": 10,
              "solidity": 0.2
             }
            },
            "type": "histogram"
           }
          ],
          "histogram2d": [
           {
            "colorbar": {
             "outlinewidth": 0,
             "ticks": ""
            },
            "colorscale": [
             [
              0,
              "#0d0887"
             ],
             [
              0.1111111111111111,
              "#46039f"
             ],
             [
              0.2222222222222222,
              "#7201a8"
             ],
             [
              0.3333333333333333,
              "#9c179e"
             ],
             [
              0.4444444444444444,
              "#bd3786"
             ],
             [
              0.5555555555555556,
              "#d8576b"
             ],
             [
              0.6666666666666666,
              "#ed7953"
             ],
             [
              0.7777777777777778,
              "#fb9f3a"
             ],
             [
              0.8888888888888888,
              "#fdca26"
             ],
             [
              1,
              "#f0f921"
             ]
            ],
            "type": "histogram2d"
           }
          ],
          "histogram2dcontour": [
           {
            "colorbar": {
             "outlinewidth": 0,
             "ticks": ""
            },
            "colorscale": [
             [
              0,
              "#0d0887"
             ],
             [
              0.1111111111111111,
              "#46039f"
             ],
             [
              0.2222222222222222,
              "#7201a8"
             ],
             [
              0.3333333333333333,
              "#9c179e"
             ],
             [
              0.4444444444444444,
              "#bd3786"
             ],
             [
              0.5555555555555556,
              "#d8576b"
             ],
             [
              0.6666666666666666,
              "#ed7953"
             ],
             [
              0.7777777777777778,
              "#fb9f3a"
             ],
             [
              0.8888888888888888,
              "#fdca26"
             ],
             [
              1,
              "#f0f921"
             ]
            ],
            "type": "histogram2dcontour"
           }
          ],
          "mesh3d": [
           {
            "colorbar": {
             "outlinewidth": 0,
             "ticks": ""
            },
            "type": "mesh3d"
           }
          ],
          "parcoords": [
           {
            "line": {
             "colorbar": {
              "outlinewidth": 0,
              "ticks": ""
             }
            },
            "type": "parcoords"
           }
          ],
          "pie": [
           {
            "automargin": true,
            "type": "pie"
           }
          ],
          "scatter": [
           {
            "fillpattern": {
             "fillmode": "overlay",
             "size": 10,
             "solidity": 0.2
            },
            "type": "scatter"
           }
          ],
          "scatter3d": [
           {
            "line": {
             "colorbar": {
              "outlinewidth": 0,
              "ticks": ""
             }
            },
            "marker": {
             "colorbar": {
              "outlinewidth": 0,
              "ticks": ""
             }
            },
            "type": "scatter3d"
           }
          ],
          "scattercarpet": [
           {
            "marker": {
             "colorbar": {
              "outlinewidth": 0,
              "ticks": ""
             }
            },
            "type": "scattercarpet"
           }
          ],
          "scattergeo": [
           {
            "marker": {
             "colorbar": {
              "outlinewidth": 0,
              "ticks": ""
             }
            },
            "type": "scattergeo"
           }
          ],
          "scattergl": [
           {
            "marker": {
             "colorbar": {
              "outlinewidth": 0,
              "ticks": ""
             }
            },
            "type": "scattergl"
           }
          ],
          "scattermapbox": [
           {
            "marker": {
             "colorbar": {
              "outlinewidth": 0,
              "ticks": ""
             }
            },
            "type": "scattermapbox"
           }
          ],
          "scatterpolar": [
           {
            "marker": {
             "colorbar": {
              "outlinewidth": 0,
              "ticks": ""
             }
            },
            "type": "scatterpolar"
           }
          ],
          "scatterpolargl": [
           {
            "marker": {
             "colorbar": {
              "outlinewidth": 0,
              "ticks": ""
             }
            },
            "type": "scatterpolargl"
           }
          ],
          "scatterternary": [
           {
            "marker": {
             "colorbar": {
              "outlinewidth": 0,
              "ticks": ""
             }
            },
            "type": "scatterternary"
           }
          ],
          "surface": [
           {
            "colorbar": {
             "outlinewidth": 0,
             "ticks": ""
            },
            "colorscale": [
             [
              0,
              "#0d0887"
             ],
             [
              0.1111111111111111,
              "#46039f"
             ],
             [
              0.2222222222222222,
              "#7201a8"
             ],
             [
              0.3333333333333333,
              "#9c179e"
             ],
             [
              0.4444444444444444,
              "#bd3786"
             ],
             [
              0.5555555555555556,
              "#d8576b"
             ],
             [
              0.6666666666666666,
              "#ed7953"
             ],
             [
              0.7777777777777778,
              "#fb9f3a"
             ],
             [
              0.8888888888888888,
              "#fdca26"
             ],
             [
              1,
              "#f0f921"
             ]
            ],
            "type": "surface"
           }
          ],
          "table": [
           {
            "cells": {
             "fill": {
              "color": "#EBF0F8"
             },
             "line": {
              "color": "white"
             }
            },
            "header": {
             "fill": {
              "color": "#C8D4E3"
             },
             "line": {
              "color": "white"
             }
            },
            "type": "table"
           }
          ]
         },
         "layout": {
          "annotationdefaults": {
           "arrowcolor": "#2a3f5f",
           "arrowhead": 0,
           "arrowwidth": 1
          },
          "autotypenumbers": "strict",
          "coloraxis": {
           "colorbar": {
            "outlinewidth": 0,
            "ticks": ""
           }
          },
          "colorscale": {
           "diverging": [
            [
             0,
             "#8e0152"
            ],
            [
             0.1,
             "#c51b7d"
            ],
            [
             0.2,
             "#de77ae"
            ],
            [
             0.3,
             "#f1b6da"
            ],
            [
             0.4,
             "#fde0ef"
            ],
            [
             0.5,
             "#f7f7f7"
            ],
            [
             0.6,
             "#e6f5d0"
            ],
            [
             0.7,
             "#b8e186"
            ],
            [
             0.8,
             "#7fbc41"
            ],
            [
             0.9,
             "#4d9221"
            ],
            [
             1,
             "#276419"
            ]
           ],
           "sequential": [
            [
             0,
             "#0d0887"
            ],
            [
             0.1111111111111111,
             "#46039f"
            ],
            [
             0.2222222222222222,
             "#7201a8"
            ],
            [
             0.3333333333333333,
             "#9c179e"
            ],
            [
             0.4444444444444444,
             "#bd3786"
            ],
            [
             0.5555555555555556,
             "#d8576b"
            ],
            [
             0.6666666666666666,
             "#ed7953"
            ],
            [
             0.7777777777777778,
             "#fb9f3a"
            ],
            [
             0.8888888888888888,
             "#fdca26"
            ],
            [
             1,
             "#f0f921"
            ]
           ],
           "sequentialminus": [
            [
             0,
             "#0d0887"
            ],
            [
             0.1111111111111111,
             "#46039f"
            ],
            [
             0.2222222222222222,
             "#7201a8"
            ],
            [
             0.3333333333333333,
             "#9c179e"
            ],
            [
             0.4444444444444444,
             "#bd3786"
            ],
            [
             0.5555555555555556,
             "#d8576b"
            ],
            [
             0.6666666666666666,
             "#ed7953"
            ],
            [
             0.7777777777777778,
             "#fb9f3a"
            ],
            [
             0.8888888888888888,
             "#fdca26"
            ],
            [
             1,
             "#f0f921"
            ]
           ]
          },
          "colorway": [
           "#636efa",
           "#EF553B",
           "#00cc96",
           "#ab63fa",
           "#FFA15A",
           "#19d3f3",
           "#FF6692",
           "#B6E880",
           "#FF97FF",
           "#FECB52"
          ],
          "font": {
           "color": "#2a3f5f"
          },
          "geo": {
           "bgcolor": "white",
           "lakecolor": "white",
           "landcolor": "#E5ECF6",
           "showlakes": true,
           "showland": true,
           "subunitcolor": "white"
          },
          "hoverlabel": {
           "align": "left"
          },
          "hovermode": "closest",
          "mapbox": {
           "style": "light"
          },
          "paper_bgcolor": "white",
          "plot_bgcolor": "#E5ECF6",
          "polar": {
           "angularaxis": {
            "gridcolor": "white",
            "linecolor": "white",
            "ticks": ""
           },
           "bgcolor": "#E5ECF6",
           "radialaxis": {
            "gridcolor": "white",
            "linecolor": "white",
            "ticks": ""
           }
          },
          "scene": {
           "xaxis": {
            "backgroundcolor": "#E5ECF6",
            "gridcolor": "white",
            "gridwidth": 2,
            "linecolor": "white",
            "showbackground": true,
            "ticks": "",
            "zerolinecolor": "white"
           },
           "yaxis": {
            "backgroundcolor": "#E5ECF6",
            "gridcolor": "white",
            "gridwidth": 2,
            "linecolor": "white",
            "showbackground": true,
            "ticks": "",
            "zerolinecolor": "white"
           },
           "zaxis": {
            "backgroundcolor": "#E5ECF6",
            "gridcolor": "white",
            "gridwidth": 2,
            "linecolor": "white",
            "showbackground": true,
            "ticks": "",
            "zerolinecolor": "white"
           }
          },
          "shapedefaults": {
           "line": {
            "color": "#2a3f5f"
           }
          },
          "ternary": {
           "aaxis": {
            "gridcolor": "white",
            "linecolor": "white",
            "ticks": ""
           },
           "baxis": {
            "gridcolor": "white",
            "linecolor": "white",
            "ticks": ""
           },
           "bgcolor": "#E5ECF6",
           "caxis": {
            "gridcolor": "white",
            "linecolor": "white",
            "ticks": ""
           }
          },
          "title": {
           "x": 0.05
          },
          "xaxis": {
           "automargin": true,
           "gridcolor": "white",
           "linecolor": "white",
           "ticks": "",
           "title": {
            "standoff": 15
           },
           "zerolinecolor": "white",
           "zerolinewidth": 2
          },
          "yaxis": {
           "automargin": true,
           "gridcolor": "white",
           "linecolor": "white",
           "ticks": "",
           "title": {
            "standoff": 15
           },
           "zerolinecolor": "white",
           "zerolinewidth": 2
          }
         }
        },
        "title": {
         "text": "Application Status by Loan Reason"
        },
        "width": 1200,
        "xaxis": {
         "anchor": "y",
         "domain": [
          0,
          1
         ],
         "title": {
          "text": "loanReason"
         }
        },
        "yaxis": {
         "anchor": "x",
         "domain": [
          0,
          1
         ],
         "title": {
          "text": "count"
         }
        }
       }
      }
     },
     "metadata": {},
     "output_type": "display_data"
    }
   ],
   "source": [
    "# loanReason will be processed through one hot encoding because of its categorical nature and small number of unique values\n",
    "# It is likely that loanReason has a significant impact on applicationStatus.\n",
    "# One hot encoding for loanReason will be applied using sklearn in the pipeline\n",
    "agg_data = data_p2.groupby(['loanReason', 'applicationStatus']).size().reset_index(name='count')\n",
    "\n",
    "fig = px.bar(agg_data, x='loanReason', y='count', color='applicationStatus', \n",
    "             width=1200, height=700, title='Application Status by Loan Reason')\n",
    "fig.show()"
   ]
  },
  {
   "cell_type": "code",
   "execution_count": 26,
   "metadata": {},
   "outputs": [
    {
     "data": {
      "image/png": "[encoded data removed]",
      "text/plain": [
       "<Figure size 2500x1000 with 6 Axes>"
      ]
     },
     "metadata": {},
     "output_type": "display_data"
    }
   ],
   "source": [
    "# Numerical feature distribution plots\n",
    "numerical_features = data_p2.select_dtypes(include=['int64', 'float64'])\n",
    "\n",
    "numerical_features.hist(figsize=(25, 10), bins=15, layout=(2, 3))\n",
    "plt.show()\n"
   ]
  },
  {
   "cell_type": "code",
   "execution_count": 27,
   "metadata": {},
   "outputs": [
    {
     "data": {
      "application/vnd.plotly.v1+json": {
       "config": {
        "plotlyServerURL": "https://plot.ly"
       },
       "data": [
        {
         "alignmentgroup": "True",
         "hovertemplate": "ela=%{x}<extra></extra>",
         "legendgroup": "",
         "marker": {
          "color": "#636efa"
         },
         "name": "",
         "notched": false,
         "offsetgroup": "",
         "orientation": "h",
         "showlegend": false,
         "type": "box",
         "x": [
          5000,
          0,
          49000,
          6000,
          0,
          40000,
          3000,
          12000,
          15000,
          25000,
          17000,
          0,
          3000,
          18000,
          0,
          0,
          6000,
          0,
          5000,
          0,
          11000,
          7000,
          5000,
          42000,
          0,
          0,
          9000,
          0,
          0,
          0,
          0,
          0,
          27000,
          27000,
          8000,
          30000,
          2000,
          31000,
          15000,
          18000,
          0,
          38000,
          8000,
          2000,
          0,
          0,
          0,
          0,
          64000,
          7000,
          31000,
          8000,
          0,
          44000,
          19000,
          0,
          18000,
          22000,
          32000,
          15000,
          6000,
          16000,
          30000,
          0,
          0,
          0,
          0,
          15000,
          8000,
          42000,
          20000,
          22000,
          0,
          19000,
          13000,
          1000,
          0,
          0,
          99000,
          0,
          28000,
          0,
          44000,
          14000,
          36000,
          23000,
          15000,
          15000,
          3000,
          9000,
          4000,
          0,
          0,
          31000,
          0,
          4000,
          6000,
          7000,
          0,
          4000,
          0,
          0,
          16000,
          9000,
          19000,
          5000,
          5000,
          38000,
          0,
          25000,
          0,
          8000,
          0,
          4000,
          30000,
          0,
          2000,
          5000,
          74000,
          43000,
          15000,
          24000,
          0,
          5000,
          15000,
          0,
          0,
          2000,
          0,
          13000,
          15000,
          0,
          7000,
          0,
          29000,
          0,
          27000,
          14000,
          6000,
          0,
          13000,
          24000,
          15000,
          0,
          19000,
          0,
          65000,
          0,
          0,
          26000,
          43000,
          0,
          0,
          0,
          0,
          3000,
          9000,
          0,
          7000,
          13000,
          0,
          21000,
          4000,
          5000,
          5000,
          19000,
          3000,
          49000,
          16000,
          20000,
          31000,
          16000,
          39000,
          23000,
          0,
          31000,
          56000,
          5000,
          11000,
          4000,
          0,
          15000,
          4000,
          0,
          21000,
          15000,
          6000,
          89000,
          0,
          10000,
          46000,
          27000,
          32000,
          26000,
          31000,
          40000,
          0,
          3000,
          7000,
          13000,
          0,
          1000,
          5000,
          36000,
          16000,
          43000,
          3000,
          5000,
          26000,
          6000,
          0,
          20000,
          11000,
          22000,
          18000,
          35000,
          26000,
          29000,
          9000,
          53000,
          10000,
          18000,
          55000,
          62000,
          13000,
          30000,
          7000,
          46000,
          22000,
          49000,
          36000,
          15000,
          43000,
          2000,
          2000,
          0,
          20000,
          3000,
          356000,
          11000,
          0,
          13000,
          5000,
          5000,
          46000,
          25000,
          0,
          4000,
          0,
          19000,
          11000,
          0,
          0,
          10000,
          0,
          0,
          9000,
          1000,
          7000,
          17000,
          8000,
          0,
          14000,
          0,
          6000,
          0,
          10000,
          0,
          56000,
          0,
          0,
          0,
          0,
          0,
          0,
          36000,
          40000,
          9000,
          23000,
          0,
          0,
          0,
          0,
          0,
          0,
          20000,
          0,
          24000,
          1000,
          14000,
          16000,
          16000,
          0,
          5000,
          0,
          17000,
          0,
          6000,
          11000,
          13000,
          0,
          0,
          2000,
          26000,
          29000,
          0,
          9000,
          1000,
          22000,
          21000,
          1000,
          21000,
          37000,
          7000,
          0,
          9000,
          0,
          0,
          5000,
          26000,
          16000,
          20000,
          1000,
          42000,
          2000,
          0,
          0,
          0,
          0,
          0,
          25000,
          38000,
          1000,
          38000,
          19000,
          20000,
          12000,
          12000,
          40000,
          14000,
          0,
          13000,
          6000,
          0,
          1000,
          115000,
          0,
          26000,
          30000,
          13000,
          22000,
          8000,
          0,
          0,
          5000,
          32000,
          1000,
          12000,
          0,
          14000,
          1000,
          3000,
          11000,
          2000,
          11000,
          2000,
          13000,
          6000,
          0,
          0,
          17000,
          31000,
          15000,
          0,
          17000,
          0,
          45000,
          16000,
          2000,
          0,
          3000,
          0,
          41000,
          8000,
          18000,
          0,
          0,
          19000,
          0,
          7000,
          0,
          16000,
          6000,
          0,
          49000,
          40000,
          22000,
          61000,
          0,
          0,
          57000,
          4000,
          33000,
          28000,
          28000,
          12000,
          21000,
          19000,
          7000,
          10000,
          14000,
          31000,
          14000,
          3000,
          0,
          0,
          25000,
          0,
          15000,
          37000,
          6000,
          15000,
          7000,
          28000,
          13000,
          39000,
          0,
          0,
          17000,
          10000,
          13000,
          0,
          0,
          6000,
          5000,
          63000,
          21000,
          0,
          17000,
          19000,
          5000,
          11000,
          21000,
          24000,
          8000,
          0,
          19000,
          4000,
          48000,
          17000,
          8000,
          67000,
          0,
          4000,
          17000,
          8000,
          0,
          6000,
          0,
          39000,
          12000,
          11000,
          0,
          14000,
          34000,
          0,
          61000,
          0,
          0,
          0,
          7000,
          0,
          12000,
          17000,
          7000,
          5000,
          0,
          0,
          6000,
          8000,
          0,
          0,
          0,
          0,
          22000,
          17000,
          43000,
          0,
          38000,
          22000,
          14000,
          0,
          0,
          17000,
          8000,
          6000,
          0,
          0,
          47000,
          8000,
          17000,
          19000,
          0,
          109000,
          12000,
          5000,
          19000,
          0,
          0,
          0,
          27000,
          2000,
          32000,
          19000,
          11000,
          7000,
          28000,
          7000,
          25000,
          5000,
          0,
          0,
          42000,
          0,
          4000,
          14000,
          12000,
          40000,
          0,
          31000,
          47000,
          26000,
          17000,
          4000,
          1000,
          0,
          0,
          19000,
          0,
          0,
          13000,
          16000,
          15000,
          0,
          0,
          9000,
          17000,
          40000,
          13000,
          7000,
          47000,
          4000,
          28000,
          21000,
          0,
          13000,
          0,
          9000,
          21000,
          39000,
          0,
          2000,
          13000,
          0,
          0,
          0,
          18000,
          2000,
          0,
          0,
          2000,
          0,
          14000,
          6000,
          15000,
          42000,
          26000,
          12000,
          40000,
          48000,
          29000,
          0,
          0,
          0,
          11000,
          12000,
          13000,
          0,
          9000,
          10000,
          0,
          5000,
          15000,
          10000,
          1000,
          12000,
          41000,
          15000,
          18000,
          105000,
          0,
          0,
          13000,
          26000,
          0,
          13000,
          5000,
          3000,
          30000,
          0,
          19000,
          46000,
          43000,
          61000,
          43000,
          0,
          43000,
          13000,
          73000,
          8000,
          45000,
          6000,
          51000,
          0,
          24000,
          11000,
          25000,
          1000,
          17000,
          9000,
          2000,
          29000,
          67000,
          43000,
          14000,
          0,
          8000,
          16000,
          0,
          64000,
          5000,
          1000,
          13000,
          0,
          20000,
          11000,
          6000,
          0,
          51000,
          0,
          23000,
          8000,
          0,
          0,
          21000,
          0,
          2000,
          5000,
          28000,
          7000,
          30000,
          0,
          6000,
          0,
          0,
          26000,
          0,
          8000,
          0,
          0,
          0,
          5000,
          1000,
          36000,
          31000,
          0,
          14000,
          4000,
          9000,
          0,
          10000,
          36000,
          2000,
          20000,
          17000,
          23000,
          18000,
          1000,
          0,
          16000,
          12000,
          0,
          31000,
          10000,
          34000,
          0,
          47000,
          20000,
          0,
          4000,
          31000,
          13000,
          30000,
          69000,
          0,
          5000,
          0,
          9000,
          9000,
          10000,
          0,
          15000,
          0,
          0,
          5000,
          0,
          8000,
          10000,
          0,
          6000,
          69000,
          24000,
          14000,
          26000,
          24000,
          22000,
          0,
          13000,
          56000,
          0,
          0,
          13000,
          10000,
          0,
          40000,
          31000,
          26000,
          8000,
          16000,
          2000,
          397000,
          2000,
          12000,
          24000,
          0,
          7000,
          30000,
          9000,
          20000,
          0,
          40000,
          14000,
          4000,
          24000,
          23000,
          0,
          8000,
          23000,
          61000,
          29000,
          0,
          8000,
          24000,
          12000,
          18000,
          21000,
          19000,
          16000,
          0,
          28000,
          0,
          4000,
          86000,
          4000,
          16000,
          0,
          0,
          2000,
          29000,
          19000,
          9000,
          1000,
          21000,
          0,
          0,
          9000,
          0,
          5000,
          0,
          8000,
          16000,
          9000,
          4000,
          28000,
          0,
          2000,
          10000,
          59000,
          10000,
          31000,
          12000,
          14000,
          9000,
          0,
          0,
          0,
          33000,
          18000,
          31000,
          0,
          39000,
          26000,
          31000,
          0,
          74000,
          6000,
          0,
          0,
          0,
          25000,
          3000,
          11000,
          10000,
          26000,
          45000,
          0,
          48000,
          0,
          0,
          0,
          74000,
          16000,
          0,
          12000,
          23000,
          7000,
          0,
          59000,
          0,
          0,
          0,
          12000,
          13000,
          25000,
          12000,
          15000,
          10000,
          56000,
          49000,
          10000,
          16000,
          0,
          4000,
          2000,
          38000,
          0,
          20000,
          0,
          15000,
          29000,
          0,
          0,
          3000,
          13000,
          13000,
          0,
          67000,
          19000,
          6000,
          21000,
          24000,
          4000,
          8000,
          15000,
          0,
          1000,
          9000,
          13000,
          2000,
          9000,
          24000,
          12000,
          0,
          19000,
          0,
          9000,
          25000,
          37000,
          23000,
          16000,
          13000,
          0,
          0,
          22000,
          21000,
          31000,
          16000,
          13000,
          0,
          0,
          40000,
          17000,
          12000,
          11000,
          12000,
          73000,
          15000,
          0,
          4000,
          16000,
          0,
          13000,
          34000,
          0,
          53000,
          18000,
          12000,
          31000,
          20000,
          25000,
          0,
          2000,
          0,
          4000,
          19000,
          28000,
          2000,
          17000,
          14000,
          0,
          29000,
          5000,
          0,
          29000,
          37000,
          60000,
          12000,
          4000,
          0,
          7000,
          2000,
          11000,
          13000,
          10000,
          14000,
          0,
          0,
          92000,
          0,
          3000,
          0,
          0,
          18000,
          35000,
          61000,
          26000,
          28000,
          8000,
          0,
          26000,
          0,
          0,
          37000,
          0,
          5000,
          20000,
          19000,
          0,
          43000,
          5000,
          39000,
          9000,
          10000,
          66000,
          12000,
          0,
          9000,
          7000,
          0,
          25000,
          0,
          39000,
          31000,
          0,
          45000,
          0,
          0,
          11000,
          0,
          7000,
          9000,
          22000,
          7000,
          0,
          7000,
          43000,
          0,
          11000,
          0
         ],
         "x0": " ",
         "xaxis": "x",
         "y0": " ",
         "yaxis": "y"
        }
       ],
       "layout": {
        "boxmode": "group",
        "height": 400,
        "legend": {
         "tracegroupgap": 0
        },
        "template": {
         "data": {
          "bar": [
           {
            "error_x": {
             "color": "#2a3f5f"
            },
            "error_y": {
             "color": "#2a3f5f"
            },
            "marker": {
             "line": {
              "color": "#E5ECF6",
              "width": 0.5
             },
             "pattern": {
              "fillmode": "overlay",
              "size": 10,
              "solidity": 0.2
             }
            },
            "type": "bar"
           }
          ],
          "barpolar": [
           {
            "marker": {
             "line": {
              "color": "#E5ECF6",
              "width": 0.5
             },
             "pattern": {
              "fillmode": "overlay",
              "size": 10,
              "solidity": 0.2
             }
            },
            "type": "barpolar"
           }
          ],
          "carpet": [
           {
            "aaxis": {
             "endlinecolor": "#2a3f5f",
             "gridcolor": "white",
             "linecolor": "white",
             "minorgridcolor": "white",
             "startlinecolor": "#2a3f5f"
            },
            "baxis": {
             "endlinecolor": "#2a3f5f",
             "gridcolor": "white",
             "linecolor": "white",
             "minorgridcolor": "white",
             "startlinecolor": "#2a3f5f"
            },
            "type": "carpet"
           }
          ],
          "choropleth": [
           {
            "colorbar": {
             "outlinewidth": 0,
             "ticks": ""
            },
            "type": "choropleth"
           }
          ],
          "contour": [
           {
            "colorbar": {
             "outlinewidth": 0,
             "ticks": ""
            },
            "colorscale": [
             [
              0,
              "#0d0887"
             ],
             [
              0.1111111111111111,
              "#46039f"
             ],
             [
              0.2222222222222222,
              "#7201a8"
             ],
             [
              0.3333333333333333,
              "#9c179e"
             ],
             [
              0.4444444444444444,
              "#bd3786"
             ],
             [
              0.5555555555555556,
              "#d8576b"
             ],
             [
              0.6666666666666666,
              "#ed7953"
             ],
             [
              0.7777777777777778,
              "#fb9f3a"
             ],
             [
              0.8888888888888888,
              "#fdca26"
             ],
             [
              1,
              "#f0f921"
             ]
            ],
            "type": "contour"
           }
          ],
          "contourcarpet": [
           {
            "colorbar": {
             "outlinewidth": 0,
             "ticks": ""
            },
            "type": "contourcarpet"
           }
          ],
          "heatmap": [
           {
            "colorbar": {
             "outlinewidth": 0,
             "ticks": ""
            },
            "colorscale": [
             [
              0,
              "#0d0887"
             ],
             [
              0.1111111111111111,
              "#46039f"
             ],
             [
              0.2222222222222222,
              "#7201a8"
             ],
             [
              0.3333333333333333,
              "#9c179e"
             ],
             [
              0.4444444444444444,
              "#bd3786"
             ],
             [
              0.5555555555555556,
              "#d8576b"
             ],
             [
              0.6666666666666666,
              "#ed7953"
             ],
             [
              0.7777777777777778,
              "#fb9f3a"
             ],
             [
              0.8888888888888888,
              "#fdca26"
             ],
             [
              1,
              "#f0f921"
             ]
            ],
            "type": "heatmap"
           }
          ],
          "heatmapgl": [
           {
            "colorbar": {
             "outlinewidth": 0,
             "ticks": ""
            },
            "colorscale": [
             [
              0,
              "#0d0887"
             ],
             [
              0.1111111111111111,
              "#46039f"
             ],
             [
              0.2222222222222222,
              "#7201a8"
             ],
             [
              0.3333333333333333,
              "#9c179e"
             ],
             [
              0.4444444444444444,
              "#bd3786"
             ],
             [
              0.5555555555555556,
              "#d8576b"
             ],
             [
              0.6666666666666666,
              "#ed7953"
             ],
             [
              0.7777777777777778,
              "#fb9f3a"
             ],
             [
              0.8888888888888888,
              "#fdca26"
             ],
             [
              1,
              "#f0f921"
             ]
            ],
            "type": "heatmapgl"
           }
          ],
          "histogram": [
           {
            "marker": {
             "pattern": {
              "fillmode": "overlay",
              "size": 10,
              "solidity": 0.2
             }
            },
            "type": "histogram"
           }
          ],
          "histogram2d": [
           {
            "colorbar": {
             "outlinewidth": 0,
             "ticks": ""
            },
            "colorscale": [
             [
              0,
              "#0d0887"
             ],
             [
              0.1111111111111111,
              "#46039f"
             ],
             [
              0.2222222222222222,
              "#7201a8"
             ],
             [
              0.3333333333333333,
              "#9c179e"
             ],
             [
              0.4444444444444444,
              "#bd3786"
             ],
             [
              0.5555555555555556,
              "#d8576b"
             ],
             [
              0.6666666666666666,
              "#ed7953"
             ],
             [
              0.7777777777777778,
              "#fb9f3a"
             ],
             [
              0.8888888888888888,
              "#fdca26"
             ],
             [
              1,
              "#f0f921"
             ]
            ],
            "type": "histogram2d"
           }
          ],
          "histogram2dcontour": [
           {
            "colorbar": {
             "outlinewidth": 0,
             "ticks": ""
            },
            "colorscale": [
             [
              0,
              "#0d0887"
             ],
             [
              0.1111111111111111,
              "#46039f"
             ],
             [
              0.2222222222222222,
              "#7201a8"
             ],
             [
              0.3333333333333333,
              "#9c179e"
             ],
             [
              0.4444444444444444,
              "#bd3786"
             ],
             [
              0.5555555555555556,
              "#d8576b"
             ],
             [
              0.6666666666666666,
              "#ed7953"
             ],
             [
              0.7777777777777778,
              "#fb9f3a"
             ],
             [
              0.8888888888888888,
              "#fdca26"
             ],
             [
              1,
              "#f0f921"
             ]
            ],
            "type": "histogram2dcontour"
           }
          ],
          "mesh3d": [
           {
            "colorbar": {
             "outlinewidth": 0,
             "ticks": ""
            },
            "type": "mesh3d"
           }
          ],
          "parcoords": [
           {
            "line": {
             "colorbar": {
              "outlinewidth": 0,
              "ticks": ""
             }
            },
            "type": "parcoords"
           }
          ],
          "pie": [
           {
            "automargin": true,
            "type": "pie"
           }
          ],
          "scatter": [
           {
            "fillpattern": {
             "fillmode": "overlay",
             "size": 10,
             "solidity": 0.2
            },
            "type": "scatter"
           }
          ],
          "scatter3d": [
           {
            "line": {
             "colorbar": {
              "outlinewidth": 0,
              "ticks": ""
             }
            },
            "marker": {
             "colorbar": {
              "outlinewidth": 0,
              "ticks": ""
             }
            },
            "type": "scatter3d"
           }
          ],
          "scattercarpet": [
           {
            "marker": {
             "colorbar": {
              "outlinewidth": 0,
              "ticks": ""
             }
            },
            "type": "scattercarpet"
           }
          ],
          "scattergeo": [
           {
            "marker": {
             "colorbar": {
              "outlinewidth": 0,
              "ticks": ""
             }
            },
            "type": "scattergeo"
           }
          ],
          "scattergl": [
           {
            "marker": {
             "colorbar": {
              "outlinewidth": 0,
              "ticks": ""
             }
            },
            "type": "scattergl"
           }
          ],
          "scattermapbox": [
           {
            "marker": {
             "colorbar": {
              "outlinewidth": 0,
              "ticks": ""
             }
            },
            "type": "scattermapbox"
           }
          ],
          "scatterpolar": [
           {
            "marker": {
             "colorbar": {
              "outlinewidth": 0,
              "ticks": ""
             }
            },
            "type": "scatterpolar"
           }
          ],
          "scatterpolargl": [
           {
            "marker": {
             "colorbar": {
              "outlinewidth": 0,
              "ticks": ""
             }
            },
            "type": "scatterpolargl"
           }
          ],
          "scatterternary": [
           {
            "marker": {
             "colorbar": {
              "outlinewidth": 0,
              "ticks": ""
             }
            },
            "type": "scatterternary"
           }
          ],
          "surface": [
           {
            "colorbar": {
             "outlinewidth": 0,
             "ticks": ""
            },
            "colorscale": [
             [
              0,
              "#0d0887"
             ],
             [
              0.1111111111111111,
              "#46039f"
             ],
             [
              0.2222222222222222,
              "#7201a8"
             ],
             [
              0.3333333333333333,
              "#9c179e"
             ],
             [
              0.4444444444444444,
              "#bd3786"
             ],
             [
              0.5555555555555556,
              "#d8576b"
             ],
             [
              0.6666666666666666,
              "#ed7953"
             ],
             [
              0.7777777777777778,
              "#fb9f3a"
             ],
             [
              0.8888888888888888,
              "#fdca26"
             ],
             [
              1,
              "#f0f921"
             ]
            ],
            "type": "surface"
           }
          ],
          "table": [
           {
            "cells": {
             "fill": {
              "color": "#EBF0F8"
             },
             "line": {
              "color": "white"
             }
            },
            "header": {
             "fill": {
              "color": "#C8D4E3"
             },
             "line": {
              "color": "white"
             }
            },
            "type": "table"
           }
          ]
         },
         "layout": {
          "annotationdefaults": {
           "arrowcolor": "#2a3f5f",
           "arrowhead": 0,
           "arrowwidth": 1
          },
          "autotypenumbers": "strict",
          "coloraxis": {
           "colorbar": {
            "outlinewidth": 0,
            "ticks": ""
           }
          },
          "colorscale": {
           "diverging": [
            [
             0,
             "#8e0152"
            ],
            [
             0.1,
             "#c51b7d"
            ],
            [
             0.2,
             "#de77ae"
            ],
            [
             0.3,
             "#f1b6da"
            ],
            [
             0.4,
             "#fde0ef"
            ],
            [
             0.5,
             "#f7f7f7"
            ],
            [
             0.6,
             "#e6f5d0"
            ],
            [
             0.7,
             "#b8e186"
            ],
            [
             0.8,
             "#7fbc41"
            ],
            [
             0.9,
             "#4d9221"
            ],
            [
             1,
             "#276419"
            ]
           ],
           "sequential": [
            [
             0,
             "#0d0887"
            ],
            [
             0.1111111111111111,
             "#46039f"
            ],
            [
             0.2222222222222222,
             "#7201a8"
            ],
            [
             0.3333333333333333,
             "#9c179e"
            ],
            [
             0.4444444444444444,
             "#bd3786"
            ],
            [
             0.5555555555555556,
             "#d8576b"
            ],
            [
             0.6666666666666666,
             "#ed7953"
            ],
            [
             0.7777777777777778,
             "#fb9f3a"
            ],
            [
             0.8888888888888888,
             "#fdca26"
            ],
            [
             1,
             "#f0f921"
            ]
           ],
           "sequentialminus": [
            [
             0,
             "#0d0887"
            ],
            [
             0.1111111111111111,
             "#46039f"
            ],
            [
             0.2222222222222222,
             "#7201a8"
            ],
            [
             0.3333333333333333,
             "#9c179e"
            ],
            [
             0.4444444444444444,
             "#bd3786"
            ],
            [
             0.5555555555555556,
             "#d8576b"
            ],
            [
             0.6666666666666666,
             "#ed7953"
            ],
            [
             0.7777777777777778,
             "#fb9f3a"
            ],
            [
             0.8888888888888888,
             "#fdca26"
            ],
            [
             1,
             "#f0f921"
            ]
           ]
          },
          "colorway": [
           "#636efa",
           "#EF553B",
           "#00cc96",
           "#ab63fa",
           "#FFA15A",
           "#19d3f3",
           "#FF6692",
           "#B6E880",
           "#FF97FF",
           "#FECB52"
          ],
          "font": {
           "color": "#2a3f5f"
          },
          "geo": {
           "bgcolor": "white",
           "lakecolor": "white",
           "landcolor": "#E5ECF6",
           "showlakes": true,
           "showland": true,
           "subunitcolor": "white"
          },
          "hoverlabel": {
           "align": "left"
          },
          "hovermode": "closest",
          "mapbox": {
           "style": "light"
          },
          "paper_bgcolor": "white",
          "plot_bgcolor": "#E5ECF6",
          "polar": {
           "angularaxis": {
            "gridcolor": "white",
            "linecolor": "white",
            "ticks": ""
           },
           "bgcolor": "#E5ECF6",
           "radialaxis": {
            "gridcolor": "white",
            "linecolor": "white",
            "ticks": ""
           }
          },
          "scene": {
           "xaxis": {
            "backgroundcolor": "#E5ECF6",
            "gridcolor": "white",
            "gridwidth": 2,
            "linecolor": "white",
            "showbackground": true,
            "ticks": "",
            "zerolinecolor": "white"
           },
           "yaxis": {
            "backgroundcolor": "#E5ECF6",
            "gridcolor": "white",
            "gridwidth": 2,
            "linecolor": "white",
            "showbackground": true,
            "ticks": "",
            "zerolinecolor": "white"
           },
           "zaxis": {
            "backgroundcolor": "#E5ECF6",
            "gridcolor": "white",
            "gridwidth": 2,
            "linecolor": "white",
            "showbackground": true,
            "ticks": "",
            "zerolinecolor": "white"
           }
          },
          "shapedefaults": {
           "line": {
            "color": "#2a3f5f"
           }
          },
          "ternary": {
           "aaxis": {
            "gridcolor": "white",
            "linecolor": "white",
            "ticks": ""
           },
           "baxis": {
            "gridcolor": "white",
            "linecolor": "white",
            "ticks": ""
           },
           "bgcolor": "#E5ECF6",
           "caxis": {
            "gridcolor": "white",
            "linecolor": "white",
            "ticks": ""
           }
          },
          "title": {
           "x": 0.05
          },
          "xaxis": {
           "automargin": true,
           "gridcolor": "white",
           "linecolor": "white",
           "ticks": "",
           "title": {
            "standoff": 15
           },
           "zerolinecolor": "white",
           "zerolinewidth": 2
          },
          "yaxis": {
           "automargin": true,
           "gridcolor": "white",
           "linecolor": "white",
           "ticks": "",
           "title": {
            "standoff": 15
           },
           "zerolinecolor": "white",
           "zerolinewidth": 2
          }
         }
        },
        "title": {
         "text": "ela"
        },
        "width": 1500,
        "xaxis": {
         "anchor": "y",
         "domain": [
          0,
          1
         ],
         "title": {
          "text": "ela"
         }
        },
        "yaxis": {
         "anchor": "x",
         "domain": [
          0,
          1
         ]
        }
       }
      }
     },
     "metadata": {},
     "output_type": "display_data"
    },
    {
     "data": {
      "application/vnd.plotly.v1+json": {
       "config": {
        "plotlyServerURL": "https://plot.ly"
       },
       "data": [
        {
         "alignmentgroup": "True",
         "hovertemplate": "financeAmount=%{x}<extra></extra>",
         "legendgroup": "",
         "marker": {
          "color": "#636efa"
         },
         "name": "",
         "notched": false,
         "offsetgroup": "",
         "orientation": "h",
         "showlegend": false,
         "type": "box",
         "x": [
          5000,
          0,
          6000,
          1000,
          0,
          10000,
          3000,
          1000,
          2000,
          2000,
          8500,
          0,
          3000,
          1500,
          0,
          0,
          5000,
          0,
          2100,
          0,
          2500,
          3000,
          5000,
          10000,
          0,
          0,
          2500,
          0,
          0,
          0,
          0,
          0,
          1800,
          5000,
          2000,
          5100,
          2000,
          5000,
          2600,
          2000,
          0,
          3000,
          5000,
          1000,
          0,
          0,
          0,
          0,
          10000,
          1000,
          10000,
          5000,
          0,
          5000,
          3000,
          0,
          5000,
          5000,
          5000,
          1500,
          1000,
          10000,
          10000,
          0,
          0,
          0,
          0,
          1900,
          1200,
          3000,
          5000,
          3000,
          0,
          2000,
          10000,
          1000,
          0,
          0,
          10000,
          0,
          10000,
          0,
          6000,
          4000,
          5000,
          2000,
          10000,
          10000,
          3000,
          3000,
          0,
          0,
          0,
          5000,
          0,
          4000,
          3000,
          7000,
          0,
          4000,
          0,
          0,
          1000,
          9000,
          10000,
          5000,
          4000,
          6000,
          0,
          1000,
          0,
          2000,
          0,
          3000,
          8000,
          0,
          2000,
          5000,
          10000,
          3000,
          10000,
          3000,
          0,
          3000,
          2400,
          0,
          0,
          1000,
          0,
          3000,
          4000,
          0,
          7000,
          0,
          5000,
          0,
          10000,
          4000,
          6000,
          0,
          5200,
          10000,
          10000,
          0,
          8000,
          0,
          10000,
          0,
          0,
          2500,
          10000,
          0,
          0,
          0,
          0,
          3000,
          2500,
          0,
          1000,
          1000,
          0,
          1500,
          4000,
          4000,
          1000,
          2000,
          3000,
          5000,
          9900,
          10000,
          3000,
          2000,
          5400,
          1000,
          0,
          1900,
          10000,
          5000,
          3000,
          1500,
          0,
          5000,
          1800,
          0,
          5100,
          1000,
          1500,
          5000,
          0,
          10000,
          5000,
          3000,
          5000,
          1000,
          3000,
          10000,
          0,
          3000,
          5000,
          1000,
          0,
          1000,
          1000,
          10000,
          1000,
          10000,
          1000,
          5000,
          3500,
          5000,
          0,
          8000,
          5000,
          2000,
          4000,
          5000,
          4000,
          5000,
          1600,
          3000,
          5000,
          10000,
          10000,
          2000,
          4000,
          4000,
          5300,
          2000,
          5000,
          10000,
          10000,
          5000,
          3000,
          1000,
          1000,
          0,
          10000,
          1000,
          5000,
          2000,
          3000,
          5000,
          5000,
          1200,
          10000,
          2000,
          0,
          3500,
          0,
          8500,
          10000,
          0,
          0,
          5000,
          0,
          0,
          3000,
          1000,
          1000,
          2000,
          5000,
          0,
          5000,
          0,
          1000,
          0,
          1200,
          0,
          10000,
          0,
          0,
          0,
          0,
          0,
          0,
          10000,
          10000,
          3000,
          3000,
          0,
          0,
          0,
          0,
          0,
          0,
          5000,
          0,
          10000,
          1000,
          3500,
          10000,
          3000,
          0,
          4000,
          0,
          5000,
          0,
          2000,
          1000,
          3000,
          0,
          0,
          2000,
          6000,
          10000,
          0,
          9000,
          1000,
          6000,
          2000,
          1000,
          2000,
          4000,
          1000,
          0,
          5000,
          0,
          0,
          5000,
          2500,
          2500,
          10000,
          1000,
          10000,
          2000,
          0,
          0,
          0,
          0,
          0,
          3000,
          10000,
          1000,
          5500,
          10000,
          2000,
          1500,
          5000,
          10000,
          1000,
          0,
          2500,
          5100,
          0,
          1000,
          10000,
          0,
          2000,
          3000,
          10000,
          2500,
          2000,
          0,
          0,
          5000,
          3500,
          1000,
          2400,
          0,
          8000,
          1000,
          1500,
          5000,
          2000,
          2000,
          1000,
          2000,
          4000,
          0,
          0,
          10000,
          3000,
          2000,
          0,
          4500,
          0,
          2000,
          6000,
          2000,
          0,
          10000,
          0,
          10000,
          3000,
          1000,
          0,
          0,
          3000,
          0,
          1000,
          0,
          10000,
          2500,
          0,
          3000,
          10000,
          5000,
          10000,
          0,
          0,
          5000,
          1700,
          10000,
          4000,
          10000,
          7000,
          2500,
          8000,
          3200,
          4100,
          1000,
          6000,
          1000,
          3000,
          0,
          0,
          5000,
          0,
          2000,
          1500,
          1000,
          5000,
          1500,
          6000,
          3000,
          4800,
          0,
          0,
          2000,
          1500,
          1000,
          0,
          0,
          1500,
          5000,
          10000,
          10000,
          0,
          10000,
          7000,
          3000,
          2000,
          8000,
          10000,
          5000,
          0,
          2000,
          4000,
          5000,
          10000,
          4000,
          10000,
          0,
          1000,
          6500,
          2000,
          0,
          3000,
          0,
          10000,
          5200,
          5000,
          0,
          10000,
          5000,
          0,
          10000,
          0,
          0,
          0,
          5000,
          0,
          3000,
          4000,
          1000,
          5000,
          0,
          0,
          3600,
          1500,
          0,
          0,
          0,
          0,
          5000,
          3000,
          3500,
          0,
          7000,
          4100,
          10000,
          0,
          0,
          10000,
          5000,
          6000,
          0,
          0,
          10000,
          3000,
          7000,
          5000,
          0,
          10000,
          1000,
          5000,
          1500,
          0,
          0,
          0,
          5000,
          1200,
          8500,
          3000,
          3000,
          1000,
          5000,
          7000,
          7000,
          2000,
          0,
          0,
          10000,
          0,
          4000,
          2000,
          4000,
          5000,
          0,
          5000,
          5000,
          10000,
          5900,
          1000,
          1000,
          0,
          0,
          10000,
          0,
          0,
          6000,
          2300,
          1000,
          0,
          0,
          1000,
          3000,
          10000,
          10000,
          5300,
          5000,
          1000,
          7000,
          2000,
          0,
          3500,
          0,
          1500,
          3300,
          5000,
          0,
          2000,
          1000,
          0,
          0,
          0,
          10000,
          1000,
          0,
          0,
          2000,
          0,
          1000,
          2000,
          10000,
          5000,
          2000,
          5000,
          5000,
          10000,
          1000,
          0,
          0,
          0,
          4000,
          2000,
          2500,
          0,
          5000,
          2000,
          0,
          3500,
          5000,
          3000,
          1000,
          3300,
          4400,
          2000,
          4000,
          10000,
          0,
          0,
          10000,
          10000,
          0,
          2000,
          4000,
          1000,
          3000,
          0,
          6000,
          2000,
          5000,
          10000,
          1500,
          0,
          6000,
          3000,
          10000,
          2000,
          5000,
          5500,
          2000,
          0,
          5000,
          5000,
          10000,
          1000,
          9000,
          3000,
          1000,
          5500,
          10000,
          5000,
          3000,
          0,
          5000,
          6000,
          0,
          7000,
          5000,
          1000,
          1000,
          0,
          1000,
          1500,
          5000,
          0,
          10000,
          0,
          5000,
          1000,
          0,
          0,
          10000,
          0,
          2000,
          5000,
          3000,
          5000,
          5000,
          0,
          2000,
          0,
          0,
          2000,
          0,
          1500,
          0,
          0,
          0,
          1800,
          1000,
          7500,
          10000,
          0,
          1500,
          1700,
          1900,
          0,
          2500,
          5000,
          2000,
          3000,
          6000,
          1000,
          5400,
          1000,
          0,
          3500,
          2000,
          0,
          5000,
          5000,
          3000,
          0,
          10000,
          5000,
          0,
          2000,
          8000,
          3500,
          1000,
          7500,
          0,
          3000,
          0,
          1000,
          5000,
          5500,
          0,
          8000,
          0,
          0,
          1000,
          0,
          2000,
          3500,
          0,
          3000,
          10000,
          10000,
          1700,
          2000,
          1000,
          1000,
          0,
          1500,
          3100,
          0,
          0,
          1500,
          5000,
          0,
          10000,
          4000,
          7000,
          3000,
          2000,
          1000,
          10000,
          2000,
          3000,
          6000,
          0,
          5000,
          10000,
          5000,
          1500,
          0,
          10000,
          8000,
          4000,
          3500,
          9000,
          0,
          5000,
          2000,
          10000,
          10000,
          0,
          2000,
          5000,
          5000,
          3300,
          2500,
          1500,
          5000,
          0,
          5000,
          0,
          4000,
          10000,
          4000,
          2000,
          0,
          0,
          2000,
          2000,
          10000,
          1000,
          1000,
          10000,
          0,
          0,
          2000,
          0,
          2000,
          0,
          6400,
          1800,
          5000,
          1500,
          2500,
          0,
          2000,
          2000,
          7500,
          6000,
          10000,
          10000,
          2000,
          7000,
          0,
          0,
          0,
          5000,
          10000,
          8000,
          0,
          5000,
          10000,
          6000,
          0,
          10000,
          6000,
          0,
          0,
          0,
          2000,
          2000,
          5000,
          2000,
          10000,
          8000,
          0,
          6200,
          0,
          0,
          0,
          10000,
          6000,
          0,
          5200,
          10000,
          5500,
          0,
          3000,
          0,
          0,
          0,
          2000,
          1000,
          10000,
          3000,
          10000,
          4000,
          10000,
          10000,
          2000,
          3000,
          0,
          2200,
          1000,
          5300,
          0,
          10000,
          0,
          3000,
          10000,
          0,
          0,
          3000,
          1500,
          10000,
          0,
          10000,
          1400,
          5000,
          4000,
          2000,
          1000,
          1500,
          6000,
          0,
          1000,
          3500,
          1000,
          2000,
          5000,
          5100,
          10000,
          0,
          10000,
          0,
          3000,
          7000,
          5000,
          4500,
          5000,
          7000,
          0,
          0,
          2000,
          10000,
          4000,
          3300,
          5000,
          0,
          0,
          2000,
          1000,
          3500,
          6600,
          2000,
          5000,
          2600,
          0,
          1800,
          5000,
          0,
          3300,
          6400,
          0,
          5000,
          3000,
          10000,
          10000,
          5000,
          5000,
          0,
          1000,
          0,
          4000,
          1000,
          7500,
          2000,
          10000,
          1500,
          0,
          5300,
          3000,
          0,
          1600,
          1000,
          9000,
          5000,
          2000,
          0,
          7000,
          2000,
          5000,
          10000,
          1500,
          10000,
          0,
          0,
          10000,
          0,
          2000,
          0,
          0,
          2000,
          4000,
          10000,
          10000,
          10000,
          3500,
          0,
          6000,
          0,
          0,
          5000,
          0,
          3000,
          3000,
          10000,
          0,
          5000,
          2000,
          10000,
          5000,
          5000,
          10000,
          10000,
          0,
          2000,
          2500,
          0,
          10000,
          0,
          2000,
          5000,
          0,
          7500,
          0,
          0,
          10000,
          0,
          1200,
          2000,
          3500,
          2500,
          0,
          7000,
          5000,
          0,
          2000,
          0
         ],
         "x0": " ",
         "xaxis": "x",
         "y0": " ",
         "yaxis": "y"
        }
       ],
       "layout": {
        "boxmode": "group",
        "height": 400,
        "legend": {
         "tracegroupgap": 0
        },
        "template": {
         "data": {
          "bar": [
           {
            "error_x": {
             "color": "#2a3f5f"
            },
            "error_y": {
             "color": "#2a3f5f"
            },
            "marker": {
             "line": {
              "color": "#E5ECF6",
              "width": 0.5
             },
             "pattern": {
              "fillmode": "overlay",
              "size": 10,
              "solidity": 0.2
             }
            },
            "type": "bar"
           }
          ],
          "barpolar": [
           {
            "marker": {
             "line": {
              "color": "#E5ECF6",
              "width": 0.5
             },
             "pattern": {
              "fillmode": "overlay",
              "size": 10,
              "solidity": 0.2
             }
            },
            "type": "barpolar"
           }
          ],
          "carpet": [
           {
            "aaxis": {
             "endlinecolor": "#2a3f5f",
             "gridcolor": "white",
             "linecolor": "white",
             "minorgridcolor": "white",
             "startlinecolor": "#2a3f5f"
            },
            "baxis": {
             "endlinecolor": "#2a3f5f",
             "gridcolor": "white",
             "linecolor": "white",
             "minorgridcolor": "white",
             "startlinecolor": "#2a3f5f"
            },
            "type": "carpet"
           }
          ],
          "choropleth": [
           {
            "colorbar": {
             "outlinewidth": 0,
             "ticks": ""
            },
            "type": "choropleth"
           }
          ],
          "contour": [
           {
            "colorbar": {
             "outlinewidth": 0,
             "ticks": ""
            },
            "colorscale": [
             [
              0,
              "#0d0887"
             ],
             [
              0.1111111111111111,
              "#46039f"
             ],
             [
              0.2222222222222222,
              "#7201a8"
             ],
             [
              0.3333333333333333,
              "#9c179e"
             ],
             [
              0.4444444444444444,
              "#bd3786"
             ],
             [
              0.5555555555555556,
              "#d8576b"
             ],
             [
              0.6666666666666666,
              "#ed7953"
             ],
             [
              0.7777777777777778,
              "#fb9f3a"
             ],
             [
              0.8888888888888888,
              "#fdca26"
             ],
             [
              1,
              "#f0f921"
             ]
            ],
            "type": "contour"
           }
          ],
          "contourcarpet": [
           {
            "colorbar": {
             "outlinewidth": 0,
             "ticks": ""
            },
            "type": "contourcarpet"
           }
          ],
          "heatmap": [
           {
            "colorbar": {
             "outlinewidth": 0,
             "ticks": ""
            },
            "colorscale": [
             [
              0,
              "#0d0887"
             ],
             [
              0.1111111111111111,
              "#46039f"
             ],
             [
              0.2222222222222222,
              "#7201a8"
             ],
             [
              0.3333333333333333,
              "#9c179e"
             ],
             [
              0.4444444444444444,
              "#bd3786"
             ],
             [
              0.5555555555555556,
              "#d8576b"
             ],
             [
              0.6666666666666666,
              "#ed7953"
             ],
             [
              0.7777777777777778,
              "#fb9f3a"
             ],
             [
              0.8888888888888888,
              "#fdca26"
             ],
             [
              1,
              "#f0f921"
             ]
            ],
            "type": "heatmap"
           }
          ],
          "heatmapgl": [
           {
            "colorbar": {
             "outlinewidth": 0,
             "ticks": ""
            },
            "colorscale": [
             [
              0,
              "#0d0887"
             ],
             [
              0.1111111111111111,
              "#46039f"
             ],
             [
              0.2222222222222222,
              "#7201a8"
             ],
             [
              0.3333333333333333,
              "#9c179e"
             ],
             [
              0.4444444444444444,
              "#bd3786"
             ],
             [
              0.5555555555555556,
              "#d8576b"
             ],
             [
              0.6666666666666666,
              "#ed7953"
             ],
             [
              0.7777777777777778,
              "#fb9f3a"
             ],
             [
              0.8888888888888888,
              "#fdca26"
             ],
             [
              1,
              "#f0f921"
             ]
            ],
            "type": "heatmapgl"
           }
          ],
          "histogram": [
           {
            "marker": {
             "pattern": {
              "fillmode": "overlay",
              "size": 10,
              "solidity": 0.2
             }
            },
            "type": "histogram"
           }
          ],
          "histogram2d": [
           {
            "colorbar": {
             "outlinewidth": 0,
             "ticks": ""
            },
            "colorscale": [
             [
              0,
              "#0d0887"
             ],
             [
              0.1111111111111111,
              "#46039f"
             ],
             [
              0.2222222222222222,
              "#7201a8"
             ],
             [
              0.3333333333333333,
              "#9c179e"
             ],
             [
              0.4444444444444444,
              "#bd3786"
             ],
             [
              0.5555555555555556,
              "#d8576b"
             ],
             [
              0.6666666666666666,
              "#ed7953"
             ],
             [
              0.7777777777777778,
              "#fb9f3a"
             ],
             [
              0.8888888888888888,
              "#fdca26"
             ],
             [
              1,
              "#f0f921"
             ]
            ],
            "type": "histogram2d"
           }
          ],
          "histogram2dcontour": [
           {
            "colorbar": {
             "outlinewidth": 0,
             "ticks": ""
            },
            "colorscale": [
             [
              0,
              "#0d0887"
             ],
             [
              0.1111111111111111,
              "#46039f"
             ],
             [
              0.2222222222222222,
              "#7201a8"
             ],
             [
              0.3333333333333333,
              "#9c179e"
             ],
             [
              0.4444444444444444,
              "#bd3786"
             ],
             [
              0.5555555555555556,
              "#d8576b"
             ],
             [
              0.6666666666666666,
              "#ed7953"
             ],
             [
              0.7777777777777778,
              "#fb9f3a"
             ],
             [
              0.8888888888888888,
              "#fdca26"
             ],
             [
              1,
              "#f0f921"
             ]
            ],
            "type": "histogram2dcontour"
           }
          ],
          "mesh3d": [
           {
            "colorbar": {
             "outlinewidth": 0,
             "ticks": ""
            },
            "type": "mesh3d"
           }
          ],
          "parcoords": [
           {
            "line": {
             "colorbar": {
              "outlinewidth": 0,
              "ticks": ""
             }
            },
            "type": "parcoords"
           }
          ],
          "pie": [
           {
            "automargin": true,
            "type": "pie"
           }
          ],
          "scatter": [
           {
            "fillpattern": {
             "fillmode": "overlay",
             "size": 10,
             "solidity": 0.2
            },
            "type": "scatter"
           }
          ],
          "scatter3d": [
           {
            "line": {
             "colorbar": {
              "outlinewidth": 0,
              "ticks": ""
             }
            },
            "marker": {
             "colorbar": {
              "outlinewidth": 0,
              "ticks": ""
             }
            },
            "type": "scatter3d"
           }
          ],
          "scattercarpet": [
           {
            "marker": {
             "colorbar": {
              "outlinewidth": 0,
              "ticks": ""
             }
            },
            "type": "scattercarpet"
           }
          ],
          "scattergeo": [
           {
            "marker": {
             "colorbar": {
              "outlinewidth": 0,
              "ticks": ""
             }
            },
            "type": "scattergeo"
           }
          ],
          "scattergl": [
           {
            "marker": {
             "colorbar": {
              "outlinewidth": 0,
              "ticks": ""
             }
            },
            "type": "scattergl"
           }
          ],
          "scattermapbox": [
           {
            "marker": {
             "colorbar": {
              "outlinewidth": 0,
              "ticks": ""
             }
            },
            "type": "scattermapbox"
           }
          ],
          "scatterpolar": [
           {
            "marker": {
             "colorbar": {
              "outlinewidth": 0,
              "ticks": ""
             }
            },
            "type": "scatterpolar"
           }
          ],
          "scatterpolargl": [
           {
            "marker": {
             "colorbar": {
              "outlinewidth": 0,
              "ticks": ""
             }
            },
            "type": "scatterpolargl"
           }
          ],
          "scatterternary": [
           {
            "marker": {
             "colorbar": {
              "outlinewidth": 0,
              "ticks": ""
             }
            },
            "type": "scatterternary"
           }
          ],
          "surface": [
           {
            "colorbar": {
             "outlinewidth": 0,
             "ticks": ""
            },
            "colorscale": [
             [
              0,
              "#0d0887"
             ],
             [
              0.1111111111111111,
              "#46039f"
             ],
             [
              0.2222222222222222,
              "#7201a8"
             ],
             [
              0.3333333333333333,
              "#9c179e"
             ],
             [
              0.4444444444444444,
              "#bd3786"
             ],
             [
              0.5555555555555556,
              "#d8576b"
             ],
             [
              0.6666666666666666,
              "#ed7953"
             ],
             [
              0.7777777777777778,
              "#fb9f3a"
             ],
             [
              0.8888888888888888,
              "#fdca26"
             ],
             [
              1,
              "#f0f921"
             ]
            ],
            "type": "surface"
           }
          ],
          "table": [
           {
            "cells": {
             "fill": {
              "color": "#EBF0F8"
             },
             "line": {
              "color": "white"
             }
            },
            "header": {
             "fill": {
              "color": "#C8D4E3"
             },
             "line": {
              "color": "white"
             }
            },
            "type": "table"
           }
          ]
         },
         "layout": {
          "annotationdefaults": {
           "arrowcolor": "#2a3f5f",
           "arrowhead": 0,
           "arrowwidth": 1
          },
          "autotypenumbers": "strict",
          "coloraxis": {
           "colorbar": {
            "outlinewidth": 0,
            "ticks": ""
           }
          },
          "colorscale": {
           "diverging": [
            [
             0,
             "#8e0152"
            ],
            [
             0.1,
             "#c51b7d"
            ],
            [
             0.2,
             "#de77ae"
            ],
            [
             0.3,
             "#f1b6da"
            ],
            [
             0.4,
             "#fde0ef"
            ],
            [
             0.5,
             "#f7f7f7"
            ],
            [
             0.6,
             "#e6f5d0"
            ],
            [
             0.7,
             "#b8e186"
            ],
            [
             0.8,
             "#7fbc41"
            ],
            [
             0.9,
             "#4d9221"
            ],
            [
             1,
             "#276419"
            ]
           ],
           "sequential": [
            [
             0,
             "#0d0887"
            ],
            [
             0.1111111111111111,
             "#46039f"
            ],
            [
             0.2222222222222222,
             "#7201a8"
            ],
            [
             0.3333333333333333,
             "#9c179e"
            ],
            [
             0.4444444444444444,
             "#bd3786"
            ],
            [
             0.5555555555555556,
             "#d8576b"
            ],
            [
             0.6666666666666666,
             "#ed7953"
            ],
            [
             0.7777777777777778,
             "#fb9f3a"
            ],
            [
             0.8888888888888888,
             "#fdca26"
            ],
            [
             1,
             "#f0f921"
            ]
           ],
           "sequentialminus": [
            [
             0,
             "#0d0887"
            ],
            [
             0.1111111111111111,
             "#46039f"
            ],
            [
             0.2222222222222222,
             "#7201a8"
            ],
            [
             0.3333333333333333,
             "#9c179e"
            ],
            [
             0.4444444444444444,
             "#bd3786"
            ],
            [
             0.5555555555555556,
             "#d8576b"
            ],
            [
             0.6666666666666666,
             "#ed7953"
            ],
            [
             0.7777777777777778,
             "#fb9f3a"
            ],
            [
             0.8888888888888888,
             "#fdca26"
            ],
            [
             1,
             "#f0f921"
            ]
           ]
          },
          "colorway": [
           "#636efa",
           "#EF553B",
           "#00cc96",
           "#ab63fa",
           "#FFA15A",
           "#19d3f3",
           "#FF6692",
           "#B6E880",
           "#FF97FF",
           "#FECB52"
          ],
          "font": {
           "color": "#2a3f5f"
          },
          "geo": {
           "bgcolor": "white",
           "lakecolor": "white",
           "landcolor": "#E5ECF6",
           "showlakes": true,
           "showland": true,
           "subunitcolor": "white"
          },
          "hoverlabel": {
           "align": "left"
          },
          "hovermode": "closest",
          "mapbox": {
           "style": "light"
          },
          "paper_bgcolor": "white",
          "plot_bgcolor": "#E5ECF6",
          "polar": {
           "angularaxis": {
            "gridcolor": "white",
            "linecolor": "white",
            "ticks": ""
           },
           "bgcolor": "#E5ECF6",
           "radialaxis": {
            "gridcolor": "white",
            "linecolor": "white",
            "ticks": ""
           }
          },
          "scene": {
           "xaxis": {
            "backgroundcolor": "#E5ECF6",
            "gridcolor": "white",
            "gridwidth": 2,
            "linecolor": "white",
            "showbackground": true,
            "ticks": "",
            "zerolinecolor": "white"
           },
           "yaxis": {
            "backgroundcolor": "#E5ECF6",
            "gridcolor": "white",
            "gridwidth": 2,
            "linecolor": "white",
            "showbackground": true,
            "ticks": "",
            "zerolinecolor": "white"
           },
           "zaxis": {
            "backgroundcolor": "#E5ECF6",
            "gridcolor": "white",
            "gridwidth": 2,
            "linecolor": "white",
            "showbackground": true,
            "ticks": "",
            "zerolinecolor": "white"
           }
          },
          "shapedefaults": {
           "line": {
            "color": "#2a3f5f"
           }
          },
          "ternary": {
           "aaxis": {
            "gridcolor": "white",
            "linecolor": "white",
            "ticks": ""
           },
           "baxis": {
            "gridcolor": "white",
            "linecolor": "white",
            "ticks": ""
           },
           "bgcolor": "#E5ECF6",
           "caxis": {
            "gridcolor": "white",
            "linecolor": "white",
            "ticks": ""
           }
          },
          "title": {
           "x": 0.05
          },
          "xaxis": {
           "automargin": true,
           "gridcolor": "white",
           "linecolor": "white",
           "ticks": "",
           "title": {
            "standoff": 15
           },
           "zerolinecolor": "white",
           "zerolinewidth": 2
          },
          "yaxis": {
           "automargin": true,
           "gridcolor": "white",
           "linecolor": "white",
           "ticks": "",
           "title": {
            "standoff": 15
           },
           "zerolinecolor": "white",
           "zerolinewidth": 2
          }
         }
        },
        "title": {
         "text": "financeAmount"
        },
        "width": 1500,
        "xaxis": {
         "anchor": "y",
         "domain": [
          0,
          1
         ],
         "title": {
          "text": "financeAmount"
         }
        },
        "yaxis": {
         "anchor": "x",
         "domain": [
          0,
          1
         ]
        }
       }
      }
     },
     "metadata": {},
     "output_type": "display_data"
    },
    {
     "data": {
      "application/vnd.plotly.v1+json": {
       "config": {
        "plotlyServerURL": "https://plot.ly"
       },
       "data": [
        {
         "alignmentgroup": "True",
         "hovertemplate": "netSalary=%{x}<extra></extra>",
         "legendgroup": "",
         "marker": {
          "color": "#636efa"
         },
         "name": "",
         "notched": false,
         "offsetgroup": "",
         "orientation": "h",
         "showlegend": false,
         "type": "box",
         "x": [
          1900,
          7260,
          4000,
          1200,
          3948,
          5000,
          3754,
          2081,
          2000,
          3400,
          2500,
          7602,
          1200,
          2050,
          3000,
          2100,
          3036,
          2000,
          1419.45,
          3000,
          1560,
          2500,
          3040,
          3800,
          1710,
          3500,
          1880,
          1882,
          2611,
          1780,
          6725.51,
          2750,
          2724.85,
          4000,
          1860,
          3500,
          1850,
          3000,
          2200,
          3351.44,
          1500,
          3907,
          1400,
          2800,
          1407,
          2627,
          2900,
          1189.81,
          5237.11,
          1600,
          3000,
          2207.85,
          3000,
          5435,
          2324.85,
          3019.83,
          2700,
          2800,
          3791.9,
          5057.35,
          2800,
          4227,
          3500,
          1570,
          3000,
          2510,
          8000,
          4000,
          2300,
          3430.6,
          3092,
          2142,
          10500,
          2300,
          1500,
          1545,
          3316,
          1202.95,
          7500,
          1500,
          2710,
          4000,
          5139,
          2860,
          5000,
          2200,
          2500,
          2350,
          1496,
          4600,
          1492,
          750,
          2613,
          3893,
          1372.05,
          500,
          707,
          2300,
          1200,
          2095.55,
          2884,
          1308.27,
          1700,
          1750,
          3000,
          2500,
          4041.95,
          3839.55,
          2130,
          3000,
          3597.38,
          1000,
          1034,
          1500,
          3800,
          3300,
          1500,
          1600,
          6000,
          3500,
          2000,
          2500,
          1666.17,
          1600,
          1900,
          2348.54,
          4100,
          2198,
          3575,
          2500,
          1640.31,
          3350,
          2362.03,
          927,
          4000,
          1250,
          3000,
          1800,
          4500,
          2469,
          2500,
          5600,
          1589,
          1000,
          2225,
          1600,
          8000,
          2825.95,
          4200,
          2500,
          3500,
          3263,
          2673,
          3042.85,
          4000,
          1800,
          2500,
          1700,
          1700,
          1500,
          2500,
          3802.15,
          3396,
          2200,
          1702,
          3159.02,
          3191,
          3973.85,
          3000,
          5100,
          3000,
          1719,
          3200,
          2600,
          2500,
          3000,
          4752.01,
          3563,
          2000,
          2371,
          5000,
          2082,
          1557.75,
          3021,
          3823.9,
          1560,
          2386,
          7500,
          3082.85,
          3000,
          3800,
          2600,
          4030,
          3700,
          3500,
          3300,
          2985,
          1500,
          2967,
          3023,
          2884.94,
          2000,
          1800,
          4200,
          1672.05,
          3880,
          1200,
          650,
          2500,
          1987,
          3300,
          3500,
          3230,
          2100,
          2425,
          4500,
          5583.23,
          2800,
          2910,
          4299.05,
          3404,
          3000,
          4500,
          7019,
          2200,
          3300,
          5770,
          5000,
          3000,
          4000,
          4000,
          2500,
          3500,
          1766,
          1500,
          2727,
          5395,
          2472,
          30000,
          1493.25,
          1324,
          4879.35,
          1712.6,
          1964,
          4305,
          2400,
          2000,
          2457.73,
          2200,
          2000,
          2892.2,
          2390,
          3300,
          1325,
          2130.95,
          2608,
          1500,
          4000,
          4220.08,
          2000,
          2572.35,
          6850,
          1529,
          1870,
          4194,
          1890,
          1790,
          1500,
          4600,
          1900,
          2700,
          1624,
          2897,
          2500,
          2434.91,
          5617,
          3264,
          1800,
          5088,
          3231,
          3500,
          2852.29,
          2920,
          3000,
          1556.35,
          3000,
          3500,
          12000,
          2877.5,
          1666,
          1650,
          2300,
          1615.05,
          2250,
          3800,
          2500,
          1960,
          1421.95,
          2000,
          1880,
          1885,
          1880,
          2154,
          2500,
          2800,
          3500,
          2649.35,
          1850,
          2237,
          3500,
          2726.42,
          2021,
          4500,
          3874,
          2790,
          2453.23,
          3365.31,
          2175,
          2300,
          2500,
          1787.3,
          3200,
          2163.7,
          3770,
          3800,
          1894,
          3061,
          3328,
          2032.55,
          2345.97,
          2400,
          3850,
          1960,
          3300,
          2000,
          2600,
          1385.15,
          5000,
          3750,
          1490,
          4191,
          2257,
          1600,
          1808.55,
          4450,
          8900,
          3679,
          2500,
          7876,
          1500,
          3532,
          1424.79,
          1800,
          3000,
          1700,
          4000,
          4660.1,
          2238,
          4245.88,
          1834,
          6240,
          1467,
          2440,
          2087.47,
          2000,
          3700,
          3000,
          3000,
          1453.3,
          5780,
          5000,
          3240,
          1636,
          3300,
          1850,
          999.45,
          4200,
          2500,
          3021,
          1427,
          1108,
          3653.43,
          4000,
          1456,
          2300,
          1900,
          2304,
          3700,
          5372,
          2400,
          3255,
          1680,
          4400,
          7000,
          5555.3,
          3300,
          2100,
          5000,
          8055,
          3344,
          4735,
          1500,
          3500,
          3400,
          2727.75,
          2849,
          2074,
          4503,
          1600,
          1324.85,
          2100,
          3000,
          2215,
          1750,
          5096.25,
          2047,
          2400,
          2700,
          2500,
          3997.53,
          1681,
          2600,
          2400,
          5000,
          1500,
          3700,
          2000,
          5000,
          4000,
          2573,
          1500,
          1999,
          3653,
          743,
          2481,
          5150,
          2055,
          2700,
          1766.35,
          2030,
          2323,
          2000,
          2500,
          2350,
          2243,
          4134.25,
          2300,
          1400,
          4622,
          2500,
          3179.15,
          5662.85,
          2668,
          1700,
          1800,
          3264,
          2780,
          1990,
          2106,
          3900,
          2515,
          5583.5,
          5905,
          3000,
          4323,
          1600,
          5000,
          2729,
          3500,
          1516.95,
          3172.49,
          5595,
          3200,
          1800,
          1900,
          4900,
          3519,
          2600,
          1670,
          1600,
          3167,
          3885.54,
          8300,
          1300.16,
          3951,
          3926,
          4100,
          5509,
          3110.61,
          2100,
          4800,
          4945,
          1500,
          1766,
          1825.38,
          1980,
          3826,
          5150,
          3885,
          1455.45,
          1800,
          3000,
          5000,
          10000,
          1367.79,
          5900,
          2000,
          4297,
          4500,
          3000,
          3500,
          2684,
          3052,
          2000,
          1994.94,
          1500,
          2730,
          1814,
          2775.75,
          2495,
          1188,
          9500,
          6800,
          1656.97,
          2100,
          1504,
          1787.88,
          3300,
          1834,
          3700,
          6081.78,
          2500,
          3300,
          3063,
          2000,
          1265,
          3097,
          6000,
          2707,
          1662,
          2800,
          1680,
          4117.08,
          2200,
          2567.42,
          1800,
          1767,
          5500,
          7016.2,
          2500,
          3900,
          2150,
          2650,
          2393,
          3200,
          1500,
          1300,
          1855,
          2207.85,
          5800,
          3000,
          2100,
          1500,
          4500,
          4160,
          5441.9,
          1800,
          3228.76,
          2600,
          3300,
          2903,
          1426.4,
          3157,
          1858,
          4819.22,
          4100,
          2500,
          2100,
          5131,
          6000,
          2920,
          3860,
          2294,
          3598,
          2200,
          2300,
          2499.88,
          3758,
          1439.75,
          4879,
          3187,
          1600,
          1900,
          2600,
          1886,
          1989,
          4700,
          2798.7,
          2300,
          8000,
          7416,
          8500,
          2426.69,
          2500,
          2559,
          2713,
          2207.85,
          450,
          3682,
          2400,
          2535,
          4400,
          3500,
          5000,
          5500,
          2171,
          3900,
          5449.73,
          9622.25,
          2513,
          5000,
          2472,
          4167.85,
          2797,
          2274.9,
          2000,
          2500,
          2800,
          2534,
          4338,
          973.75,
          2750,
          5662.85,
          3500,
          1622,
          4656,
          960.57,
          2500,
          2920,
          6000,
          2300,
          3000,
          1500,
          3644.57,
          2500,
          1900,
          2000,
          2300,
          4300,
          1129.14,
          2227,
          2800,
          3000,
          2500,
          3115,
          4400,
          2207.4,
          2500,
          2737,
          3183,
          4000,
          3097,
          750,
          1333,
          5515,
          2500,
          1751.16,
          1545,
          1990.59,
          3160.54,
          6385,
          1100,
          3042,
          5200,
          3000,
          2787.1,
          2070,
          2444,
          1100,
          1500,
          1950,
          5014.25,
          3780,
          3200,
          1800,
          5400,
          3000,
          2800,
          2200,
          3500,
          2500,
          4778.28,
          7134,
          1200,
          7613,
          1130,
          7527.95,
          3700,
          7463,
          3800,
          3000,
          1574.85,
          2900,
          5596.04,
          3065.65,
          1634,
          4875.25,
          2134,
          6405.09,
          1578.05,
          3000,
          1950,
          3682,
          3000,
          5783.15,
          6261.4,
          3185,
          1134,
          4700,
          1766,
          6600,
          2314,
          2500,
          2600,
          2500,
          2300,
          3000,
          2259,
          4800,
          1652.29,
          1000,
          1500,
          2400,
          4000,
          4000,
          3155.92,
          2500,
          2600,
          2790,
          1500,
          30000,
          2874.59,
          3000,
          2314,
          2800,
          2296,
          3800,
          4281,
          2522,
          4000,
          3400,
          3500,
          2411,
          2292.86,
          3478,
          3200,
          1580,
          2179,
          5000,
          5000,
          1590,
          2427.08,
          2300,
          2200,
          2300,
          2600,
          2596,
          4343.82,
          1535,
          3004,
          2000,
          1766.35,
          6500,
          2000,
          2300,
          5600,
          3000,
          2500,
          2800,
          2000,
          2128,
          920,
          2500,
          1600,
          7000,
          2743.09,
          1832,
          2494,
          3044.85,
          3000,
          2888.44,
          1896.95,
          3041.79,
          2680,
          3800,
          4600,
          3500,
          4779.25,
          2455.05,
          3000,
          2106.35,
          2500,
          1586.14,
          1842,
          2066,
          3000,
          3900,
          2200,
          3000,
          5100,
          3300,
          2500,
          3000,
          2500,
          6000,
          6704,
          2840,
          3061,
          1639.65,
          4000,
          3010,
          1590,
          2000,
          3116.87,
          3700,
          2777,
          5300,
          2313,
          2191,
          2100,
          6000,
          1678.05,
          2599,
          4500,
          2174.85,
          1094,
          3700,
          5000,
          2798,
          2679.17,
          2197.05,
          2700,
          1850,
          3200,
          2000,
          1600,
          3624,
          4570.31,
          7624,
          2300,
          3500,
          4328,
          2987,
          1899,
          3200,
          1700,
          2200,
          1606.78,
          4600,
          3000,
          6134.95,
          7281.77,
          2659,
          1846.4,
          2400,
          1900,
          5500,
          2210,
          4765,
          2833,
          2300,
          1600,
          1589,
          2500,
          3606.61,
          3000,
          2740,
          5180,
          1948,
          3420.28,
          2665,
          2000,
          1109.83,
          8000,
          2800,
          2500,
          6852.12,
          3062,
          2500,
          1658.98,
          1500,
          1500,
          2994.73,
          2100,
          3500,
          4500,
          1650,
          2824.95,
          1500,
          1591.37,
          3269,
          1900,
          1800,
          3400,
          1650,
          6000,
          1650,
          1043.08,
          2217,
          4943.99,
          5709,
          1500,
          3700,
          1795,
          5100,
          1870,
          1444,
          3000,
          2500,
          5000,
          1450,
          900,
          2000,
          3679,
          1961,
          2650,
          1200,
          1819,
          2400,
          3695,
          2800,
          1500,
          359313,
          3500,
          5202,
          4898.75,
          3800,
          2400,
          5710,
          5200,
          1367,
          1477,
          1500,
          2900,
          4936,
          2500,
          1324,
          7000,
          3600,
          5210.68,
          3600,
          1283,
          1889,
          4281,
          5000,
          2500,
          3730,
          1815.2,
          2436.48,
          2500,
          2573.61,
          3900,
          5800,
          2800,
          2500,
          2280,
          3500,
          5808,
          9900,
          1500,
          3520,
          2620,
          2200,
          5500,
          1460,
          1000,
          1766,
          1300,
          1500,
          2405.85,
          5442,
          3200,
          2956,
          3357,
          5750.4,
          3619,
          9000,
          3000,
          1787,
          2561,
          2000,
          2136.42,
          884,
          2000,
          2500,
          3500,
          951,
          2700,
          5190
         ],
         "x0": " ",
         "xaxis": "x",
         "y0": " ",
         "yaxis": "y"
        }
       ],
       "layout": {
        "boxmode": "group",
        "height": 400,
        "legend": {
         "tracegroupgap": 0
        },
        "template": {
         "data": {
          "bar": [
           {
            "error_x": {
             "color": "#2a3f5f"
            },
            "error_y": {
             "color": "#2a3f5f"
            },
            "marker": {
             "line": {
              "color": "#E5ECF6",
              "width": 0.5
             },
             "pattern": {
              "fillmode": "overlay",
              "size": 10,
              "solidity": 0.2
             }
            },
            "type": "bar"
           }
          ],
          "barpolar": [
           {
            "marker": {
             "line": {
              "color": "#E5ECF6",
              "width": 0.5
             },
             "pattern": {
              "fillmode": "overlay",
              "size": 10,
              "solidity": 0.2
             }
            },
            "type": "barpolar"
           }
          ],
          "carpet": [
           {
            "aaxis": {
             "endlinecolor": "#2a3f5f",
             "gridcolor": "white",
             "linecolor": "white",
             "minorgridcolor": "white",
             "startlinecolor": "#2a3f5f"
            },
            "baxis": {
             "endlinecolor": "#2a3f5f",
             "gridcolor": "white",
             "linecolor": "white",
             "minorgridcolor": "white",
             "startlinecolor": "#2a3f5f"
            },
            "type": "carpet"
           }
          ],
          "choropleth": [
           {
            "colorbar": {
             "outlinewidth": 0,
             "ticks": ""
            },
            "type": "choropleth"
           }
          ],
          "contour": [
           {
            "colorbar": {
             "outlinewidth": 0,
             "ticks": ""
            },
            "colorscale": [
             [
              0,
              "#0d0887"
             ],
             [
              0.1111111111111111,
              "#46039f"
             ],
             [
              0.2222222222222222,
              "#7201a8"
             ],
             [
              0.3333333333333333,
              "#9c179e"
             ],
             [
              0.4444444444444444,
              "#bd3786"
             ],
             [
              0.5555555555555556,
              "#d8576b"
             ],
             [
              0.6666666666666666,
              "#ed7953"
             ],
             [
              0.7777777777777778,
              "#fb9f3a"
             ],
             [
              0.8888888888888888,
              "#fdca26"
             ],
             [
              1,
              "#f0f921"
             ]
            ],
            "type": "contour"
           }
          ],
          "contourcarpet": [
           {
            "colorbar": {
             "outlinewidth": 0,
             "ticks": ""
            },
            "type": "contourcarpet"
           }
          ],
          "heatmap": [
           {
            "colorbar": {
             "outlinewidth": 0,
             "ticks": ""
            },
            "colorscale": [
             [
              0,
              "#0d0887"
             ],
             [
              0.1111111111111111,
              "#46039f"
             ],
             [
              0.2222222222222222,
              "#7201a8"
             ],
             [
              0.3333333333333333,
              "#9c179e"
             ],
             [
              0.4444444444444444,
              "#bd3786"
             ],
             [
              0.5555555555555556,
              "#d8576b"
             ],
             [
              0.6666666666666666,
              "#ed7953"
             ],
             [
              0.7777777777777778,
              "#fb9f3a"
             ],
             [
              0.8888888888888888,
              "#fdca26"
             ],
             [
              1,
              "#f0f921"
             ]
            ],
            "type": "heatmap"
           }
          ],
          "heatmapgl": [
           {
            "colorbar": {
             "outlinewidth": 0,
             "ticks": ""
            },
            "colorscale": [
             [
              0,
              "#0d0887"
             ],
             [
              0.1111111111111111,
              "#46039f"
             ],
             [
              0.2222222222222222,
              "#7201a8"
             ],
             [
              0.3333333333333333,
              "#9c179e"
             ],
             [
              0.4444444444444444,
              "#bd3786"
             ],
             [
              0.5555555555555556,
              "#d8576b"
             ],
             [
              0.6666666666666666,
              "#ed7953"
             ],
             [
              0.7777777777777778,
              "#fb9f3a"
             ],
             [
              0.8888888888888888,
              "#fdca26"
             ],
             [
              1,
              "#f0f921"
             ]
            ],
            "type": "heatmapgl"
           }
          ],
          "histogram": [
           {
            "marker": {
             "pattern": {
              "fillmode": "overlay",
              "size": 10,
              "solidity": 0.2
             }
            },
            "type": "histogram"
           }
          ],
          "histogram2d": [
           {
            "colorbar": {
             "outlinewidth": 0,
             "ticks": ""
            },
            "colorscale": [
             [
              0,
              "#0d0887"
             ],
             [
              0.1111111111111111,
              "#46039f"
             ],
             [
              0.2222222222222222,
              "#7201a8"
             ],
             [
              0.3333333333333333,
              "#9c179e"
             ],
             [
              0.4444444444444444,
              "#bd3786"
             ],
             [
              0.5555555555555556,
              "#d8576b"
             ],
             [
              0.6666666666666666,
              "#ed7953"
             ],
             [
              0.7777777777777778,
              "#fb9f3a"
             ],
             [
              0.8888888888888888,
              "#fdca26"
             ],
             [
              1,
              "#f0f921"
             ]
            ],
            "type": "histogram2d"
           }
          ],
          "histogram2dcontour": [
           {
            "colorbar": {
             "outlinewidth": 0,
             "ticks": ""
            },
            "colorscale": [
             [
              0,
              "#0d0887"
             ],
             [
              0.1111111111111111,
              "#46039f"
             ],
             [
              0.2222222222222222,
              "#7201a8"
             ],
             [
              0.3333333333333333,
              "#9c179e"
             ],
             [
              0.4444444444444444,
              "#bd3786"
             ],
             [
              0.5555555555555556,
              "#d8576b"
             ],
             [
              0.6666666666666666,
              "#ed7953"
             ],
             [
              0.7777777777777778,
              "#fb9f3a"
             ],
             [
              0.8888888888888888,
              "#fdca26"
             ],
             [
              1,
              "#f0f921"
             ]
            ],
            "type": "histogram2dcontour"
           }
          ],
          "mesh3d": [
           {
            "colorbar": {
             "outlinewidth": 0,
             "ticks": ""
            },
            "type": "mesh3d"
           }
          ],
          "parcoords": [
           {
            "line": {
             "colorbar": {
              "outlinewidth": 0,
              "ticks": ""
             }
            },
            "type": "parcoords"
           }
          ],
          "pie": [
           {
            "automargin": true,
            "type": "pie"
           }
          ],
          "scatter": [
           {
            "fillpattern": {
             "fillmode": "overlay",
             "size": 10,
             "solidity": 0.2
            },
            "type": "scatter"
           }
          ],
          "scatter3d": [
           {
            "line": {
             "colorbar": {
              "outlinewidth": 0,
              "ticks": ""
             }
            },
            "marker": {
             "colorbar": {
              "outlinewidth": 0,
              "ticks": ""
             }
            },
            "type": "scatter3d"
           }
          ],
          "scattercarpet": [
           {
            "marker": {
             "colorbar": {
              "outlinewidth": 0,
              "ticks": ""
             }
            },
            "type": "scattercarpet"
           }
          ],
          "scattergeo": [
           {
            "marker": {
             "colorbar": {
              "outlinewidth": 0,
              "ticks": ""
             }
            },
            "type": "scattergeo"
           }
          ],
          "scattergl": [
           {
            "marker": {
             "colorbar": {
              "outlinewidth": 0,
              "ticks": ""
             }
            },
            "type": "scattergl"
           }
          ],
          "scattermapbox": [
           {
            "marker": {
             "colorbar": {
              "outlinewidth": 0,
              "ticks": ""
             }
            },
            "type": "scattermapbox"
           }
          ],
          "scatterpolar": [
           {
            "marker": {
             "colorbar": {
              "outlinewidth": 0,
              "ticks": ""
             }
            },
            "type": "scatterpolar"
           }
          ],
          "scatterpolargl": [
           {
            "marker": {
             "colorbar": {
              "outlinewidth": 0,
              "ticks": ""
             }
            },
            "type": "scatterpolargl"
           }
          ],
          "scatterternary": [
           {
            "marker": {
             "colorbar": {
              "outlinewidth": 0,
              "ticks": ""
             }
            },
            "type": "scatterternary"
           }
          ],
          "surface": [
           {
            "colorbar": {
             "outlinewidth": 0,
             "ticks": ""
            },
            "colorscale": [
             [
              0,
              "#0d0887"
             ],
             [
              0.1111111111111111,
              "#46039f"
             ],
             [
              0.2222222222222222,
              "#7201a8"
             ],
             [
              0.3333333333333333,
              "#9c179e"
             ],
             [
              0.4444444444444444,
              "#bd3786"
             ],
             [
              0.5555555555555556,
              "#d8576b"
             ],
             [
              0.6666666666666666,
              "#ed7953"
             ],
             [
              0.7777777777777778,
              "#fb9f3a"
             ],
             [
              0.8888888888888888,
              "#fdca26"
             ],
             [
              1,
              "#f0f921"
             ]
            ],
            "type": "surface"
           }
          ],
          "table": [
           {
            "cells": {
             "fill": {
              "color": "#EBF0F8"
             },
             "line": {
              "color": "white"
             }
            },
            "header": {
             "fill": {
              "color": "#C8D4E3"
             },
             "line": {
              "color": "white"
             }
            },
            "type": "table"
           }
          ]
         },
         "layout": {
          "annotationdefaults": {
           "arrowcolor": "#2a3f5f",
           "arrowhead": 0,
           "arrowwidth": 1
          },
          "autotypenumbers": "strict",
          "coloraxis": {
           "colorbar": {
            "outlinewidth": 0,
            "ticks": ""
           }
          },
          "colorscale": {
           "diverging": [
            [
             0,
             "#8e0152"
            ],
            [
             0.1,
             "#c51b7d"
            ],
            [
             0.2,
             "#de77ae"
            ],
            [
             0.3,
             "#f1b6da"
            ],
            [
             0.4,
             "#fde0ef"
            ],
            [
             0.5,
             "#f7f7f7"
            ],
            [
             0.6,
             "#e6f5d0"
            ],
            [
             0.7,
             "#b8e186"
            ],
            [
             0.8,
             "#7fbc41"
            ],
            [
             0.9,
             "#4d9221"
            ],
            [
             1,
             "#276419"
            ]
           ],
           "sequential": [
            [
             0,
             "#0d0887"
            ],
            [
             0.1111111111111111,
             "#46039f"
            ],
            [
             0.2222222222222222,
             "#7201a8"
            ],
            [
             0.3333333333333333,
             "#9c179e"
            ],
            [
             0.4444444444444444,
             "#bd3786"
            ],
            [
             0.5555555555555556,
             "#d8576b"
            ],
            [
             0.6666666666666666,
             "#ed7953"
            ],
            [
             0.7777777777777778,
             "#fb9f3a"
            ],
            [
             0.8888888888888888,
             "#fdca26"
            ],
            [
             1,
             "#f0f921"
            ]
           ],
           "sequentialminus": [
            [
             0,
             "#0d0887"
            ],
            [
             0.1111111111111111,
             "#46039f"
            ],
            [
             0.2222222222222222,
             "#7201a8"
            ],
            [
             0.3333333333333333,
             "#9c179e"
            ],
            [
             0.4444444444444444,
             "#bd3786"
            ],
            [
             0.5555555555555556,
             "#d8576b"
            ],
            [
             0.6666666666666666,
             "#ed7953"
            ],
            [
             0.7777777777777778,
             "#fb9f3a"
            ],
            [
             0.8888888888888888,
             "#fdca26"
            ],
            [
             1,
             "#f0f921"
            ]
           ]
          },
          "colorway": [
           "#636efa",
           "#EF553B",
           "#00cc96",
           "#ab63fa",
           "#FFA15A",
           "#19d3f3",
           "#FF6692",
           "#B6E880",
           "#FF97FF",
           "#FECB52"
          ],
          "font": {
           "color": "#2a3f5f"
          },
          "geo": {
           "bgcolor": "white",
           "lakecolor": "white",
           "landcolor": "#E5ECF6",
           "showlakes": true,
           "showland": true,
           "subunitcolor": "white"
          },
          "hoverlabel": {
           "align": "left"
          },
          "hovermode": "closest",
          "mapbox": {
           "style": "light"
          },
          "paper_bgcolor": "white",
          "plot_bgcolor": "#E5ECF6",
          "polar": {
           "angularaxis": {
            "gridcolor": "white",
            "linecolor": "white",
            "ticks": ""
           },
           "bgcolor": "#E5ECF6",
           "radialaxis": {
            "gridcolor": "white",
            "linecolor": "white",
            "ticks": ""
           }
          },
          "scene": {
           "xaxis": {
            "backgroundcolor": "#E5ECF6",
            "gridcolor": "white",
            "gridwidth": 2,
            "linecolor": "white",
            "showbackground": true,
            "ticks": "",
            "zerolinecolor": "white"
           },
           "yaxis": {
            "backgroundcolor": "#E5ECF6",
            "gridcolor": "white",
            "gridwidth": 2,
            "linecolor": "white",
            "showbackground": true,
            "ticks": "",
            "zerolinecolor": "white"
           },
           "zaxis": {
            "backgroundcolor": "#E5ECF6",
            "gridcolor": "white",
            "gridwidth": 2,
            "linecolor": "white",
            "showbackground": true,
            "ticks": "",
            "zerolinecolor": "white"
           }
          },
          "shapedefaults": {
           "line": {
            "color": "#2a3f5f"
           }
          },
          "ternary": {
           "aaxis": {
            "gridcolor": "white",
            "linecolor": "white",
            "ticks": ""
           },
           "baxis": {
            "gridcolor": "white",
            "linecolor": "white",
            "ticks": ""
           },
           "bgcolor": "#E5ECF6",
           "caxis": {
            "gridcolor": "white",
            "linecolor": "white",
            "ticks": ""
           }
          },
          "title": {
           "x": 0.05
          },
          "xaxis": {
           "automargin": true,
           "gridcolor": "white",
           "linecolor": "white",
           "ticks": "",
           "title": {
            "standoff": 15
           },
           "zerolinecolor": "white",
           "zerolinewidth": 2
          },
          "yaxis": {
           "automargin": true,
           "gridcolor": "white",
           "linecolor": "white",
           "ticks": "",
           "title": {
            "standoff": 15
           },
           "zerolinecolor": "white",
           "zerolinewidth": 2
          }
         }
        },
        "title": {
         "text": "netSalary"
        },
        "width": 1500,
        "xaxis": {
         "anchor": "y",
         "domain": [
          0,
          1
         ],
         "title": {
          "text": "netSalary"
         }
        },
        "yaxis": {
         "anchor": "x",
         "domain": [
          0,
          1
         ]
        }
       }
      }
     },
     "metadata": {},
     "output_type": "display_data"
    },
    {
     "data": {
      "application/vnd.plotly.v1+json": {
       "config": {
        "plotlyServerURL": "https://plot.ly"
       },
       "data": [
        {
         "alignmentgroup": "True",
         "hovertemplate": "loanTenure=%{x}<extra></extra>",
         "legendgroup": "",
         "marker": {
          "color": "#636efa"
         },
         "name": "",
         "notched": false,
         "offsetgroup": "",
         "orientation": "h",
         "showlegend": false,
         "type": "box",
         "x": [
          18,
          24,
          24,
          12,
          24,
          24,
          24,
          12,
          18,
          18,
          24,
          24,
          24,
          24,
          24,
          24,
          24,
          24,
          24,
          24,
          24,
          24,
          24,
          24,
          12,
          6,
          24,
          24,
          24,
          24,
          24,
          24,
          24,
          24,
          24,
          24,
          12,
          24,
          24,
          24,
          6,
          18,
          24,
          24,
          24,
          24,
          24,
          24,
          24,
          12,
          24,
          24,
          24,
          18,
          18,
          24,
          24,
          24,
          24,
          24,
          12,
          24,
          24,
          24,
          24,
          12,
          24,
          24,
          12,
          24,
          24,
          24,
          18,
          24,
          24,
          12,
          24,
          24,
          24,
          12,
          24,
          24,
          24,
          12,
          24,
          24,
          24,
          24,
          24,
          24,
          24,
          24,
          24,
          24,
          24,
          24,
          24,
          24,
          24,
          12,
          24,
          24,
          24,
          24,
          24,
          24,
          12,
          24,
          24,
          18,
          24,
          24,
          24,
          18,
          24,
          24,
          24,
          24,
          24,
          24,
          24,
          24,
          24,
          24,
          24,
          24,
          24,
          12,
          24,
          24,
          24,
          24,
          24,
          24,
          24,
          24,
          24,
          24,
          24,
          24,
          24,
          24,
          24,
          24,
          24,
          24,
          24,
          24,
          24,
          24,
          24,
          24,
          24,
          24,
          24,
          24,
          18,
          24,
          12,
          24,
          24,
          12,
          24,
          12,
          24,
          24,
          24,
          24,
          24,
          24,
          24,
          24,
          24,
          24,
          24,
          24,
          24,
          24,
          12,
          18,
          24,
          24,
          24,
          12,
          18,
          24,
          24,
          24,
          24,
          24,
          24,
          24,
          24,
          12,
          24,
          24,
          12,
          24,
          24,
          12,
          18,
          24,
          12,
          24,
          24,
          24,
          24,
          24,
          24,
          6,
          24,
          12,
          24,
          24,
          24,
          18,
          24,
          24,
          24,
          24,
          12,
          24,
          24,
          24,
          24,
          24,
          24,
          24,
          24,
          24,
          24,
          24,
          24,
          24,
          12,
          24,
          24,
          6,
          24,
          24,
          24,
          24,
          24,
          6,
          24,
          24,
          24,
          18,
          24,
          24,
          24,
          24,
          24,
          24,
          24,
          24,
          24,
          24,
          24,
          24,
          12,
          12,
          24,
          24,
          24,
          24,
          12,
          24,
          24,
          24,
          24,
          24,
          24,
          24,
          24,
          24,
          24,
          24,
          24,
          24,
          24,
          24,
          24,
          24,
          24,
          24,
          24,
          24,
          24,
          24,
          24,
          24,
          24,
          24,
          24,
          24,
          24,
          24,
          12,
          24,
          24,
          24,
          6,
          24,
          24,
          24,
          24,
          24,
          24,
          24,
          24,
          24,
          18,
          24,
          24,
          24,
          24,
          24,
          18,
          24,
          24,
          24,
          6,
          24,
          24,
          24,
          24,
          24,
          24,
          24,
          24,
          24,
          24,
          24,
          24,
          24,
          24,
          24,
          24,
          24,
          18,
          24,
          12,
          24,
          24,
          24,
          24,
          24,
          24,
          24,
          12,
          24,
          24,
          24,
          24,
          18,
          12,
          24,
          24,
          18,
          12,
          24,
          24,
          24,
          12,
          6,
          24,
          24,
          24,
          24,
          12,
          24,
          24,
          24,
          24,
          12,
          24,
          18,
          24,
          24,
          24,
          12,
          24,
          24,
          18,
          24,
          18,
          12,
          24,
          6,
          24,
          24,
          12,
          24,
          24,
          24,
          24,
          24,
          24,
          12,
          24,
          6,
          24,
          24,
          24,
          24,
          24,
          24,
          12,
          24,
          24,
          24,
          24,
          24,
          24,
          18,
          24,
          24,
          12,
          24,
          12,
          24,
          6,
          24,
          24,
          24,
          24,
          24,
          12,
          24,
          24,
          24,
          24,
          24,
          24,
          24,
          24,
          24,
          24,
          24,
          24,
          12,
          24,
          24,
          24,
          24,
          24,
          24,
          24,
          24,
          18,
          24,
          24,
          18,
          24,
          6,
          24,
          24,
          24,
          24,
          24,
          24,
          12,
          24,
          24,
          24,
          24,
          24,
          24,
          24,
          24,
          24,
          24,
          24,
          24,
          24,
          24,
          24,
          24,
          12,
          24,
          24,
          24,
          24,
          24,
          24,
          24,
          12,
          24,
          24,
          24,
          24,
          24,
          24,
          24,
          24,
          24,
          12,
          24,
          24,
          24,
          24,
          24,
          24,
          24,
          24,
          24,
          24,
          24,
          24,
          24,
          18,
          24,
          24,
          12,
          12,
          24,
          24,
          24,
          18,
          24,
          6,
          24,
          24,
          24,
          24,
          24,
          24,
          24,
          24,
          24,
          24,
          24,
          12,
          24,
          24,
          24,
          24,
          24,
          24,
          24,
          24,
          6,
          18,
          24,
          18,
          24,
          24,
          24,
          24,
          24,
          6,
          24,
          24,
          24,
          24,
          12,
          24,
          24,
          24,
          24,
          24,
          24,
          24,
          24,
          24,
          24,
          12,
          24,
          24,
          24,
          24,
          12,
          24,
          24,
          24,
          24,
          24,
          24,
          24,
          24,
          24,
          18,
          24,
          24,
          12,
          24,
          24,
          24,
          24,
          24,
          24,
          24,
          24,
          12,
          24,
          24,
          24,
          24,
          24,
          24,
          24,
          24,
          24,
          12,
          24,
          24,
          24,
          24,
          12,
          24,
          24,
          24,
          24,
          24,
          24,
          24,
          12,
          12,
          6,
          18,
          24,
          24,
          24,
          24,
          12,
          24,
          24,
          24,
          24,
          6,
          24,
          24,
          24,
          24,
          24,
          24,
          24,
          24,
          24,
          24,
          24,
          24,
          12,
          18,
          24,
          24,
          24,
          24,
          24,
          24,
          6,
          12,
          6,
          24,
          24,
          24,
          24,
          24,
          24,
          18,
          24,
          24,
          12,
          24,
          24,
          24,
          12,
          24,
          24,
          24,
          12,
          18,
          24,
          24,
          24,
          24,
          24,
          24,
          24,
          12,
          24,
          24,
          24,
          24,
          24,
          24,
          24,
          12,
          24,
          24,
          24,
          18,
          24,
          24,
          24,
          24,
          24,
          24,
          24,
          24,
          24,
          24,
          24,
          24,
          24,
          24,
          12,
          24,
          24,
          24,
          24,
          24,
          24,
          6,
          24,
          24,
          24,
          24,
          24,
          24,
          24,
          12,
          24,
          24,
          24,
          6,
          12,
          24,
          24,
          24,
          24,
          24,
          12,
          24,
          24,
          24,
          24,
          24,
          6,
          24,
          24,
          12,
          24,
          24,
          24,
          24,
          24,
          24,
          24,
          24,
          24,
          24,
          24,
          24,
          24,
          12,
          24,
          24,
          24,
          24,
          6,
          24,
          18,
          18,
          24,
          18,
          6,
          12,
          24,
          24,
          24,
          24,
          24,
          18,
          24,
          24,
          24,
          24,
          24,
          12,
          6,
          18,
          24,
          24,
          12,
          12,
          24,
          12,
          24,
          12,
          24,
          6,
          24,
          24,
          24,
          24,
          24,
          24,
          24,
          24,
          18,
          24,
          24,
          24,
          24,
          24,
          24,
          24,
          24,
          24,
          24,
          24,
          24,
          24,
          24,
          24,
          24,
          12,
          12,
          24,
          24,
          24,
          24,
          24,
          24,
          24,
          24,
          24,
          24,
          24,
          24,
          24,
          24,
          24,
          24,
          24,
          24,
          24,
          24,
          24,
          12,
          24,
          24,
          24,
          24,
          24,
          24,
          18,
          24,
          12,
          24,
          24,
          12,
          24,
          24,
          24,
          24,
          12,
          24,
          24,
          24,
          24,
          24,
          24,
          12,
          24,
          24,
          24,
          24,
          24,
          18,
          12,
          24,
          24,
          24,
          24,
          6,
          24,
          24,
          24,
          24,
          24,
          24,
          24,
          24,
          24,
          24,
          24,
          24,
          24,
          24,
          24,
          24,
          24,
          12,
          24,
          24,
          12,
          24,
          24,
          24,
          24,
          24,
          24,
          24,
          24,
          24,
          24,
          24,
          24,
          24,
          24,
          24,
          24,
          24,
          24,
          24,
          24,
          12,
          24,
          12,
          24,
          24,
          24,
          24,
          24,
          24,
          24,
          24,
          24,
          24,
          24,
          24,
          12,
          24,
          24,
          18,
          24,
          24,
          24,
          24,
          24,
          12,
          24,
          24,
          24,
          24,
          24,
          24,
          24,
          24,
          24,
          18,
          24,
          24,
          24,
          24,
          24,
          24,
          24,
          24,
          24,
          24,
          12,
          24,
          24,
          24,
          24,
          24,
          24,
          24,
          12,
          24,
          24,
          24,
          12,
          24,
          24,
          24,
          24,
          24,
          24,
          24,
          24,
          24,
          24,
          24,
          24,
          18,
          12,
          24,
          24,
          18,
          24,
          24,
          12,
          12,
          12
         ],
         "x0": " ",
         "xaxis": "x",
         "y0": " ",
         "yaxis": "y"
        }
       ],
       "layout": {
        "boxmode": "group",
        "height": 400,
        "legend": {
         "tracegroupgap": 0
        },
        "template": {
         "data": {
          "bar": [
           {
            "error_x": {
             "color": "#2a3f5f"
            },
            "error_y": {
             "color": "#2a3f5f"
            },
            "marker": {
             "line": {
              "color": "#E5ECF6",
              "width": 0.5
             },
             "pattern": {
              "fillmode": "overlay",
              "size": 10,
              "solidity": 0.2
             }
            },
            "type": "bar"
           }
          ],
          "barpolar": [
           {
            "marker": {
             "line": {
              "color": "#E5ECF6",
              "width": 0.5
             },
             "pattern": {
              "fillmode": "overlay",
              "size": 10,
              "solidity": 0.2
             }
            },
            "type": "barpolar"
           }
          ],
          "carpet": [
           {
            "aaxis": {
             "endlinecolor": "#2a3f5f",
             "gridcolor": "white",
             "linecolor": "white",
             "minorgridcolor": "white",
             "startlinecolor": "#2a3f5f"
            },
            "baxis": {
             "endlinecolor": "#2a3f5f",
             "gridcolor": "white",
             "linecolor": "white",
             "minorgridcolor": "white",
             "startlinecolor": "#2a3f5f"
            },
            "type": "carpet"
           }
          ],
          "choropleth": [
           {
            "colorbar": {
             "outlinewidth": 0,
             "ticks": ""
            },
            "type": "choropleth"
           }
          ],
          "contour": [
           {
            "colorbar": {
             "outlinewidth": 0,
             "ticks": ""
            },
            "colorscale": [
             [
              0,
              "#0d0887"
             ],
             [
              0.1111111111111111,
              "#46039f"
             ],
             [
              0.2222222222222222,
              "#7201a8"
             ],
             [
              0.3333333333333333,
              "#9c179e"
             ],
             [
              0.4444444444444444,
              "#bd3786"
             ],
             [
              0.5555555555555556,
              "#d8576b"
             ],
             [
              0.6666666666666666,
              "#ed7953"
             ],
             [
              0.7777777777777778,
              "#fb9f3a"
             ],
             [
              0.8888888888888888,
              "#fdca26"
             ],
             [
              1,
              "#f0f921"
             ]
            ],
            "type": "contour"
           }
          ],
          "contourcarpet": [
           {
            "colorbar": {
             "outlinewidth": 0,
             "ticks": ""
            },
            "type": "contourcarpet"
           }
          ],
          "heatmap": [
           {
            "colorbar": {
             "outlinewidth": 0,
             "ticks": ""
            },
            "colorscale": [
             [
              0,
              "#0d0887"
             ],
             [
              0.1111111111111111,
              "#46039f"
             ],
             [
              0.2222222222222222,
              "#7201a8"
             ],
             [
              0.3333333333333333,
              "#9c179e"
             ],
             [
              0.4444444444444444,
              "#bd3786"
             ],
             [
              0.5555555555555556,
              "#d8576b"
             ],
             [
              0.6666666666666666,
              "#ed7953"
             ],
             [
              0.7777777777777778,
              "#fb9f3a"
             ],
             [
              0.8888888888888888,
              "#fdca26"
             ],
             [
              1,
              "#f0f921"
             ]
            ],
            "type": "heatmap"
           }
          ],
          "heatmapgl": [
           {
            "colorbar": {
             "outlinewidth": 0,
             "ticks": ""
            },
            "colorscale": [
             [
              0,
              "#0d0887"
             ],
             [
              0.1111111111111111,
              "#46039f"
             ],
             [
              0.2222222222222222,
              "#7201a8"
             ],
             [
              0.3333333333333333,
              "#9c179e"
             ],
             [
              0.4444444444444444,
              "#bd3786"
             ],
             [
              0.5555555555555556,
              "#d8576b"
             ],
             [
              0.6666666666666666,
              "#ed7953"
             ],
             [
              0.7777777777777778,
              "#fb9f3a"
             ],
             [
              0.8888888888888888,
              "#fdca26"
             ],
             [
              1,
              "#f0f921"
             ]
            ],
            "type": "heatmapgl"
           }
          ],
          "histogram": [
           {
            "marker": {
             "pattern": {
              "fillmode": "overlay",
              "size": 10,
              "solidity": 0.2
             }
            },
            "type": "histogram"
           }
          ],
          "histogram2d": [
           {
            "colorbar": {
             "outlinewidth": 0,
             "ticks": ""
            },
            "colorscale": [
             [
              0,
              "#0d0887"
             ],
             [
              0.1111111111111111,
              "#46039f"
             ],
             [
              0.2222222222222222,
              "#7201a8"
             ],
             [
              0.3333333333333333,
              "#9c179e"
             ],
             [
              0.4444444444444444,
              "#bd3786"
             ],
             [
              0.5555555555555556,
              "#d8576b"
             ],
             [
              0.6666666666666666,
              "#ed7953"
             ],
             [
              0.7777777777777778,
              "#fb9f3a"
             ],
             [
              0.8888888888888888,
              "#fdca26"
             ],
             [
              1,
              "#f0f921"
             ]
            ],
            "type": "histogram2d"
           }
          ],
          "histogram2dcontour": [
           {
            "colorbar": {
             "outlinewidth": 0,
             "ticks": ""
            },
            "colorscale": [
             [
              0,
              "#0d0887"
             ],
             [
              0.1111111111111111,
              "#46039f"
             ],
             [
              0.2222222222222222,
              "#7201a8"
             ],
             [
              0.3333333333333333,
              "#9c179e"
             ],
             [
              0.4444444444444444,
              "#bd3786"
             ],
             [
              0.5555555555555556,
              "#d8576b"
             ],
             [
              0.6666666666666666,
              "#ed7953"
             ],
             [
              0.7777777777777778,
              "#fb9f3a"
             ],
             [
              0.8888888888888888,
              "#fdca26"
             ],
             [
              1,
              "#f0f921"
             ]
            ],
            "type": "histogram2dcontour"
           }
          ],
          "mesh3d": [
           {
            "colorbar": {
             "outlinewidth": 0,
             "ticks": ""
            },
            "type": "mesh3d"
           }
          ],
          "parcoords": [
           {
            "line": {
             "colorbar": {
              "outlinewidth": 0,
              "ticks": ""
             }
            },
            "type": "parcoords"
           }
          ],
          "pie": [
           {
            "automargin": true,
            "type": "pie"
           }
          ],
          "scatter": [
           {
            "fillpattern": {
             "fillmode": "overlay",
             "size": 10,
             "solidity": 0.2
            },
            "type": "scatter"
           }
          ],
          "scatter3d": [
           {
            "line": {
             "colorbar": {
              "outlinewidth": 0,
              "ticks": ""
             }
            },
            "marker": {
             "colorbar": {
              "outlinewidth": 0,
              "ticks": ""
             }
            },
            "type": "scatter3d"
           }
          ],
          "scattercarpet": [
           {
            "marker": {
             "colorbar": {
              "outlinewidth": 0,
              "ticks": ""
             }
            },
            "type": "scattercarpet"
           }
          ],
          "scattergeo": [
           {
            "marker": {
             "colorbar": {
              "outlinewidth": 0,
              "ticks": ""
             }
            },
            "type": "scattergeo"
           }
          ],
          "scattergl": [
           {
            "marker": {
             "colorbar": {
              "outlinewidth": 0,
              "ticks": ""
             }
            },
            "type": "scattergl"
           }
          ],
          "scattermapbox": [
           {
            "marker": {
             "colorbar": {
              "outlinewidth": 0,
              "ticks": ""
             }
            },
            "type": "scattermapbox"
           }
          ],
          "scatterpolar": [
           {
            "marker": {
             "colorbar": {
              "outlinewidth": 0,
              "ticks": ""
             }
            },
            "type": "scatterpolar"
           }
          ],
          "scatterpolargl": [
           {
            "marker": {
             "colorbar": {
              "outlinewidth": 0,
              "ticks": ""
             }
            },
            "type": "scatterpolargl"
           }
          ],
          "scatterternary": [
           {
            "marker": {
             "colorbar": {
              "outlinewidth": 0,
              "ticks": ""
             }
            },
            "type": "scatterternary"
           }
          ],
          "surface": [
           {
            "colorbar": {
             "outlinewidth": 0,
             "ticks": ""
            },
            "colorscale": [
             [
              0,
              "#0d0887"
             ],
             [
              0.1111111111111111,
              "#46039f"
             ],
             [
              0.2222222222222222,
              "#7201a8"
             ],
             [
              0.3333333333333333,
              "#9c179e"
             ],
             [
              0.4444444444444444,
              "#bd3786"
             ],
             [
              0.5555555555555556,
              "#d8576b"
             ],
             [
              0.6666666666666666,
              "#ed7953"
             ],
             [
              0.7777777777777778,
              "#fb9f3a"
             ],
             [
              0.8888888888888888,
              "#fdca26"
             ],
             [
              1,
              "#f0f921"
             ]
            ],
            "type": "surface"
           }
          ],
          "table": [
           {
            "cells": {
             "fill": {
              "color": "#EBF0F8"
             },
             "line": {
              "color": "white"
             }
            },
            "header": {
             "fill": {
              "color": "#C8D4E3"
             },
             "line": {
              "color": "white"
             }
            },
            "type": "table"
           }
          ]
         },
         "layout": {
          "annotationdefaults": {
           "arrowcolor": "#2a3f5f",
           "arrowhead": 0,
           "arrowwidth": 1
          },
          "autotypenumbers": "strict",
          "coloraxis": {
           "colorbar": {
            "outlinewidth": 0,
            "ticks": ""
           }
          },
          "colorscale": {
           "diverging": [
            [
             0,
             "#8e0152"
            ],
            [
             0.1,
             "#c51b7d"
            ],
            [
             0.2,
             "#de77ae"
            ],
            [
             0.3,
             "#f1b6da"
            ],
            [
             0.4,
             "#fde0ef"
            ],
            [
             0.5,
             "#f7f7f7"
            ],
            [
             0.6,
             "#e6f5d0"
            ],
            [
             0.7,
             "#b8e186"
            ],
            [
             0.8,
             "#7fbc41"
            ],
            [
             0.9,
             "#4d9221"
            ],
            [
             1,
             "#276419"
            ]
           ],
           "sequential": [
            [
             0,
             "#0d0887"
            ],
            [
             0.1111111111111111,
             "#46039f"
            ],
            [
             0.2222222222222222,
             "#7201a8"
            ],
            [
             0.3333333333333333,
             "#9c179e"
            ],
            [
             0.4444444444444444,
             "#bd3786"
            ],
            [
             0.5555555555555556,
             "#d8576b"
            ],
            [
             0.6666666666666666,
             "#ed7953"
            ],
            [
             0.7777777777777778,
             "#fb9f3a"
            ],
            [
             0.8888888888888888,
             "#fdca26"
            ],
            [
             1,
             "#f0f921"
            ]
           ],
           "sequentialminus": [
            [
             0,
             "#0d0887"
            ],
            [
             0.1111111111111111,
             "#46039f"
            ],
            [
             0.2222222222222222,
             "#7201a8"
            ],
            [
             0.3333333333333333,
             "#9c179e"
            ],
            [
             0.4444444444444444,
             "#bd3786"
            ],
            [
             0.5555555555555556,
             "#d8576b"
            ],
            [
             0.6666666666666666,
             "#ed7953"
            ],
            [
             0.7777777777777778,
             "#fb9f3a"
            ],
            [
             0.8888888888888888,
             "#fdca26"
            ],
            [
             1,
             "#f0f921"
            ]
           ]
          },
          "colorway": [
           "#636efa",
           "#EF553B",
           "#00cc96",
           "#ab63fa",
           "#FFA15A",
           "#19d3f3",
           "#FF6692",
           "#B6E880",
           "#FF97FF",
           "#FECB52"
          ],
          "font": {
           "color": "#2a3f5f"
          },
          "geo": {
           "bgcolor": "white",
           "lakecolor": "white",
           "landcolor": "#E5ECF6",
           "showlakes": true,
           "showland": true,
           "subunitcolor": "white"
          },
          "hoverlabel": {
           "align": "left"
          },
          "hovermode": "closest",
          "mapbox": {
           "style": "light"
          },
          "paper_bgcolor": "white",
          "plot_bgcolor": "#E5ECF6",
          "polar": {
           "angularaxis": {
            "gridcolor": "white",
            "linecolor": "white",
            "ticks": ""
           },
           "bgcolor": "#E5ECF6",
           "radialaxis": {
            "gridcolor": "white",
            "linecolor": "white",
            "ticks": ""
           }
          },
          "scene": {
           "xaxis": {
            "backgroundcolor": "#E5ECF6",
            "gridcolor": "white",
            "gridwidth": 2,
            "linecolor": "white",
            "showbackground": true,
            "ticks": "",
            "zerolinecolor": "white"
           },
           "yaxis": {
            "backgroundcolor": "#E5ECF6",
            "gridcolor": "white",
            "gridwidth": 2,
            "linecolor": "white",
            "showbackground": true,
            "ticks": "",
            "zerolinecolor": "white"
           },
           "zaxis": {
            "backgroundcolor": "#E5ECF6",
            "gridcolor": "white",
            "gridwidth": 2,
            "linecolor": "white",
            "showbackground": true,
            "ticks": "",
            "zerolinecolor": "white"
           }
          },
          "shapedefaults": {
           "line": {
            "color": "#2a3f5f"
           }
          },
          "ternary": {
           "aaxis": {
            "gridcolor": "white",
            "linecolor": "white",
            "ticks": ""
           },
           "baxis": {
            "gridcolor": "white",
            "linecolor": "white",
            "ticks": ""
           },
           "bgcolor": "#E5ECF6",
           "caxis": {
            "gridcolor": "white",
            "linecolor": "white",
            "ticks": ""
           }
          },
          "title": {
           "x": 0.05
          },
          "xaxis": {
           "automargin": true,
           "gridcolor": "white",
           "linecolor": "white",
           "ticks": "",
           "title": {
            "standoff": 15
           },
           "zerolinecolor": "white",
           "zerolinewidth": 2
          },
          "yaxis": {
           "automargin": true,
           "gridcolor": "white",
           "linecolor": "white",
           "ticks": "",
           "title": {
            "standoff": 15
           },
           "zerolinecolor": "white",
           "zerolinewidth": 2
          }
         }
        },
        "title": {
         "text": "loanTenure"
        },
        "width": 1500,
        "xaxis": {
         "anchor": "y",
         "domain": [
          0,
          1
         ],
         "title": {
          "text": "loanTenure"
         }
        },
        "yaxis": {
         "anchor": "x",
         "domain": [
          0,
          1
         ]
        }
       }
      }
     },
     "metadata": {},
     "output_type": "display_data"
    },
    {
     "data": {
      "application/vnd.plotly.v1+json": {
       "config": {
        "plotlyServerURL": "https://plot.ly"
       },
       "data": [
        {
         "alignmentgroup": "True",
         "hovertemplate": "interestRate=%{x}<extra></extra>",
         "legendgroup": "",
         "marker": {
          "color": "#636efa"
         },
         "name": "",
         "notched": false,
         "offsetgroup": "",
         "orientation": "h",
         "showlegend": false,
         "type": "box",
         "x": [
          18,
          18,
          18,
          18,
          18,
          18,
          18,
          18,
          18,
          18,
          18,
          18,
          18,
          18,
          18,
          18,
          18,
          18,
          18,
          18,
          18,
          18,
          18,
          18,
          18,
          18,
          18,
          18,
          18,
          18,
          18,
          18,
          18,
          18,
          18,
          18,
          18,
          18,
          18,
          18,
          18,
          18,
          18,
          18,
          18,
          18,
          18,
          18,
          18,
          18,
          18,
          18,
          18,
          18,
          18,
          18,
          18,
          18,
          18,
          18,
          18,
          18,
          18,
          18,
          18,
          18,
          18,
          18,
          18,
          18,
          18,
          18,
          18,
          18,
          18,
          18,
          18,
          18,
          18,
          18,
          18,
          18,
          18,
          18,
          18,
          18,
          18,
          18,
          18,
          18,
          18,
          18,
          18,
          18,
          18,
          18,
          18,
          18,
          18,
          18,
          18,
          18,
          18,
          18,
          18,
          18,
          18,
          18,
          18,
          18,
          18,
          18,
          18,
          18,
          18,
          18,
          18,
          18,
          18,
          18,
          18,
          18,
          18,
          18,
          18,
          18,
          18,
          18,
          18,
          18,
          18,
          18,
          18,
          18,
          18,
          18,
          18,
          18,
          18,
          18,
          18,
          18,
          18,
          18,
          18,
          18,
          18,
          18,
          18,
          18,
          18,
          18,
          18,
          18,
          18,
          18,
          18,
          18,
          18,
          18,
          18,
          18,
          18,
          18,
          18,
          18,
          18,
          18,
          18,
          18,
          18,
          18,
          18,
          18,
          18,
          18,
          18,
          18,
          18,
          18,
          18,
          18,
          18,
          18,
          18,
          18,
          18,
          18,
          18,
          18,
          18,
          18,
          18,
          18,
          18,
          18,
          18,
          18,
          18,
          18,
          18,
          18,
          18,
          18,
          18,
          18,
          18,
          18,
          18,
          18,
          18,
          18,
          18,
          18,
          18,
          18,
          18,
          18,
          18,
          18,
          18,
          18,
          18,
          18,
          18,
          18,
          18,
          18,
          18,
          18,
          18,
          18,
          18,
          18,
          18,
          18,
          18,
          18,
          18,
          18,
          18,
          18,
          18,
          18,
          18,
          18,
          18,
          18,
          18,
          18,
          18,
          18,
          18,
          18,
          18,
          18,
          18,
          18,
          18,
          18,
          18,
          18,
          18,
          18,
          18,
          18,
          18,
          18,
          18,
          18,
          18,
          18,
          18,
          18,
          18,
          18,
          18,
          18,
          18,
          18,
          18,
          18,
          18,
          18,
          18,
          18,
          18,
          18,
          18,
          18,
          18,
          18,
          18,
          18,
          18,
          18,
          18,
          18,
          18,
          18,
          18,
          18,
          18,
          18,
          18,
          18,
          18,
          18,
          18,
          18,
          18,
          18,
          18,
          18,
          18,
          18,
          18,
          18,
          18,
          18,
          18,
          18,
          18,
          18,
          18,
          18,
          18,
          18,
          18,
          18,
          18,
          18,
          18,
          18,
          18,
          18,
          18,
          18,
          18,
          18,
          18,
          18,
          18,
          18,
          18,
          18,
          18,
          18,
          18,
          18,
          18,
          18,
          18,
          18,
          18,
          18,
          18,
          18,
          18,
          18,
          18,
          18,
          18,
          18,
          18,
          18,
          18,
          18,
          18,
          18,
          18,
          18,
          18,
          18,
          18,
          18,
          18,
          18,
          18,
          18,
          18,
          18,
          18,
          18,
          18,
          18,
          18,
          18,
          18,
          18,
          18,
          18,
          18,
          18,
          18,
          18,
          18,
          18,
          18,
          18,
          18,
          18,
          18,
          18,
          18,
          18,
          18,
          18,
          18,
          15,
          18,
          18,
          18,
          18,
          18,
          18,
          18,
          18,
          18,
          18,
          18,
          18,
          18,
          18,
          18,
          18,
          18,
          18,
          18,
          18,
          18,
          18,
          18,
          18,
          18,
          18,
          18,
          18,
          18,
          18,
          18,
          18,
          18,
          18,
          18,
          18,
          18,
          18,
          18,
          18,
          18,
          18,
          18,
          18,
          18,
          18,
          18,
          18,
          18,
          18,
          18,
          18,
          18,
          18,
          18,
          18,
          18,
          18,
          18,
          18,
          18,
          18,
          18,
          18,
          18,
          18,
          18,
          18,
          18,
          18,
          18,
          18,
          18,
          18,
          18,
          18,
          18,
          18,
          18,
          18,
          18,
          18,
          18,
          18,
          18,
          18,
          18,
          18,
          18,
          18,
          18,
          18,
          18,
          18,
          18,
          18,
          18,
          18,
          18,
          18,
          18,
          18,
          18,
          18,
          18,
          18,
          18,
          18,
          18,
          18,
          18,
          18,
          18,
          18,
          18,
          18,
          18,
          18,
          18,
          18,
          18,
          18,
          18,
          18,
          18,
          18,
          18,
          18,
          18,
          18,
          18,
          18,
          18,
          18,
          18,
          18,
          18,
          18,
          18,
          18,
          18,
          18,
          18,
          18,
          18,
          18,
          18,
          18,
          18,
          18,
          18,
          18,
          18,
          18,
          18,
          18,
          18,
          18,
          18,
          18,
          18,
          18,
          18,
          18,
          18,
          18,
          18,
          18,
          18,
          18,
          18,
          18,
          18,
          18,
          18,
          18,
          18,
          18,
          18,
          18,
          18,
          18,
          18,
          18,
          18,
          18,
          18,
          18,
          18,
          18,
          18,
          18,
          18,
          18,
          18,
          18,
          18,
          18,
          18,
          18,
          18,
          18,
          18,
          18,
          18,
          18,
          18,
          18,
          18,
          18,
          18,
          18,
          18,
          18,
          18,
          18,
          18,
          18,
          18,
          18,
          18,
          18,
          18,
          18,
          18,
          18,
          18,
          18,
          18,
          18,
          18,
          18,
          18,
          18,
          18,
          18,
          18,
          18,
          18,
          18,
          18,
          18,
          18,
          18,
          18,
          18,
          18,
          18,
          18,
          18,
          18,
          18,
          18,
          18,
          18,
          18,
          18,
          18,
          18,
          18,
          18,
          18,
          18,
          18,
          18,
          18,
          18,
          18,
          18,
          18,
          18,
          18,
          18,
          18,
          18,
          18,
          18,
          18,
          18,
          18,
          18,
          18,
          18,
          18,
          18,
          18,
          18,
          18,
          18,
          18,
          18,
          18,
          18,
          18,
          18,
          18,
          18,
          18,
          18,
          18,
          18,
          18,
          18,
          18,
          18,
          18,
          18,
          18,
          18,
          18,
          18,
          18,
          18,
          18,
          18,
          18,
          18,
          18,
          18,
          18,
          18,
          18,
          18,
          18,
          18,
          18,
          18,
          18,
          18,
          18,
          18,
          18,
          18,
          18,
          18,
          18,
          18,
          18,
          18,
          18,
          18,
          18,
          18,
          18,
          18,
          18,
          18,
          18,
          18,
          18,
          18,
          18,
          18,
          18,
          18,
          18,
          18,
          18,
          18,
          18,
          18,
          18,
          18,
          18,
          18,
          18,
          18,
          18,
          18,
          18,
          18,
          18,
          18,
          18,
          18,
          18,
          18,
          18,
          18,
          18,
          18,
          18,
          18,
          18,
          18,
          18,
          18,
          18,
          18,
          18,
          18,
          18,
          18,
          18,
          18,
          18,
          18,
          18,
          18,
          18,
          18,
          18,
          18,
          18,
          18,
          18,
          18,
          18,
          18,
          18,
          18,
          18,
          18,
          18,
          18,
          18,
          18,
          18,
          18,
          18,
          18,
          18,
          18,
          18,
          18,
          18,
          18,
          18,
          18,
          18,
          18,
          18,
          18,
          18,
          18,
          18,
          18,
          18,
          18,
          18,
          18,
          18,
          18,
          18,
          18,
          18,
          18,
          18,
          18,
          18,
          18,
          18,
          18,
          18,
          18,
          18,
          18,
          18,
          18,
          18,
          18,
          18,
          18,
          18,
          18,
          18,
          18,
          18,
          18,
          18,
          18,
          18,
          18,
          18,
          18,
          18,
          18,
          18,
          18,
          18,
          18,
          18,
          18,
          18,
          18,
          18,
          18,
          18,
          18,
          18,
          18,
          18,
          18,
          18,
          18,
          18,
          18,
          18,
          18,
          18,
          18,
          18,
          18,
          18,
          18,
          18,
          18,
          18,
          18,
          18,
          18,
          18,
          18,
          18,
          18,
          18,
          18,
          18,
          18,
          18,
          18,
          18,
          18,
          18,
          18,
          18,
          18,
          18,
          18,
          18,
          18,
          18,
          18,
          18,
          18,
          18,
          18,
          18,
          18,
          18,
          18,
          18,
          18,
          18,
          18,
          18,
          18,
          18,
          18,
          18,
          18,
          18,
          18,
          18,
          18,
          18,
          18,
          18,
          18,
          18,
          18,
          18,
          18,
          18,
          18,
          18,
          18,
          18,
          18,
          18,
          18,
          18,
          18,
          18,
          18,
          18,
          18,
          18,
          18,
          18,
          18,
          18,
          18,
          18,
          18,
          18,
          18,
          18,
          18
         ],
         "x0": " ",
         "xaxis": "x",
         "y0": " ",
         "yaxis": "y"
        }
       ],
       "layout": {
        "boxmode": "group",
        "height": 400,
        "legend": {
         "tracegroupgap": 0
        },
        "template": {
         "data": {
          "bar": [
           {
            "error_x": {
             "color": "#2a3f5f"
            },
            "error_y": {
             "color": "#2a3f5f"
            },
            "marker": {
             "line": {
              "color": "#E5ECF6",
              "width": 0.5
             },
             "pattern": {
              "fillmode": "overlay",
              "size": 10,
              "solidity": 0.2
             }
            },
            "type": "bar"
           }
          ],
          "barpolar": [
           {
            "marker": {
             "line": {
              "color": "#E5ECF6",
              "width": 0.5
             },
             "pattern": {
              "fillmode": "overlay",
              "size": 10,
              "solidity": 0.2
             }
            },
            "type": "barpolar"
           }
          ],
          "carpet": [
           {
            "aaxis": {
             "endlinecolor": "#2a3f5f",
             "gridcolor": "white",
             "linecolor": "white",
             "minorgridcolor": "white",
             "startlinecolor": "#2a3f5f"
            },
            "baxis": {
             "endlinecolor": "#2a3f5f",
             "gridcolor": "white",
             "linecolor": "white",
             "minorgridcolor": "white",
             "startlinecolor": "#2a3f5f"
            },
            "type": "carpet"
           }
          ],
          "choropleth": [
           {
            "colorbar": {
             "outlinewidth": 0,
             "ticks": ""
            },
            "type": "choropleth"
           }
          ],
          "contour": [
           {
            "colorbar": {
             "outlinewidth": 0,
             "ticks": ""
            },
            "colorscale": [
             [
              0,
              "#0d0887"
             ],
             [
              0.1111111111111111,
              "#46039f"
             ],
             [
              0.2222222222222222,
              "#7201a8"
             ],
             [
              0.3333333333333333,
              "#9c179e"
             ],
             [
              0.4444444444444444,
              "#bd3786"
             ],
             [
              0.5555555555555556,
              "#d8576b"
             ],
             [
              0.6666666666666666,
              "#ed7953"
             ],
             [
              0.7777777777777778,
              "#fb9f3a"
             ],
             [
              0.8888888888888888,
              "#fdca26"
             ],
             [
              1,
              "#f0f921"
             ]
            ],
            "type": "contour"
           }
          ],
          "contourcarpet": [
           {
            "colorbar": {
             "outlinewidth": 0,
             "ticks": ""
            },
            "type": "contourcarpet"
           }
          ],
          "heatmap": [
           {
            "colorbar": {
             "outlinewidth": 0,
             "ticks": ""
            },
            "colorscale": [
             [
              0,
              "#0d0887"
             ],
             [
              0.1111111111111111,
              "#46039f"
             ],
             [
              0.2222222222222222,
              "#7201a8"
             ],
             [
              0.3333333333333333,
              "#9c179e"
             ],
             [
              0.4444444444444444,
              "#bd3786"
             ],
             [
              0.5555555555555556,
              "#d8576b"
             ],
             [
              0.6666666666666666,
              "#ed7953"
             ],
             [
              0.7777777777777778,
              "#fb9f3a"
             ],
             [
              0.8888888888888888,
              "#fdca26"
             ],
             [
              1,
              "#f0f921"
             ]
            ],
            "type": "heatmap"
           }
          ],
          "heatmapgl": [
           {
            "colorbar": {
             "outlinewidth": 0,
             "ticks": ""
            },
            "colorscale": [
             [
              0,
              "#0d0887"
             ],
             [
              0.1111111111111111,
              "#46039f"
             ],
             [
              0.2222222222222222,
              "#7201a8"
             ],
             [
              0.3333333333333333,
              "#9c179e"
             ],
             [
              0.4444444444444444,
              "#bd3786"
             ],
             [
              0.5555555555555556,
              "#d8576b"
             ],
             [
              0.6666666666666666,
              "#ed7953"
             ],
             [
              0.7777777777777778,
              "#fb9f3a"
             ],
             [
              0.8888888888888888,
              "#fdca26"
             ],
             [
              1,
              "#f0f921"
             ]
            ],
            "type": "heatmapgl"
           }
          ],
          "histogram": [
           {
            "marker": {
             "pattern": {
              "fillmode": "overlay",
              "size": 10,
              "solidity": 0.2
             }
            },
            "type": "histogram"
           }
          ],
          "histogram2d": [
           {
            "colorbar": {
             "outlinewidth": 0,
             "ticks": ""
            },
            "colorscale": [
             [
              0,
              "#0d0887"
             ],
             [
              0.1111111111111111,
              "#46039f"
             ],
             [
              0.2222222222222222,
              "#7201a8"
             ],
             [
              0.3333333333333333,
              "#9c179e"
             ],
             [
              0.4444444444444444,
              "#bd3786"
             ],
             [
              0.5555555555555556,
              "#d8576b"
             ],
             [
              0.6666666666666666,
              "#ed7953"
             ],
             [
              0.7777777777777778,
              "#fb9f3a"
             ],
             [
              0.8888888888888888,
              "#fdca26"
             ],
             [
              1,
              "#f0f921"
             ]
            ],
            "type": "histogram2d"
           }
          ],
          "histogram2dcontour": [
           {
            "colorbar": {
             "outlinewidth": 0,
             "ticks": ""
            },
            "colorscale": [
             [
              0,
              "#0d0887"
             ],
             [
              0.1111111111111111,
              "#46039f"
             ],
             [
              0.2222222222222222,
              "#7201a8"
             ],
             [
              0.3333333333333333,
              "#9c179e"
             ],
             [
              0.4444444444444444,
              "#bd3786"
             ],
             [
              0.5555555555555556,
              "#d8576b"
             ],
             [
              0.6666666666666666,
              "#ed7953"
             ],
             [
              0.7777777777777778,
              "#fb9f3a"
             ],
             [
              0.8888888888888888,
              "#fdca26"
             ],
             [
              1,
              "#f0f921"
             ]
            ],
            "type": "histogram2dcontour"
           }
          ],
          "mesh3d": [
           {
            "colorbar": {
             "outlinewidth": 0,
             "ticks": ""
            },
            "type": "mesh3d"
           }
          ],
          "parcoords": [
           {
            "line": {
             "colorbar": {
              "outlinewidth": 0,
              "ticks": ""
             }
            },
            "type": "parcoords"
           }
          ],
          "pie": [
           {
            "automargin": true,
            "type": "pie"
           }
          ],
          "scatter": [
           {
            "fillpattern": {
             "fillmode": "overlay",
             "size": 10,
             "solidity": 0.2
            },
            "type": "scatter"
           }
          ],
          "scatter3d": [
           {
            "line": {
             "colorbar": {
              "outlinewidth": 0,
              "ticks": ""
             }
            },
            "marker": {
             "colorbar": {
              "outlinewidth": 0,
              "ticks": ""
             }
            },
            "type": "scatter3d"
           }
          ],
          "scattercarpet": [
           {
            "marker": {
             "colorbar": {
              "outlinewidth": 0,
              "ticks": ""
             }
            },
            "type": "scattercarpet"
           }
          ],
          "scattergeo": [
           {
            "marker": {
             "colorbar": {
              "outlinewidth": 0,
              "ticks": ""
             }
            },
            "type": "scattergeo"
           }
          ],
          "scattergl": [
           {
            "marker": {
             "colorbar": {
              "outlinewidth": 0,
              "ticks": ""
             }
            },
            "type": "scattergl"
           }
          ],
          "scattermapbox": [
           {
            "marker": {
             "colorbar": {
              "outlinewidth": 0,
              "ticks": ""
             }
            },
            "type": "scattermapbox"
           }
          ],
          "scatterpolar": [
           {
            "marker": {
             "colorbar": {
              "outlinewidth": 0,
              "ticks": ""
             }
            },
            "type": "scatterpolar"
           }
          ],
          "scatterpolargl": [
           {
            "marker": {
             "colorbar": {
              "outlinewidth": 0,
              "ticks": ""
             }
            },
            "type": "scatterpolargl"
           }
          ],
          "scatterternary": [
           {
            "marker": {
             "colorbar": {
              "outlinewidth": 0,
              "ticks": ""
             }
            },
            "type": "scatterternary"
           }
          ],
          "surface": [
           {
            "colorbar": {
             "outlinewidth": 0,
             "ticks": ""
            },
            "colorscale": [
             [
              0,
              "#0d0887"
             ],
             [
              0.1111111111111111,
              "#46039f"
             ],
             [
              0.2222222222222222,
              "#7201a8"
             ],
             [
              0.3333333333333333,
              "#9c179e"
             ],
             [
              0.4444444444444444,
              "#bd3786"
             ],
             [
              0.5555555555555556,
              "#d8576b"
             ],
             [
              0.6666666666666666,
              "#ed7953"
             ],
             [
              0.7777777777777778,
              "#fb9f3a"
             ],
             [
              0.8888888888888888,
              "#fdca26"
             ],
             [
              1,
              "#f0f921"
             ]
            ],
            "type": "surface"
           }
          ],
          "table": [
           {
            "cells": {
             "fill": {
              "color": "#EBF0F8"
             },
             "line": {
              "color": "white"
             }
            },
            "header": {
             "fill": {
              "color": "#C8D4E3"
             },
             "line": {
              "color": "white"
             }
            },
            "type": "table"
           }
          ]
         },
         "layout": {
          "annotationdefaults": {
           "arrowcolor": "#2a3f5f",
           "arrowhead": 0,
           "arrowwidth": 1
          },
          "autotypenumbers": "strict",
          "coloraxis": {
           "colorbar": {
            "outlinewidth": 0,
            "ticks": ""
           }
          },
          "colorscale": {
           "diverging": [
            [
             0,
             "#8e0152"
            ],
            [
             0.1,
             "#c51b7d"
            ],
            [
             0.2,
             "#de77ae"
            ],
            [
             0.3,
             "#f1b6da"
            ],
            [
             0.4,
             "#fde0ef"
            ],
            [
             0.5,
             "#f7f7f7"
            ],
            [
             0.6,
             "#e6f5d0"
            ],
            [
             0.7,
             "#b8e186"
            ],
            [
             0.8,
             "#7fbc41"
            ],
            [
             0.9,
             "#4d9221"
            ],
            [
             1,
             "#276419"
            ]
           ],
           "sequential": [
            [
             0,
             "#0d0887"
            ],
            [
             0.1111111111111111,
             "#46039f"
            ],
            [
             0.2222222222222222,
             "#7201a8"
            ],
            [
             0.3333333333333333,
             "#9c179e"
            ],
            [
             0.4444444444444444,
             "#bd3786"
            ],
            [
             0.5555555555555556,
             "#d8576b"
            ],
            [
             0.6666666666666666,
             "#ed7953"
            ],
            [
             0.7777777777777778,
             "#fb9f3a"
            ],
            [
             0.8888888888888888,
             "#fdca26"
            ],
            [
             1,
             "#f0f921"
            ]
           ],
           "sequentialminus": [
            [
             0,
             "#0d0887"
            ],
            [
             0.1111111111111111,
             "#46039f"
            ],
            [
             0.2222222222222222,
             "#7201a8"
            ],
            [
             0.3333333333333333,
             "#9c179e"
            ],
            [
             0.4444444444444444,
             "#bd3786"
            ],
            [
             0.5555555555555556,
             "#d8576b"
            ],
            [
             0.6666666666666666,
             "#ed7953"
            ],
            [
             0.7777777777777778,
             "#fb9f3a"
            ],
            [
             0.8888888888888888,
             "#fdca26"
            ],
            [
             1,
             "#f0f921"
            ]
           ]
          },
          "colorway": [
           "#636efa",
           "#EF553B",
           "#00cc96",
           "#ab63fa",
           "#FFA15A",
           "#19d3f3",
           "#FF6692",
           "#B6E880",
           "#FF97FF",
           "#FECB52"
          ],
          "font": {
           "color": "#2a3f5f"
          },
          "geo": {
           "bgcolor": "white",
           "lakecolor": "white",
           "landcolor": "#E5ECF6",
           "showlakes": true,
           "showland": true,
           "subunitcolor": "white"
          },
          "hoverlabel": {
           "align": "left"
          },
          "hovermode": "closest",
          "mapbox": {
           "style": "light"
          },
          "paper_bgcolor": "white",
          "plot_bgcolor": "#E5ECF6",
          "polar": {
           "angularaxis": {
            "gridcolor": "white",
            "linecolor": "white",
            "ticks": ""
           },
           "bgcolor": "#E5ECF6",
           "radialaxis": {
            "gridcolor": "white",
            "linecolor": "white",
            "ticks": ""
           }
          },
          "scene": {
           "xaxis": {
            "backgroundcolor": "#E5ECF6",
            "gridcolor": "white",
            "gridwidth": 2,
            "linecolor": "white",
            "showbackground": true,
            "ticks": "",
            "zerolinecolor": "white"
           },
           "yaxis": {
            "backgroundcolor": "#E5ECF6",
            "gridcolor": "white",
            "gridwidth": 2,
            "linecolor": "white",
            "showbackground": true,
            "ticks": "",
            "zerolinecolor": "white"
           },
           "zaxis": {
            "backgroundcolor": "#E5ECF6",
            "gridcolor": "white",
            "gridwidth": 2,
            "linecolor": "white",
            "showbackground": true,
            "ticks": "",
            "zerolinecolor": "white"
           }
          },
          "shapedefaults": {
           "line": {
            "color": "#2a3f5f"
           }
          },
          "ternary": {
           "aaxis": {
            "gridcolor": "white",
            "linecolor": "white",
            "ticks": ""
           },
           "baxis": {
            "gridcolor": "white",
            "linecolor": "white",
            "ticks": ""
           },
           "bgcolor": "#E5ECF6",
           "caxis": {
            "gridcolor": "white",
            "linecolor": "white",
            "ticks": ""
           }
          },
          "title": {
           "x": 0.05
          },
          "xaxis": {
           "automargin": true,
           "gridcolor": "white",
           "linecolor": "white",
           "ticks": "",
           "title": {
            "standoff": 15
           },
           "zerolinecolor": "white",
           "zerolinewidth": 2
          },
          "yaxis": {
           "automargin": true,
           "gridcolor": "white",
           "linecolor": "white",
           "ticks": "",
           "title": {
            "standoff": 15
           },
           "zerolinecolor": "white",
           "zerolinewidth": 2
          }
         }
        },
        "title": {
         "text": "interestRate"
        },
        "width": 1500,
        "xaxis": {
         "anchor": "y",
         "domain": [
          0,
          1
         ],
         "title": {
          "text": "interestRate"
         }
        },
        "yaxis": {
         "anchor": "x",
         "domain": [
          0,
          1
         ]
        }
       }
      }
     },
     "metadata": {},
     "output_type": "display_data"
    },
    {
     "data": {
      "application/vnd.plotly.v1+json": {
       "config": {
        "plotlyServerURL": "https://plot.ly"
       },
       "data": [
        {
         "alignmentgroup": "True",
         "hovertemplate": "loanApplied=%{x}<extra></extra>",
         "legendgroup": "",
         "marker": {
          "color": "#636efa"
         },
         "name": "",
         "notched": false,
         "offsetgroup": "",
         "orientation": "h",
         "showlegend": false,
         "type": "box",
         "x": [
          5000,
          10000,
          6000,
          1500,
          5000,
          10000,
          5000,
          1000,
          2500,
          2000,
          8500,
          4500,
          10000,
          1500,
          2000,
          5000,
          5000,
          10000,
          2100,
          10000,
          2500,
          3000,
          7000,
          10000,
          1100,
          1100,
          2500,
          5000,
          5000,
          5500,
          10000,
          10000,
          1800,
          10000,
          5500,
          5100,
          5200,
          5000,
          2600,
          2000,
          1800,
          3000,
          5000,
          1000,
          6000,
          10000,
          10000,
          2000,
          10000,
          2000,
          10000,
          5000,
          10000,
          5000,
          3000,
          2000,
          5000,
          5000,
          5000,
          1500,
          1000,
          10000,
          10000,
          2500,
          5000,
          1000,
          10000,
          1900,
          1200,
          3000,
          5000,
          5000,
          4000,
          3300,
          10000,
          1000,
          3500,
          3000,
          10000,
          1500,
          10000,
          3500,
          10000,
          4000,
          6100,
          2000,
          10000,
          10000,
          3000,
          3000,
          1500,
          10000,
          2500,
          10000,
          3000,
          4500,
          3000,
          10000,
          5000,
          6000,
          5000,
          6000,
          1000,
          9000,
          10000,
          5000,
          10000,
          6000,
          3000,
          6000,
          5000,
          2000,
          3500,
          3000,
          8000,
          10000,
          5000,
          5000,
          10000,
          3000,
          10000,
          3000,
          10000,
          3000,
          2400,
          3000,
          4500,
          4000,
          4500,
          3000,
          4000,
          10000,
          8000,
          1500,
          5000,
          6500,
          10000,
          4000,
          10000,
          8000,
          5200,
          10000,
          10000,
          2000,
          8000,
          6000,
          10000,
          10000,
          10000,
          2500,
          10000,
          4000,
          6000,
          4000,
          10000,
          5000,
          2500,
          2500,
          1000,
          1000,
          6000,
          2500,
          5000,
          4000,
          1500,
          2000,
          3000,
          5000,
          9900,
          10000,
          3000,
          3500,
          5400,
          1000,
          10000,
          1900,
          10000,
          6000,
          5600,
          1500,
          10000,
          5000,
          1800,
          1000,
          5100,
          1000,
          1500,
          10000,
          10000,
          10000,
          5000,
          10000,
          5000,
          1000,
          3000,
          10000,
          3000,
          3000,
          10000,
          1000,
          6100,
          5000,
          1000,
          10000,
          1000,
          10000,
          1000,
          6000,
          3500,
          5000,
          10000,
          8000,
          8000,
          5000,
          5000,
          5000,
          4000,
          5000,
          1600,
          3000,
          5000,
          10000,
          10000,
          10000,
          10000,
          4000,
          5300,
          2000,
          5000,
          10000,
          10000,
          5000,
          10000,
          3000,
          1000,
          10000,
          10000,
          1000,
          5000,
          10000,
          3000,
          7000,
          10000,
          1200,
          10000,
          2000,
          6000,
          3500,
          10000,
          8500,
          10000,
          6000,
          5000,
          5000,
          10000,
          3000,
          4000,
          10000,
          7000,
          2000,
          6000,
          4900,
          5000,
          7000,
          2500,
          2000,
          1200,
          4000,
          10000,
          1500,
          6000,
          10000,
          3000,
          2500,
          10000,
          10000,
          10000,
          3000,
          10000,
          1600,
          5000,
          5000,
          10000,
          2400,
          5000,
          5000,
          6000,
          10000,
          1000,
          3500,
          10000,
          3000,
          3000,
          4000,
          10000,
          8000,
          3000,
          2000,
          1500,
          3000,
          2000,
          1000,
          2000,
          6000,
          10000,
          10000,
          10000,
          10000,
          6000,
          8000,
          1000,
          10000,
          4000,
          1000,
          10000,
          5000,
          1500,
          3000,
          10000,
          2500,
          2500,
          10000,
          2100,
          10000,
          5000,
          1500,
          2000,
          5000,
          5000,
          7500,
          3000,
          10000,
          3000,
          5500,
          10000,
          2000,
          8000,
          10000,
          10000,
          4600,
          4500,
          2500,
          5100,
          4600,
          10000,
          10000,
          5000,
          10000,
          3000,
          10000,
          2500,
          5000,
          10000,
          10000,
          10000,
          3500,
          1500,
          2400,
          3000,
          8000,
          2000,
          5000,
          10000,
          3000,
          2000,
          1000,
          2000,
          4000,
          1000,
          10000,
          10000,
          3000,
          2000,
          10000,
          4500,
          1000,
          2000,
          6000,
          2000,
          3000,
          10000,
          2000,
          10000,
          3000,
          1000,
          10000,
          3000,
          3000,
          5000,
          1000,
          10000,
          10000,
          2500,
          5000,
          3000,
          10000,
          5000,
          10000,
          10000,
          1000,
          5000,
          1700,
          10000,
          4000,
          10000,
          7000,
          2500,
          10000,
          3200,
          4100,
          1000,
          6000,
          3500,
          5000,
          2500,
          2500,
          5000,
          2000,
          2000,
          1500,
          1000,
          5000,
          2500,
          6000,
          3000,
          4800,
          1500,
          10000,
          2000,
          2200,
          3000,
          2000,
          1000,
          1500,
          5000,
          10000,
          10000,
          7500,
          10000,
          7000,
          3000,
          2000,
          8000,
          10000,
          5000,
          5000,
          6000,
          10000,
          10000,
          10000,
          4000,
          10000,
          5000,
          6000,
          6500,
          5000,
          5500,
          3000,
          3500,
          10000,
          5200,
          7000,
          1000,
          10000,
          5000,
          4000,
          10000,
          3000,
          5000,
          10000,
          5000,
          6000,
          5000,
          4000,
          2000,
          10000,
          9700,
          9100,
          3600,
          1500,
          4400,
          10000,
          10000,
          5000,
          5000,
          3000,
          3500,
          2000,
          7000,
          4100,
          10000,
          5000,
          3000,
          10000,
          5000,
          10000,
          10000,
          1000,
          10000,
          6000,
          7000,
          5000,
          10000,
          10000,
          3100,
          7000,
          8000,
          4000,
          5000,
          1500,
          5000,
          1200,
          8500,
          3000,
          3000,
          1000,
          5000,
          10000,
          7000,
          2000,
          10000,
          6000,
          10000,
          5000,
          5000,
          2000,
          4000,
          5000,
          10000,
          10000,
          5000,
          10000,
          5900,
          1000,
          5300,
          5000,
          1000,
          10000,
          3500,
          7000,
          6000,
          2300,
          1000,
          3100,
          10000,
          1000,
          3000,
          10000,
          10000,
          5300,
          5000,
          1000,
          7000,
          10000,
          3300,
          3500,
          1000,
          10000,
          3300,
          10000,
          2000,
          10000,
          1000,
          10000,
          5000,
          2500,
          10000,
          1000,
          2100,
          10000,
          6000,
          3000,
          1000,
          2000,
          10000,
          5000,
          2000,
          5000,
          5000,
          10000,
          1000,
          10000,
          4000,
          6600,
          5000,
          2000,
          2500,
          3000,
          5000,
          2000,
          3500,
          6000,
          5000,
          10000,
          3000,
          3300,
          4400,
          2000,
          4000,
          10000,
          10000,
          10000,
          10000,
          10000,
          1000,
          6000,
          10000,
          1000,
          10000,
          1000,
          6000,
          2000,
          5000,
          10000,
          3000,
          10000,
          6000,
          3000,
          10000,
          2000,
          5000,
          5500,
          2000,
          6000,
          5000,
          5000,
          10000,
          10000,
          9000,
          10000,
          1000,
          5500,
          10000,
          5000,
          10000,
          5000,
          5000,
          6000,
          3000,
          7000,
          10000,
          3200,
          2100,
          1000,
          1000,
          1700,
          10000,
          5000,
          10000,
          10000,
          7000,
          1000,
          2000,
          1000,
          10000,
          10000,
          5000,
          10000,
          6000,
          5000,
          5000,
          3500,
          2000,
          2000,
          5000,
          5100,
          3500,
          1500,
          10000,
          6500,
          6000,
          1800,
          2500,
          7500,
          10000,
          8000,
          1500,
          1700,
          1900,
          5500,
          2500,
          5000,
          10000,
          3000,
          6000,
          1000,
          5400,
          10000,
          1500,
          3500,
          5400,
          4400,
          5000,
          5000,
          3000,
          3000,
          10000,
          5000,
          5200,
          2000,
          8000,
          3500,
          1000,
          7500,
          10000,
          3000,
          10000,
          1000,
          5000,
          5500,
          10000,
          8000,
          10000,
          6000,
          1000,
          5000,
          2000,
          3500,
          10000,
          10000,
          10000,
          10000,
          1700,
          10000,
          1000,
          1000,
          3000,
          1500,
          3100,
          10000,
          1500,
          1500,
          5000,
          8100,
          10000,
          4000,
          7000,
          5200,
          10000,
          1000,
          10000,
          5000,
          3000,
          6000,
          5000,
          5000,
          10000,
          10000,
          1500,
          10000,
          10000,
          8000,
          5500,
          3500,
          9000,
          10000,
          5000,
          10000,
          10000,
          10000,
          3000,
          2000,
          5000,
          5000,
          3300,
          10000,
          3500,
          5000,
          2000,
          5000,
          10000,
          4500,
          10000,
          10000,
          2000,
          9800,
          8000,
          10000,
          5100,
          10000,
          1000,
          1000,
          10000,
          10000,
          10000,
          2000,
          1000,
          3600,
          2000,
          6400,
          1800,
          5000,
          1500,
          2500,
          10000,
          3000,
          10000,
          7500,
          6000,
          10000,
          10000,
          3500,
          7000,
          10000,
          10000,
          9000,
          5000,
          10000,
          8000,
          5000,
          5000,
          10000,
          6000,
          10000,
          10000,
          10000,
          3000,
          5000,
          1000,
          2000,
          5000,
          5000,
          3000,
          10000,
          8000,
          4000,
          6200,
          3000,
          5000,
          7000,
          10000,
          6000,
          1900,
          5200,
          10000,
          5500,
          10000,
          7000,
          3000,
          8000,
          5000,
          2000,
          1000,
          10000,
          10000,
          10000,
          4000,
          10000,
          10000,
          2000,
          3000,
          10000,
          2200,
          1000,
          5300,
          1000,
          10000,
          3000,
          3000,
          10000,
          10000,
          10000,
          10000,
          1500,
          10000,
          1000,
          10000,
          1400,
          10000,
          10000,
          10000,
          1000,
          3000,
          6000,
          10000,
          4000,
          3500,
          1000,
          3000,
          5000,
          5100,
          10000,
          6000,
          10000,
          10000,
          5000,
          7000,
          5000,
          4500,
          5000,
          7000,
          2500,
          5000,
          2000,
          10000,
          5000,
          3300,
          5000,
          2000,
          4500,
          2000,
          1000,
          5000,
          6600,
          2000,
          5000,
          2600,
          1500,
          1800,
          5000,
          6000,
          3300,
          6400,
          3500,
          5000,
          10000,
          10000,
          10000,
          5000,
          5000,
          3000,
          1000,
          3500,
          10000,
          1000,
          7500,
          2000,
          10000,
          1500,
          5000,
          5300,
          3000,
          10000,
          1600,
          1000,
          9000,
          5000,
          3500,
          5000,
          10000,
          2000,
          5000,
          10000,
          1500,
          10000,
          5100,
          2600,
          10000,
          10000,
          10000,
          5000,
          6000,
          2000,
          10000,
          10000,
          10000,
          10000,
          3500,
          2000,
          6000,
          2500,
          10000,
          5000,
          2000,
          3000,
          10000,
          10000,
          6000,
          9500,
          2000,
          10000,
          5000,
          5000,
          10000,
          10000,
          10000,
          2000,
          2500,
          5000,
          10000,
          10000,
          2000,
          5000,
          3000,
          7500,
          10000,
          8500,
          10000,
          1500,
          1200,
          2000,
          3500,
          2500,
          3000,
          10000,
          5000,
          2000,
          2000,
          1000
         ],
         "x0": " ",
         "xaxis": "x",
         "y0": " ",
         "yaxis": "y"
        }
       ],
       "layout": {
        "boxmode": "group",
        "height": 400,
        "legend": {
         "tracegroupgap": 0
        },
        "template": {
         "data": {
          "bar": [
           {
            "error_x": {
             "color": "#2a3f5f"
            },
            "error_y": {
             "color": "#2a3f5f"
            },
            "marker": {
             "line": {
              "color": "#E5ECF6",
              "width": 0.5
             },
             "pattern": {
              "fillmode": "overlay",
              "size": 10,
              "solidity": 0.2
             }
            },
            "type": "bar"
           }
          ],
          "barpolar": [
           {
            "marker": {
             "line": {
              "color": "#E5ECF6",
              "width": 0.5
             },
             "pattern": {
              "fillmode": "overlay",
              "size": 10,
              "solidity": 0.2
             }
            },
            "type": "barpolar"
           }
          ],
          "carpet": [
           {
            "aaxis": {
             "endlinecolor": "#2a3f5f",
             "gridcolor": "white",
             "linecolor": "white",
             "minorgridcolor": "white",
             "startlinecolor": "#2a3f5f"
            },
            "baxis": {
             "endlinecolor": "#2a3f5f",
             "gridcolor": "white",
             "linecolor": "white",
             "minorgridcolor": "white",
             "startlinecolor": "#2a3f5f"
            },
            "type": "carpet"
           }
          ],
          "choropleth": [
           {
            "colorbar": {
             "outlinewidth": 0,
             "ticks": ""
            },
            "type": "choropleth"
           }
          ],
          "contour": [
           {
            "colorbar": {
             "outlinewidth": 0,
             "ticks": ""
            },
            "colorscale": [
             [
              0,
              "#0d0887"
             ],
             [
              0.1111111111111111,
              "#46039f"
             ],
             [
              0.2222222222222222,
              "#7201a8"
             ],
             [
              0.3333333333333333,
              "#9c179e"
             ],
             [
              0.4444444444444444,
              "#bd3786"
             ],
             [
              0.5555555555555556,
              "#d8576b"
             ],
             [
              0.6666666666666666,
              "#ed7953"
             ],
             [
              0.7777777777777778,
              "#fb9f3a"
             ],
             [
              0.8888888888888888,
              "#fdca26"
             ],
             [
              1,
              "#f0f921"
             ]
            ],
            "type": "contour"
           }
          ],
          "contourcarpet": [
           {
            "colorbar": {
             "outlinewidth": 0,
             "ticks": ""
            },
            "type": "contourcarpet"
           }
          ],
          "heatmap": [
           {
            "colorbar": {
             "outlinewidth": 0,
             "ticks": ""
            },
            "colorscale": [
             [
              0,
              "#0d0887"
             ],
             [
              0.1111111111111111,
              "#46039f"
             ],
             [
              0.2222222222222222,
              "#7201a8"
             ],
             [
              0.3333333333333333,
              "#9c179e"
             ],
             [
              0.4444444444444444,
              "#bd3786"
             ],
             [
              0.5555555555555556,
              "#d8576b"
             ],
             [
              0.6666666666666666,
              "#ed7953"
             ],
             [
              0.7777777777777778,
              "#fb9f3a"
             ],
             [
              0.8888888888888888,
              "#fdca26"
             ],
             [
              1,
              "#f0f921"
             ]
            ],
            "type": "heatmap"
           }
          ],
          "heatmapgl": [
           {
            "colorbar": {
             "outlinewidth": 0,
             "ticks": ""
            },
            "colorscale": [
             [
              0,
              "#0d0887"
             ],
             [
              0.1111111111111111,
              "#46039f"
             ],
             [
              0.2222222222222222,
              "#7201a8"
             ],
             [
              0.3333333333333333,
              "#9c179e"
             ],
             [
              0.4444444444444444,
              "#bd3786"
             ],
             [
              0.5555555555555556,
              "#d8576b"
             ],
             [
              0.6666666666666666,
              "#ed7953"
             ],
             [
              0.7777777777777778,
              "#fb9f3a"
             ],
             [
              0.8888888888888888,
              "#fdca26"
             ],
             [
              1,
              "#f0f921"
             ]
            ],
            "type": "heatmapgl"
           }
          ],
          "histogram": [
           {
            "marker": {
             "pattern": {
              "fillmode": "overlay",
              "size": 10,
              "solidity": 0.2
             }
            },
            "type": "histogram"
           }
          ],
          "histogram2d": [
           {
            "colorbar": {
             "outlinewidth": 0,
             "ticks": ""
            },
            "colorscale": [
             [
              0,
              "#0d0887"
             ],
             [
              0.1111111111111111,
              "#46039f"
             ],
             [
              0.2222222222222222,
              "#7201a8"
             ],
             [
              0.3333333333333333,
              "#9c179e"
             ],
             [
              0.4444444444444444,
              "#bd3786"
             ],
             [
              0.5555555555555556,
              "#d8576b"
             ],
             [
              0.6666666666666666,
              "#ed7953"
             ],
             [
              0.7777777777777778,
              "#fb9f3a"
             ],
             [
              0.8888888888888888,
              "#fdca26"
             ],
             [
              1,
              "#f0f921"
             ]
            ],
            "type": "histogram2d"
           }
          ],
          "histogram2dcontour": [
           {
            "colorbar": {
             "outlinewidth": 0,
             "ticks": ""
            },
            "colorscale": [
             [
              0,
              "#0d0887"
             ],
             [
              0.1111111111111111,
              "#46039f"
             ],
             [
              0.2222222222222222,
              "#7201a8"
             ],
             [
              0.3333333333333333,
              "#9c179e"
             ],
             [
              0.4444444444444444,
              "#bd3786"
             ],
             [
              0.5555555555555556,
              "#d8576b"
             ],
             [
              0.6666666666666666,
              "#ed7953"
             ],
             [
              0.7777777777777778,
              "#fb9f3a"
             ],
             [
              0.8888888888888888,
              "#fdca26"
             ],
             [
              1,
              "#f0f921"
             ]
            ],
            "type": "histogram2dcontour"
           }
          ],
          "mesh3d": [
           {
            "colorbar": {
             "outlinewidth": 0,
             "ticks": ""
            },
            "type": "mesh3d"
           }
          ],
          "parcoords": [
           {
            "line": {
             "colorbar": {
              "outlinewidth": 0,
              "ticks": ""
             }
            },
            "type": "parcoords"
           }
          ],
          "pie": [
           {
            "automargin": true,
            "type": "pie"
           }
          ],
          "scatter": [
           {
            "fillpattern": {
             "fillmode": "overlay",
             "size": 10,
             "solidity": 0.2
            },
            "type": "scatter"
           }
          ],
          "scatter3d": [
           {
            "line": {
             "colorbar": {
              "outlinewidth": 0,
              "ticks": ""
             }
            },
            "marker": {
             "colorbar": {
              "outlinewidth": 0,
              "ticks": ""
             }
            },
            "type": "scatter3d"
           }
          ],
          "scattercarpet": [
           {
            "marker": {
             "colorbar": {
              "outlinewidth": 0,
              "ticks": ""
             }
            },
            "type": "scattercarpet"
           }
          ],
          "scattergeo": [
           {
            "marker": {
             "colorbar": {
              "outlinewidth": 0,
              "ticks": ""
             }
            },
            "type": "scattergeo"
           }
          ],
          "scattergl": [
           {
            "marker": {
             "colorbar": {
              "outlinewidth": 0,
              "ticks": ""
             }
            },
            "type": "scattergl"
           }
          ],
          "scattermapbox": [
           {
            "marker": {
             "colorbar": {
              "outlinewidth": 0,
              "ticks": ""
             }
            },
            "type": "scattermapbox"
           }
          ],
          "scatterpolar": [
           {
            "marker": {
             "colorbar": {
              "outlinewidth": 0,
              "ticks": ""
             }
            },
            "type": "scatterpolar"
           }
          ],
          "scatterpolargl": [
           {
            "marker": {
             "colorbar": {
              "outlinewidth": 0,
              "ticks": ""
             }
            },
            "type": "scatterpolargl"
           }
          ],
          "scatterternary": [
           {
            "marker": {
             "colorbar": {
              "outlinewidth": 0,
              "ticks": ""
             }
            },
            "type": "scatterternary"
           }
          ],
          "surface": [
           {
            "colorbar": {
             "outlinewidth": 0,
             "ticks": ""
            },
            "colorscale": [
             [
              0,
              "#0d0887"
             ],
             [
              0.1111111111111111,
              "#46039f"
             ],
             [
              0.2222222222222222,
              "#7201a8"
             ],
             [
              0.3333333333333333,
              "#9c179e"
             ],
             [
              0.4444444444444444,
              "#bd3786"
             ],
             [
              0.5555555555555556,
              "#d8576b"
             ],
             [
              0.6666666666666666,
              "#ed7953"
             ],
             [
              0.7777777777777778,
              "#fb9f3a"
             ],
             [
              0.8888888888888888,
              "#fdca26"
             ],
             [
              1,
              "#f0f921"
             ]
            ],
            "type": "surface"
           }
          ],
          "table": [
           {
            "cells": {
             "fill": {
              "color": "#EBF0F8"
             },
             "line": {
              "color": "white"
             }
            },
            "header": {
             "fill": {
              "color": "#C8D4E3"
             },
             "line": {
              "color": "white"
             }
            },
            "type": "table"
           }
          ]
         },
         "layout": {
          "annotationdefaults": {
           "arrowcolor": "#2a3f5f",
           "arrowhead": 0,
           "arrowwidth": 1
          },
          "autotypenumbers": "strict",
          "coloraxis": {
           "colorbar": {
            "outlinewidth": 0,
            "ticks": ""
           }
          },
          "colorscale": {
           "diverging": [
            [
             0,
             "#8e0152"
            ],
            [
             0.1,
             "#c51b7d"
            ],
            [
             0.2,
             "#de77ae"
            ],
            [
             0.3,
             "#f1b6da"
            ],
            [
             0.4,
             "#fde0ef"
            ],
            [
             0.5,
             "#f7f7f7"
            ],
            [
             0.6,
             "#e6f5d0"
            ],
            [
             0.7,
             "#b8e186"
            ],
            [
             0.8,
             "#7fbc41"
            ],
            [
             0.9,
             "#4d9221"
            ],
            [
             1,
             "#276419"
            ]
           ],
           "sequential": [
            [
             0,
             "#0d0887"
            ],
            [
             0.1111111111111111,
             "#46039f"
            ],
            [
             0.2222222222222222,
             "#7201a8"
            ],
            [
             0.3333333333333333,
             "#9c179e"
            ],
            [
             0.4444444444444444,
             "#bd3786"
            ],
            [
             0.5555555555555556,
             "#d8576b"
            ],
            [
             0.6666666666666666,
             "#ed7953"
            ],
            [
             0.7777777777777778,
             "#fb9f3a"
            ],
            [
             0.8888888888888888,
             "#fdca26"
            ],
            [
             1,
             "#f0f921"
            ]
           ],
           "sequentialminus": [
            [
             0,
             "#0d0887"
            ],
            [
             0.1111111111111111,
             "#46039f"
            ],
            [
             0.2222222222222222,
             "#7201a8"
            ],
            [
             0.3333333333333333,
             "#9c179e"
            ],
            [
             0.4444444444444444,
             "#bd3786"
            ],
            [
             0.5555555555555556,
             "#d8576b"
            ],
            [
             0.6666666666666666,
             "#ed7953"
            ],
            [
             0.7777777777777778,
             "#fb9f3a"
            ],
            [
             0.8888888888888888,
             "#fdca26"
            ],
            [
             1,
             "#f0f921"
            ]
           ]
          },
          "colorway": [
           "#636efa",
           "#EF553B",
           "#00cc96",
           "#ab63fa",
           "#FFA15A",
           "#19d3f3",
           "#FF6692",
           "#B6E880",
           "#FF97FF",
           "#FECB52"
          ],
          "font": {
           "color": "#2a3f5f"
          },
          "geo": {
           "bgcolor": "white",
           "lakecolor": "white",
           "landcolor": "#E5ECF6",
           "showlakes": true,
           "showland": true,
           "subunitcolor": "white"
          },
          "hoverlabel": {
           "align": "left"
          },
          "hovermode": "closest",
          "mapbox": {
           "style": "light"
          },
          "paper_bgcolor": "white",
          "plot_bgcolor": "#E5ECF6",
          "polar": {
           "angularaxis": {
            "gridcolor": "white",
            "linecolor": "white",
            "ticks": ""
           },
           "bgcolor": "#E5ECF6",
           "radialaxis": {
            "gridcolor": "white",
            "linecolor": "white",
            "ticks": ""
           }
          },
          "scene": {
           "xaxis": {
            "backgroundcolor": "#E5ECF6",
            "gridcolor": "white",
            "gridwidth": 2,
            "linecolor": "white",
            "showbackground": true,
            "ticks": "",
            "zerolinecolor": "white"
           },
           "yaxis": {
            "backgroundcolor": "#E5ECF6",
            "gridcolor": "white",
            "gridwidth": 2,
            "linecolor": "white",
            "showbackground": true,
            "ticks": "",
            "zerolinecolor": "white"
           },
           "zaxis": {
            "backgroundcolor": "#E5ECF6",
            "gridcolor": "white",
            "gridwidth": 2,
            "linecolor": "white",
            "showbackground": true,
            "ticks": "",
            "zerolinecolor": "white"
           }
          },
          "shapedefaults": {
           "line": {
            "color": "#2a3f5f"
           }
          },
          "ternary": {
           "aaxis": {
            "gridcolor": "white",
            "linecolor": "white",
            "ticks": ""
           },
           "baxis": {
            "gridcolor": "white",
            "linecolor": "white",
            "ticks": ""
           },
           "bgcolor": "#E5ECF6",
           "caxis": {
            "gridcolor": "white",
            "linecolor": "white",
            "ticks": ""
           }
          },
          "title": {
           "x": 0.05
          },
          "xaxis": {
           "automargin": true,
           "gridcolor": "white",
           "linecolor": "white",
           "ticks": "",
           "title": {
            "standoff": 15
           },
           "zerolinecolor": "white",
           "zerolinewidth": 2
          },
          "yaxis": {
           "automargin": true,
           "gridcolor": "white",
           "linecolor": "white",
           "ticks": "",
           "title": {
            "standoff": 15
           },
           "zerolinecolor": "white",
           "zerolinewidth": 2
          }
         }
        },
        "title": {
         "text": "loanApplied"
        },
        "width": 1500,
        "xaxis": {
         "anchor": "y",
         "domain": [
          0,
          1
         ],
         "title": {
          "text": "loanApplied"
         }
        },
        "yaxis": {
         "anchor": "x",
         "domain": [
          0,
          1
         ]
        }
       }
      }
     },
     "metadata": {},
     "output_type": "display_data"
    }
   ],
   "source": [
    "# Boxplots to understand numerical data distribution\n",
    "for col in numerical_features.columns:\n",
    "    fig = px.box(numerical_features, x=col, title=col, width=1500, height=400)\n",
    "    fig.show()\n"
   ]
  },
  {
   "cell_type": "code",
   "execution_count": 28,
   "metadata": {},
   "outputs": [
    {
     "data": {
      "text/plain": [
       "interestRate\n",
       "18    998\n",
       "15      1\n",
       "Name: count, dtype: int64"
      ]
     },
     "metadata": {},
     "output_type": "display_data"
    },
    {
     "data": {
      "text/html": [
       "<div>\n",
       "<style scoped>\n",
       "    .dataframe tbody tr th:only-of-type {\n",
       "        vertical-align: middle;\n",
       "    }\n",
       "\n",
       "    .dataframe tbody tr th {\n",
       "        vertical-align: top;\n",
       "    }\n",
       "\n",
       "    .dataframe thead th {\n",
       "        text-align: right;\n",
       "    }\n",
       "</style>\n",
       "<table border=\"1\" class=\"dataframe\">\n",
       "  <thead>\n",
       "    <tr style=\"text-align: right;\">\n",
       "      <th></th>\n",
       "      <th>ela</th>\n",
       "      <th>financeAmount</th>\n",
       "      <th>applicationStatus</th>\n",
       "      <th>netSalary</th>\n",
       "      <th>loanTenure</th>\n",
       "      <th>interestRate</th>\n",
       "      <th>loanApplied</th>\n",
       "      <th>jobTitle</th>\n",
       "      <th>loanReason</th>\n",
       "    </tr>\n",
       "  </thead>\n",
       "  <tbody>\n",
       "    <tr>\n",
       "      <th>410</th>\n",
       "      <td>10000.0</td>\n",
       "      <td>4100.0</td>\n",
       "      <td>REJECTED</td>\n",
       "      <td>1324.85</td>\n",
       "      <td>24</td>\n",
       "      <td>15</td>\n",
       "      <td>4100</td>\n",
       "      <td>GENERAL WORKER</td>\n",
       "      <td>DEBTS CONSOLIDATION</td>\n",
       "    </tr>\n",
       "  </tbody>\n",
       "</table>\n",
       "</div>"
      ],
      "text/plain": [
       "         ela  financeAmount applicationStatus  netSalary  loanTenure  \\\n",
       "410  10000.0         4100.0          REJECTED    1324.85          24   \n",
       "\n",
       "     interestRate  loanApplied        jobTitle           loanReason  \n",
       "410            15         4100  GENERAL WORKER  DEBTS CONSOLIDATION  "
      ]
     },
     "metadata": {},
     "output_type": "display_data"
    },
    {
     "data": {
      "text/plain": [
       "0.00900900900900901"
      ]
     },
     "execution_count": 28,
     "metadata": {},
     "output_type": "execute_result"
    }
   ],
   "source": [
    "# Suprisingly, interestRate only has 2 unique values, with a single occurance of 15%, while the rest is at 18%.\n",
    "# As there is almost no variance in the interestRate, the feature for this dataset will likely have minimal impact on model performance and will be dropped, however in the future if the variable has more variance it should be revisited.\n",
    "display(data_p2['interestRate'].value_counts())\n",
    "display(data_p2.query(\"interestRate == 15\"))\n",
    "data_p2['interestRate'].var()"
   ]
  },
  {
   "cell_type": "markdown",
   "metadata": {},
   "source": [
    "#### Summary of findings for numerical variables and action to be taken\n",
    "\n",
    "ela  \n",
    "Has an extreme outliers, max value will be clipped to 75,000  \n",
    "\n",
    "financeAmount  \n",
    "No outliers and relatively normally distributed, no action to be taken  \n",
    "\n",
    "netSalary  \n",
    "Has an extreme outliers, max value will be clipped to 12,000  \n",
    "\n",
    "loanTenure  \n",
    "Appears to be of data type with 4 unique values, indicating it is of ordinal type \n",
    "\n",
    "interestRate  \n",
    "Drop due to lack of variation  \n",
    "\n",
    "loanApplied  \n",
    "No outliers and relatively normally distributed, no action to be taken  "
   ]
  },
  {
   "cell_type": "code",
   "execution_count": 29,
   "metadata": {},
   "outputs": [
    {
     "data": {
      "text/html": [
       "<div>\n",
       "<style scoped>\n",
       "    .dataframe tbody tr th:only-of-type {\n",
       "        vertical-align: middle;\n",
       "    }\n",
       "\n",
       "    .dataframe tbody tr th {\n",
       "        vertical-align: top;\n",
       "    }\n",
       "\n",
       "    .dataframe thead th {\n",
       "        text-align: right;\n",
       "    }\n",
       "</style>\n",
       "<table border=\"1\" class=\"dataframe\">\n",
       "  <thead>\n",
       "    <tr style=\"text-align: right;\">\n",
       "      <th></th>\n",
       "      <th>ela</th>\n",
       "      <th>financeAmount</th>\n",
       "      <th>applicationStatus</th>\n",
       "      <th>netSalary</th>\n",
       "      <th>loanTenure</th>\n",
       "      <th>loanApplied</th>\n",
       "      <th>loanReason</th>\n",
       "    </tr>\n",
       "  </thead>\n",
       "  <tbody>\n",
       "    <tr>\n",
       "      <th>782</th>\n",
       "      <td>1000.0</td>\n",
       "      <td>1000.0</td>\n",
       "      <td>0</td>\n",
       "      <td>920.00</td>\n",
       "      <td>6</td>\n",
       "      <td>1000</td>\n",
       "      <td>EDUCATION</td>\n",
       "    </tr>\n",
       "    <tr>\n",
       "      <th>563</th>\n",
       "      <td>13000.0</td>\n",
       "      <td>1000.0</td>\n",
       "      <td>0</td>\n",
       "      <td>1500.00</td>\n",
       "      <td>24</td>\n",
       "      <td>1000</td>\n",
       "      <td>EXPAND BUSINESS</td>\n",
       "    </tr>\n",
       "    <tr>\n",
       "      <th>333</th>\n",
       "      <td>1000.0</td>\n",
       "      <td>1000.0</td>\n",
       "      <td>0</td>\n",
       "      <td>1960.00</td>\n",
       "      <td>24</td>\n",
       "      <td>3000</td>\n",
       "      <td>RENOVATION</td>\n",
       "    </tr>\n",
       "    <tr>\n",
       "      <th>41</th>\n",
       "      <td>38000.0</td>\n",
       "      <td>3000.0</td>\n",
       "      <td>0</td>\n",
       "      <td>3907.00</td>\n",
       "      <td>18</td>\n",
       "      <td>3000</td>\n",
       "      <td>MEDICAL EXPENSES</td>\n",
       "    </tr>\n",
       "    <tr>\n",
       "      <th>366</th>\n",
       "      <td>2000.0</td>\n",
       "      <td>1000.0</td>\n",
       "      <td>0</td>\n",
       "      <td>3700.00</td>\n",
       "      <td>6</td>\n",
       "      <td>1000</td>\n",
       "      <td>DEBTS CONSOLIDATION</td>\n",
       "    </tr>\n",
       "    <tr>\n",
       "      <th>557</th>\n",
       "      <td>0.0</td>\n",
       "      <td>0.0</td>\n",
       "      <td>0</td>\n",
       "      <td>1300.00</td>\n",
       "      <td>12</td>\n",
       "      <td>1000</td>\n",
       "      <td>DEBTS CONSOLIDATION</td>\n",
       "    </tr>\n",
       "    <tr>\n",
       "      <th>316</th>\n",
       "      <td>9000.0</td>\n",
       "      <td>5000.0</td>\n",
       "      <td>1</td>\n",
       "      <td>2453.23</td>\n",
       "      <td>24</td>\n",
       "      <td>5000</td>\n",
       "      <td>DEBTS CONSOLIDATION</td>\n",
       "    </tr>\n",
       "    <tr>\n",
       "      <th>680</th>\n",
       "      <td>0.0</td>\n",
       "      <td>0.0</td>\n",
       "      <td>0</td>\n",
       "      <td>1500.00</td>\n",
       "      <td>24</td>\n",
       "      <td>5500</td>\n",
       "      <td>MEDICAL EXPENSES</td>\n",
       "    </tr>\n",
       "    <tr>\n",
       "      <th>96</th>\n",
       "      <td>6000.0</td>\n",
       "      <td>3000.0</td>\n",
       "      <td>0</td>\n",
       "      <td>707.00</td>\n",
       "      <td>24</td>\n",
       "      <td>3000</td>\n",
       "      <td>RENOVATION</td>\n",
       "    </tr>\n",
       "    <tr>\n",
       "      <th>950</th>\n",
       "      <td>3000.0</td>\n",
       "      <td>2000.0</td>\n",
       "      <td>1</td>\n",
       "      <td>5210.68</td>\n",
       "      <td>24</td>\n",
       "      <td>10000</td>\n",
       "      <td>DEBTS CONSOLIDATION</td>\n",
       "    </tr>\n",
       "  </tbody>\n",
       "</table>\n",
       "</div>"
      ],
      "text/plain": [
       "         ela  financeAmount applicationStatus  netSalary  loanTenure  \\\n",
       "782   1000.0         1000.0                 0     920.00           6   \n",
       "563  13000.0         1000.0                 0    1500.00          24   \n",
       "333   1000.0         1000.0                 0    1960.00          24   \n",
       "41   38000.0         3000.0                 0    3907.00          18   \n",
       "366   2000.0         1000.0                 0    3700.00           6   \n",
       "557      0.0            0.0                 0    1300.00          12   \n",
       "316   9000.0         5000.0                 1    2453.23          24   \n",
       "680      0.0            0.0                 0    1500.00          24   \n",
       "96    6000.0         3000.0                 0     707.00          24   \n",
       "950   3000.0         2000.0                 1    5210.68          24   \n",
       "\n",
       "     loanApplied           loanReason  \n",
       "782         1000            EDUCATION  \n",
       "563         1000      EXPAND BUSINESS  \n",
       "333         3000           RENOVATION  \n",
       "41          3000     MEDICAL EXPENSES  \n",
       "366         1000  DEBTS CONSOLIDATION  \n",
       "557         1000  DEBTS CONSOLIDATION  \n",
       "316         5000  DEBTS CONSOLIDATION  \n",
       "680         5500     MEDICAL EXPENSES  \n",
       "96          3000           RENOVATION  \n",
       "950        10000  DEBTS CONSOLIDATION  "
      ]
     },
     "execution_count": 29,
     "metadata": {},
     "output_type": "execute_result"
    }
   ],
   "source": [
    "# Feature processing\n",
    "clean_data = data_p2.drop(columns=['jobTitle', 'interestRate'])\n",
    "clean_data.loc[:,'ela'] = clean_data['ela'].clip(upper=75000)\n",
    "clean_data.loc[:,'netSalary'] = clean_data['netSalary'].clip(upper=12000)\n",
    "clean_data.loc[:,'applicationStatus'] = clean_data['applicationStatus'].map({'APPROVED': '1', 'REJECTED': '0'}) # encoding of categorical target variable\n",
    "clean_data.sample(10)"
   ]
  },
  {
   "cell_type": "code",
   "execution_count": 30,
   "metadata": {},
   "outputs": [
    {
     "data": {
      "text/html": [
       "<div>\n",
       "<style scoped>\n",
       "    .dataframe tbody tr th:only-of-type {\n",
       "        vertical-align: middle;\n",
       "    }\n",
       "\n",
       "    .dataframe tbody tr th {\n",
       "        vertical-align: top;\n",
       "    }\n",
       "\n",
       "    .dataframe thead th {\n",
       "        text-align: right;\n",
       "    }\n",
       "</style>\n",
       "<table border=\"1\" class=\"dataframe\">\n",
       "  <thead>\n",
       "    <tr style=\"text-align: right;\">\n",
       "      <th></th>\n",
       "      <th>ela</th>\n",
       "      <th>financeAmount</th>\n",
       "      <th>applicationStatus</th>\n",
       "      <th>netSalary</th>\n",
       "      <th>loanTenure</th>\n",
       "      <th>loanApplied</th>\n",
       "      <th>loanReason</th>\n",
       "      <th>ratio_loan_finance</th>\n",
       "      <th>ratio_loan_eligibility</th>\n",
       "      <th>ratio_loan_salary</th>\n",
       "      <th>ratio_salary_ela</th>\n",
       "      <th>monthly_payable</th>\n",
       "      <th>diff_salary_payable</th>\n",
       "      <th>diff_loan_finance</th>\n",
       "      <th>interest_amount</th>\n",
       "      <th>percent_salary_payable</th>\n",
       "    </tr>\n",
       "  </thead>\n",
       "  <tbody>\n",
       "    <tr>\n",
       "      <th>758</th>\n",
       "      <td>23000.0</td>\n",
       "      <td>2000.0</td>\n",
       "      <td>1</td>\n",
       "      <td>2179.00</td>\n",
       "      <td>24</td>\n",
       "      <td>10000</td>\n",
       "      <td>OTHER USAGE</td>\n",
       "      <td>5.0</td>\n",
       "      <td>0.434783</td>\n",
       "      <td>4.589261</td>\n",
       "      <td>0.094739</td>\n",
       "      <td>98.333333</td>\n",
       "      <td>2080.666667</td>\n",
       "      <td>8000.0</td>\n",
       "      <td>360.0</td>\n",
       "      <td>0.045128</td>\n",
       "    </tr>\n",
       "    <tr>\n",
       "      <th>730</th>\n",
       "      <td>0.0</td>\n",
       "      <td>0.0</td>\n",
       "      <td>0</td>\n",
       "      <td>1652.29</td>\n",
       "      <td>24</td>\n",
       "      <td>10000</td>\n",
       "      <td>OTHER USAGE</td>\n",
       "      <td>inf</td>\n",
       "      <td>inf</td>\n",
       "      <td>6.052206</td>\n",
       "      <td>inf</td>\n",
       "      <td>0.000000</td>\n",
       "      <td>1652.290000</td>\n",
       "      <td>10000.0</td>\n",
       "      <td>0.0</td>\n",
       "      <td>0.000000</td>\n",
       "    </tr>\n",
       "    <tr>\n",
       "      <th>702</th>\n",
       "      <td>13000.0</td>\n",
       "      <td>3500.0</td>\n",
       "      <td>0</td>\n",
       "      <td>1574.85</td>\n",
       "      <td>24</td>\n",
       "      <td>3500</td>\n",
       "      <td>DEBTS CONSOLIDATION</td>\n",
       "      <td>1.0</td>\n",
       "      <td>0.269231</td>\n",
       "      <td>2.222434</td>\n",
       "      <td>0.121142</td>\n",
       "      <td>172.083333</td>\n",
       "      <td>1402.766667</td>\n",
       "      <td>0.0</td>\n",
       "      <td>630.0</td>\n",
       "      <td>0.109270</td>\n",
       "    </tr>\n",
       "    <tr>\n",
       "      <th>461</th>\n",
       "      <td>12000.0</td>\n",
       "      <td>5200.0</td>\n",
       "      <td>0</td>\n",
       "      <td>2515.00</td>\n",
       "      <td>24</td>\n",
       "      <td>5200</td>\n",
       "      <td>MEDICAL EXPENSES</td>\n",
       "      <td>1.0</td>\n",
       "      <td>0.433333</td>\n",
       "      <td>2.067594</td>\n",
       "      <td>0.209583</td>\n",
       "      <td>255.666667</td>\n",
       "      <td>2259.333333</td>\n",
       "      <td>0.0</td>\n",
       "      <td>936.0</td>\n",
       "      <td>0.101657</td>\n",
       "    </tr>\n",
       "    <tr>\n",
       "      <th>565</th>\n",
       "      <td>0.0</td>\n",
       "      <td>0.0</td>\n",
       "      <td>0</td>\n",
       "      <td>4160.00</td>\n",
       "      <td>24</td>\n",
       "      <td>5000</td>\n",
       "      <td>EXPAND BUSINESS</td>\n",
       "      <td>inf</td>\n",
       "      <td>inf</td>\n",
       "      <td>1.201923</td>\n",
       "      <td>inf</td>\n",
       "      <td>0.000000</td>\n",
       "      <td>4160.000000</td>\n",
       "      <td>5000.0</td>\n",
       "      <td>0.0</td>\n",
       "      <td>0.000000</td>\n",
       "    </tr>\n",
       "    <tr>\n",
       "      <th>849</th>\n",
       "      <td>49000.0</td>\n",
       "      <td>10000.0</td>\n",
       "      <td>1</td>\n",
       "      <td>7624.00</td>\n",
       "      <td>18</td>\n",
       "      <td>10000</td>\n",
       "      <td>RENOVATION</td>\n",
       "      <td>1.0</td>\n",
       "      <td>0.204082</td>\n",
       "      <td>1.311647</td>\n",
       "      <td>0.155592</td>\n",
       "      <td>655.555556</td>\n",
       "      <td>6968.444444</td>\n",
       "      <td>0.0</td>\n",
       "      <td>1800.0</td>\n",
       "      <td>0.085986</td>\n",
       "    </tr>\n",
       "    <tr>\n",
       "      <th>577</th>\n",
       "      <td>26000.0</td>\n",
       "      <td>2000.0</td>\n",
       "      <td>1</td>\n",
       "      <td>2500.00</td>\n",
       "      <td>24</td>\n",
       "      <td>2000</td>\n",
       "      <td>EXPAND BUSINESS</td>\n",
       "      <td>1.0</td>\n",
       "      <td>0.076923</td>\n",
       "      <td>0.800000</td>\n",
       "      <td>0.096154</td>\n",
       "      <td>98.333333</td>\n",
       "      <td>2401.666667</td>\n",
       "      <td>0.0</td>\n",
       "      <td>360.0</td>\n",
       "      <td>0.039333</td>\n",
       "    </tr>\n",
       "    <tr>\n",
       "      <th>377</th>\n",
       "      <td>45000.0</td>\n",
       "      <td>2000.0</td>\n",
       "      <td>0</td>\n",
       "      <td>4200.00</td>\n",
       "      <td>24</td>\n",
       "      <td>2000</td>\n",
       "      <td>DEBTS CONSOLIDATION</td>\n",
       "      <td>1.0</td>\n",
       "      <td>0.044444</td>\n",
       "      <td>0.476190</td>\n",
       "      <td>0.093333</td>\n",
       "      <td>98.333333</td>\n",
       "      <td>4101.666667</td>\n",
       "      <td>0.0</td>\n",
       "      <td>360.0</td>\n",
       "      <td>0.023413</td>\n",
       "    </tr>\n",
       "    <tr>\n",
       "      <th>552</th>\n",
       "      <td>4000.0</td>\n",
       "      <td>1000.0</td>\n",
       "      <td>0</td>\n",
       "      <td>2150.00</td>\n",
       "      <td>6</td>\n",
       "      <td>1000</td>\n",
       "      <td>DEBTS CONSOLIDATION</td>\n",
       "      <td>1.0</td>\n",
       "      <td>0.250000</td>\n",
       "      <td>0.465116</td>\n",
       "      <td>0.537500</td>\n",
       "      <td>196.666667</td>\n",
       "      <td>1953.333333</td>\n",
       "      <td>0.0</td>\n",
       "      <td>180.0</td>\n",
       "      <td>0.091473</td>\n",
       "    </tr>\n",
       "    <tr>\n",
       "      <th>777</th>\n",
       "      <td>0.0</td>\n",
       "      <td>0.0</td>\n",
       "      <td>0</td>\n",
       "      <td>3000.00</td>\n",
       "      <td>24</td>\n",
       "      <td>8000</td>\n",
       "      <td>MEDICAL EXPENSES</td>\n",
       "      <td>inf</td>\n",
       "      <td>inf</td>\n",
       "      <td>2.666667</td>\n",
       "      <td>inf</td>\n",
       "      <td>0.000000</td>\n",
       "      <td>3000.000000</td>\n",
       "      <td>8000.0</td>\n",
       "      <td>0.0</td>\n",
       "      <td>0.000000</td>\n",
       "    </tr>\n",
       "  </tbody>\n",
       "</table>\n",
       "</div>"
      ],
      "text/plain": [
       "         ela  financeAmount applicationStatus  netSalary  loanTenure  \\\n",
       "758  23000.0         2000.0                 1    2179.00          24   \n",
       "730      0.0            0.0                 0    1652.29          24   \n",
       "702  13000.0         3500.0                 0    1574.85          24   \n",
       "461  12000.0         5200.0                 0    2515.00          24   \n",
       "565      0.0            0.0                 0    4160.00          24   \n",
       "849  49000.0        10000.0                 1    7624.00          18   \n",
       "577  26000.0         2000.0                 1    2500.00          24   \n",
       "377  45000.0         2000.0                 0    4200.00          24   \n",
       "552   4000.0         1000.0                 0    2150.00           6   \n",
       "777      0.0            0.0                 0    3000.00          24   \n",
       "\n",
       "     loanApplied           loanReason  ratio_loan_finance  \\\n",
       "758        10000          OTHER USAGE                 5.0   \n",
       "730        10000          OTHER USAGE                 inf   \n",
       "702         3500  DEBTS CONSOLIDATION                 1.0   \n",
       "461         5200     MEDICAL EXPENSES                 1.0   \n",
       "565         5000      EXPAND BUSINESS                 inf   \n",
       "849        10000           RENOVATION                 1.0   \n",
       "577         2000      EXPAND BUSINESS                 1.0   \n",
       "377         2000  DEBTS CONSOLIDATION                 1.0   \n",
       "552         1000  DEBTS CONSOLIDATION                 1.0   \n",
       "777         8000     MEDICAL EXPENSES                 inf   \n",
       "\n",
       "     ratio_loan_eligibility  ratio_loan_salary  ratio_salary_ela  \\\n",
       "758                0.434783           4.589261          0.094739   \n",
       "730                     inf           6.052206               inf   \n",
       "702                0.269231           2.222434          0.121142   \n",
       "461                0.433333           2.067594          0.209583   \n",
       "565                     inf           1.201923               inf   \n",
       "849                0.204082           1.311647          0.155592   \n",
       "577                0.076923           0.800000          0.096154   \n",
       "377                0.044444           0.476190          0.093333   \n",
       "552                0.250000           0.465116          0.537500   \n",
       "777                     inf           2.666667               inf   \n",
       "\n",
       "     monthly_payable  diff_salary_payable  diff_loan_finance  interest_amount  \\\n",
       "758        98.333333          2080.666667             8000.0            360.0   \n",
       "730         0.000000          1652.290000            10000.0              0.0   \n",
       "702       172.083333          1402.766667                0.0            630.0   \n",
       "461       255.666667          2259.333333                0.0            936.0   \n",
       "565         0.000000          4160.000000             5000.0              0.0   \n",
       "849       655.555556          6968.444444                0.0           1800.0   \n",
       "577        98.333333          2401.666667                0.0            360.0   \n",
       "377        98.333333          4101.666667                0.0            360.0   \n",
       "552       196.666667          1953.333333                0.0            180.0   \n",
       "777         0.000000          3000.000000             8000.0              0.0   \n",
       "\n",
       "     percent_salary_payable  \n",
       "758                0.045128  \n",
       "730                0.000000  \n",
       "702                0.109270  \n",
       "461                0.101657  \n",
       "565                0.000000  \n",
       "849                0.085986  \n",
       "577                0.039333  \n",
       "377                0.023413  \n",
       "552                0.091473  \n",
       "777                0.000000  "
      ]
     },
     "execution_count": 30,
     "metadata": {},
     "output_type": "execute_result"
    }
   ],
   "source": [
    "# Feature engineering, creation of additional features that might be useful for the model\n",
    "clean_data['ratio_loan_finance'] = clean_data['loanApplied'] / clean_data['financeAmount']\n",
    "clean_data['ratio_loan_eligibility'] = clean_data['loanApplied'] / clean_data['ela']\n",
    "clean_data['ratio_loan_salary'] =  clean_data['loanApplied'] / clean_data['netSalary'] \n",
    "clean_data['ratio_salary_ela'] = clean_data['netSalary'] / clean_data['ela']\n",
    "clean_data['monthly_payable'] = clean_data['financeAmount'] * 1.18 / clean_data['loanTenure']\n",
    "clean_data['diff_salary_payable'] =  clean_data['netSalary'] - clean_data['monthly_payable']\n",
    "clean_data['diff_loan_finance'] = clean_data['loanApplied'] - clean_data['financeAmount']\n",
    "clean_data[\"interest_amount\"] = clean_data[\"financeAmount\"] * 0.18\n",
    "clean_data[\"percent_salary_payable\"] = clean_data[\"monthly_payable\"] / clean_data[\"netSalary\"]\n",
    "clean_data.sample(10)\n"
   ]
  },
  {
   "cell_type": "code",
   "execution_count": 31,
   "metadata": {},
   "outputs": [
    {
     "data": {
      "image/png": "[encoded data removed]",
      "text/plain": [
       "<Figure size 640x480 with 1 Axes>"
      ]
     },
     "metadata": {},
     "output_type": "display_data"
    }
   ],
   "source": [
    "# Handling of inf values by replacing inf with the maximum value for that feature\n",
    "col_with_inf = clean_data.columns[clean_data.isin([np.inf, -np.inf]).any()].tolist()\n",
    "\n",
    "for col in col_with_inf:\n",
    "    max_value = clean_data[col].replace([np.inf, -np.inf], np.nan).max() + 2\n",
    "    clean_data[col] = clean_data[col].replace([np.inf, -np.inf], max_value)\n",
    "\n",
    "clean_data['ratio_loan_finance'].hist()\n",
    "plt.title('Ratio of Loan to Finance')\n",
    "plt.show()"
   ]
  },
  {
   "cell_type": "code",
   "execution_count": 32,
   "metadata": {},
   "outputs": [
    {
     "data": {
      "image/png": "[encoded data removed]",
      "text/plain": [
       "<Figure size 1500x1000 with 16 Axes>"
      ]
     },
     "metadata": {},
     "output_type": "display_data"
    }
   ],
   "source": [
    "\n",
    "numerical_features2 = clean_data.select_dtypes(include=['int64', 'float64'])\n",
    "\n",
    "fig, axs = plt.subplots(nrows=4, ncols=4, figsize=(15, 10))\n",
    "plt.subplots_adjust(hspace=0.5) \n",
    "\n",
    "for i, feature in enumerate(numerical_features2.columns):\n",
    "    ax = axs.flatten()[i]\n",
    "    ax.hist(numerical_features2[feature], bins=20)\n",
    "    ax.set_title(feature)\n",
    "\n",
    "plt.show()"
   ]
  },
  {
   "cell_type": "code",
   "execution_count": 33,
   "metadata": {},
   "outputs": [
    {
     "data": {
      "text/plain": [
       "['ela',\n",
       " 'financeAmount',\n",
       " 'netSalary',\n",
       " 'loanTenure',\n",
       " 'loanApplied',\n",
       " 'loanReason',\n",
       " 'ratio_loan_finance',\n",
       " 'ratio_loan_eligibility',\n",
       " 'ratio_loan_salary',\n",
       " 'ratio_salary_ela',\n",
       " 'monthly_payable',\n",
       " 'diff_salary_payable',\n",
       " 'diff_loan_finance',\n",
       " 'interest_amount',\n",
       " 'percent_salary_payable']"
      ]
     },
     "execution_count": 33,
     "metadata": {},
     "output_type": "execute_result"
    }
   ],
   "source": [
    "# Perform stratified train test split due to target imbalance\n",
    "X = clean_data.drop(columns=['applicationStatus'])\n",
    "y = clean_data['applicationStatus']\n",
    "X_train, X_test, y_train, y_test = train_test_split(X, y, test_size=0.2, random_state=2024, stratify=y)\n",
    "\n",
    "X_train.columns.tolist()"
   ]
  },
  {
   "cell_type": "code",
   "execution_count": 34,
   "metadata": {},
   "outputs": [
    {
     "data": {
      "text/html": [
       "<style>#sk-container-id-1 {\n",
       "  /* Definition of color scheme common for light and dark mode */\n",
       "  --sklearn-color-text: black;\n",
       "  --sklearn-color-line: gray;\n",
       "  /* Definition of color scheme for unfitted estimators */\n",
       "  --sklearn-color-unfitted-level-0: #fff5e6;\n",
       "  --sklearn-color-unfitted-level-1: #f6e4d2;\n",
       "  --sklearn-color-unfitted-level-2: #ffe0b3;\n",
       "  --sklearn-color-unfitted-level-3: chocolate;\n",
       "  /* Definition of color scheme for fitted estimators */\n",
       "  --sklearn-color-fitted-level-0: #f0f8ff;\n",
       "  --sklearn-color-fitted-level-1: #d4ebff;\n",
       "  --sklearn-color-fitted-level-2: #b3dbfd;\n",
       "  --sklearn-color-fitted-level-3: cornflowerblue;\n",
       "\n",
       "  /* Specific color for light theme */\n",
       "  --sklearn-color-text-on-default-background: var(--sg-text-color, var(--theme-code-foreground, var(--jp-content-font-color1, black)));\n",
       "  --sklearn-color-background: var(--sg-background-color, var(--theme-background, var(--jp-layout-color0, white)));\n",
       "  --sklearn-color-border-box: var(--sg-text-color, var(--theme-code-foreground, var(--jp-content-font-color1, black)));\n",
       "  --sklearn-color-icon: #696969;\n",
       "\n",
       "  @media (prefers-color-scheme: dark) {\n",
       "    /* Redefinition of color scheme for dark theme */\n",
       "    --sklearn-color-text-on-default-background: var(--sg-text-color, var(--theme-code-foreground, var(--jp-content-font-color1, white)));\n",
       "    --sklearn-color-background: var(--sg-background-color, var(--theme-background, var(--jp-layout-color0, #111)));\n",
       "    --sklearn-color-border-box: var(--sg-text-color, var(--theme-code-foreground, var(--jp-content-font-color1, white)));\n",
       "    --sklearn-color-icon: #878787;\n",
       "  }\n",
       "}\n",
       "\n",
       "#sk-container-id-1 {\n",
       "  color: var(--sklearn-color-text);\n",
       "}\n",
       "\n",
       "#sk-container-id-1 pre {\n",
       "  padding: 0;\n",
       "}\n",
       "\n",
       "#sk-container-id-1 input.sk-hidden--visually {\n",
       "  border: 0;\n",
       "  clip: rect(1px 1px 1px 1px);\n",
       "  clip: rect(1px, 1px, 1px, 1px);\n",
       "  height: 1px;\n",
       "  margin: -1px;\n",
       "  overflow: hidden;\n",
       "  padding: 0;\n",
       "  position: absolute;\n",
       "  width: 1px;\n",
       "}\n",
       "\n",
       "#sk-container-id-1 div.sk-dashed-wrapped {\n",
       "  border: 1px dashed var(--sklearn-color-line);\n",
       "  margin: 0 0.4em 0.5em 0.4em;\n",
       "  box-sizing: border-box;\n",
       "  padding-bottom: 0.4em;\n",
       "  background-color: var(--sklearn-color-background);\n",
       "}\n",
       "\n",
       "#sk-container-id-1 div.sk-container {\n",
       "  /* jupyter's `normalize.less` sets `[hidden] { display: none; }`\n",
       "     but bootstrap.min.css set `[hidden] { display: none !important; }`\n",
       "     so we also need the `!important` here to be able to override the\n",
       "     default hidden behavior on the sphinx rendered scikit-learn.org.\n",
       "     See: https://github.com/scikit-learn/scikit-learn/issues/21755 */\n",
       "  display: inline-block !important;\n",
       "  position: relative;\n",
       "}\n",
       "\n",
       "#sk-container-id-1 div.sk-text-repr-fallback {\n",
       "  display: none;\n",
       "}\n",
       "\n",
       "div.sk-parallel-item,\n",
       "div.sk-serial,\n",
       "div.sk-item {\n",
       "  /* draw centered vertical line to link estimators */\n",
       "  background-image: linear-gradient(var(--sklearn-color-text-on-default-background), var(--sklearn-color-text-on-default-background));\n",
       "  background-size: 2px 100%;\n",
       "  background-repeat: no-repeat;\n",
       "  background-position: center center;\n",
       "}\n",
       "\n",
       "/* Parallel-specific style estimator block */\n",
       "\n",
       "#sk-container-id-1 div.sk-parallel-item::after {\n",
       "  content: \"\";\n",
       "  width: 100%;\n",
       "  border-bottom: 2px solid var(--sklearn-color-text-on-default-background);\n",
       "  flex-grow: 1;\n",
       "}\n",
       "\n",
       "#sk-container-id-1 div.sk-parallel {\n",
       "  display: flex;\n",
       "  align-items: stretch;\n",
       "  justify-content: center;\n",
       "  background-color: var(--sklearn-color-background);\n",
       "  position: relative;\n",
       "}\n",
       "\n",
       "#sk-container-id-1 div.sk-parallel-item {\n",
       "  display: flex;\n",
       "  flex-direction: column;\n",
       "}\n",
       "\n",
       "#sk-container-id-1 div.sk-parallel-item:first-child::after {\n",
       "  align-self: flex-end;\n",
       "  width: 50%;\n",
       "}\n",
       "\n",
       "#sk-container-id-1 div.sk-parallel-item:last-child::after {\n",
       "  align-self: flex-start;\n",
       "  width: 50%;\n",
       "}\n",
       "\n",
       "#sk-container-id-1 div.sk-parallel-item:only-child::after {\n",
       "  width: 0;\n",
       "}\n",
       "\n",
       "/* Serial-specific style estimator block */\n",
       "\n",
       "#sk-container-id-1 div.sk-serial {\n",
       "  display: flex;\n",
       "  flex-direction: column;\n",
       "  align-items: center;\n",
       "  background-color: var(--sklearn-color-background);\n",
       "  padding-right: 1em;\n",
       "  padding-left: 1em;\n",
       "}\n",
       "\n",
       "\n",
       "/* Toggleable style: style used for estimator/Pipeline/ColumnTransformer box that is\n",
       "clickable and can be expanded/collapsed.\n",
       "- Pipeline and ColumnTransformer use this feature and define the default style\n",
       "- Estimators will overwrite some part of the style using the `sk-estimator` class\n",
       "*/\n",
       "\n",
       "/* Pipeline and ColumnTransformer style (default) */\n",
       "\n",
       "#sk-container-id-1 div.sk-toggleable {\n",
       "  /* Default theme specific background. It is overwritten whether we have a\n",
       "  specific estimator or a Pipeline/ColumnTransformer */\n",
       "  background-color: var(--sklearn-color-background);\n",
       "}\n",
       "\n",
       "/* Toggleable label */\n",
       "#sk-container-id-1 label.sk-toggleable__label {\n",
       "  cursor: pointer;\n",
       "  display: block;\n",
       "  width: 100%;\n",
       "  margin-bottom: 0;\n",
       "  padding: 0.5em;\n",
       "  box-sizing: border-box;\n",
       "  text-align: center;\n",
       "}\n",
       "\n",
       "#sk-container-id-1 label.sk-toggleable__label-arrow:before {\n",
       "  /* Arrow on the left of the label */\n",
       "  content: \"▸\";\n",
       "  float: left;\n",
       "  margin-right: 0.25em;\n",
       "  color: var(--sklearn-color-icon);\n",
       "}\n",
       "\n",
       "#sk-container-id-1 label.sk-toggleable__label-arrow:hover:before {\n",
       "  color: var(--sklearn-color-text);\n",
       "}\n",
       "\n",
       "/* Toggleable content - dropdown */\n",
       "\n",
       "#sk-container-id-1 div.sk-toggleable__content {\n",
       "  max-height: 0;\n",
       "  max-width: 0;\n",
       "  overflow: hidden;\n",
       "  text-align: left;\n",
       "  /* unfitted */\n",
       "  background-color: var(--sklearn-color-unfitted-level-0);\n",
       "}\n",
       "\n",
       "#sk-container-id-1 div.sk-toggleable__content.fitted {\n",
       "  /* fitted */\n",
       "  background-color: var(--sklearn-color-fitted-level-0);\n",
       "}\n",
       "\n",
       "#sk-container-id-1 div.sk-toggleable__content pre {\n",
       "  margin: 0.2em;\n",
       "  border-radius: 0.25em;\n",
       "  color: var(--sklearn-color-text);\n",
       "  /* unfitted */\n",
       "  background-color: var(--sklearn-color-unfitted-level-0);\n",
       "}\n",
       "\n",
       "#sk-container-id-1 div.sk-toggleable__content.fitted pre {\n",
       "  /* unfitted */\n",
       "  background-color: var(--sklearn-color-fitted-level-0);\n",
       "}\n",
       "\n",
       "#sk-container-id-1 input.sk-toggleable__control:checked~div.sk-toggleable__content {\n",
       "  /* Expand drop-down */\n",
       "  max-height: 200px;\n",
       "  max-width: 100%;\n",
       "  overflow: auto;\n",
       "}\n",
       "\n",
       "#sk-container-id-1 input.sk-toggleable__control:checked~label.sk-toggleable__label-arrow:before {\n",
       "  content: \"▾\";\n",
       "}\n",
       "\n",
       "/* Pipeline/ColumnTransformer-specific style */\n",
       "\n",
       "#sk-container-id-1 div.sk-label input.sk-toggleable__control:checked~label.sk-toggleable__label {\n",
       "  color: var(--sklearn-color-text);\n",
       "  background-color: var(--sklearn-color-unfitted-level-2);\n",
       "}\n",
       "\n",
       "#sk-container-id-1 div.sk-label.fitted input.sk-toggleable__control:checked~label.sk-toggleable__label {\n",
       "  background-color: var(--sklearn-color-fitted-level-2);\n",
       "}\n",
       "\n",
       "/* Estimator-specific style */\n",
       "\n",
       "/* Colorize estimator box */\n",
       "#sk-container-id-1 div.sk-estimator input.sk-toggleable__control:checked~label.sk-toggleable__label {\n",
       "  /* unfitted */\n",
       "  background-color: var(--sklearn-color-unfitted-level-2);\n",
       "}\n",
       "\n",
       "#sk-container-id-1 div.sk-estimator.fitted input.sk-toggleable__control:checked~label.sk-toggleable__label {\n",
       "  /* fitted */\n",
       "  background-color: var(--sklearn-color-fitted-level-2);\n",
       "}\n",
       "\n",
       "#sk-container-id-1 div.sk-label label.sk-toggleable__label,\n",
       "#sk-container-id-1 div.sk-label label {\n",
       "  /* The background is the default theme color */\n",
       "  color: var(--sklearn-color-text-on-default-background);\n",
       "}\n",
       "\n",
       "/* On hover, darken the color of the background */\n",
       "#sk-container-id-1 div.sk-label:hover label.sk-toggleable__label {\n",
       "  color: var(--sklearn-color-text);\n",
       "  background-color: var(--sklearn-color-unfitted-level-2);\n",
       "}\n",
       "\n",
       "/* Label box, darken color on hover, fitted */\n",
       "#sk-container-id-1 div.sk-label.fitted:hover label.sk-toggleable__label.fitted {\n",
       "  color: var(--sklearn-color-text);\n",
       "  background-color: var(--sklearn-color-fitted-level-2);\n",
       "}\n",
       "\n",
       "/* Estimator label */\n",
       "\n",
       "#sk-container-id-1 div.sk-label label {\n",
       "  font-family: monospace;\n",
       "  font-weight: bold;\n",
       "  display: inline-block;\n",
       "  line-height: 1.2em;\n",
       "}\n",
       "\n",
       "#sk-container-id-1 div.sk-label-container {\n",
       "  text-align: center;\n",
       "}\n",
       "\n",
       "/* Estimator-specific */\n",
       "#sk-container-id-1 div.sk-estimator {\n",
       "  font-family: monospace;\n",
       "  border: 1px dotted var(--sklearn-color-border-box);\n",
       "  border-radius: 0.25em;\n",
       "  box-sizing: border-box;\n",
       "  margin-bottom: 0.5em;\n",
       "  /* unfitted */\n",
       "  background-color: var(--sklearn-color-unfitted-level-0);\n",
       "}\n",
       "\n",
       "#sk-container-id-1 div.sk-estimator.fitted {\n",
       "  /* fitted */\n",
       "  background-color: var(--sklearn-color-fitted-level-0);\n",
       "}\n",
       "\n",
       "/* on hover */\n",
       "#sk-container-id-1 div.sk-estimator:hover {\n",
       "  /* unfitted */\n",
       "  background-color: var(--sklearn-color-unfitted-level-2);\n",
       "}\n",
       "\n",
       "#sk-container-id-1 div.sk-estimator.fitted:hover {\n",
       "  /* fitted */\n",
       "  background-color: var(--sklearn-color-fitted-level-2);\n",
       "}\n",
       "\n",
       "/* Specification for estimator info (e.g. \"i\" and \"?\") */\n",
       "\n",
       "/* Common style for \"i\" and \"?\" */\n",
       "\n",
       ".sk-estimator-doc-link,\n",
       "a:link.sk-estimator-doc-link,\n",
       "a:visited.sk-estimator-doc-link {\n",
       "  float: right;\n",
       "  font-size: smaller;\n",
       "  line-height: 1em;\n",
       "  font-family: monospace;\n",
       "  background-color: var(--sklearn-color-background);\n",
       "  border-radius: 1em;\n",
       "  height: 1em;\n",
       "  width: 1em;\n",
       "  text-decoration: none !important;\n",
       "  margin-left: 1ex;\n",
       "  /* unfitted */\n",
       "  border: var(--sklearn-color-unfitted-level-1) 1pt solid;\n",
       "  color: var(--sklearn-color-unfitted-level-1);\n",
       "}\n",
       "\n",
       ".sk-estimator-doc-link.fitted,\n",
       "a:link.sk-estimator-doc-link.fitted,\n",
       "a:visited.sk-estimator-doc-link.fitted {\n",
       "  /* fitted */\n",
       "  border: var(--sklearn-color-fitted-level-1) 1pt solid;\n",
       "  color: var(--sklearn-color-fitted-level-1);\n",
       "}\n",
       "\n",
       "/* On hover */\n",
       "div.sk-estimator:hover .sk-estimator-doc-link:hover,\n",
       ".sk-estimator-doc-link:hover,\n",
       "div.sk-label-container:hover .sk-estimator-doc-link:hover,\n",
       ".sk-estimator-doc-link:hover {\n",
       "  /* unfitted */\n",
       "  background-color: var(--sklearn-color-unfitted-level-3);\n",
       "  color: var(--sklearn-color-background);\n",
       "  text-decoration: none;\n",
       "}\n",
       "\n",
       "div.sk-estimator.fitted:hover .sk-estimator-doc-link.fitted:hover,\n",
       ".sk-estimator-doc-link.fitted:hover,\n",
       "div.sk-label-container:hover .sk-estimator-doc-link.fitted:hover,\n",
       ".sk-estimator-doc-link.fitted:hover {\n",
       "  /* fitted */\n",
       "  background-color: var(--sklearn-color-fitted-level-3);\n",
       "  color: var(--sklearn-color-background);\n",
       "  text-decoration: none;\n",
       "}\n",
       "\n",
       "/* Span, style for the box shown on hovering the info icon */\n",
       ".sk-estimator-doc-link span {\n",
       "  display: none;\n",
       "  z-index: 9999;\n",
       "  position: relative;\n",
       "  font-weight: normal;\n",
       "  right: .2ex;\n",
       "  padding: .5ex;\n",
       "  margin: .5ex;\n",
       "  width: min-content;\n",
       "  min-width: 20ex;\n",
       "  max-width: 50ex;\n",
       "  color: var(--sklearn-color-text);\n",
       "  box-shadow: 2pt 2pt 4pt #999;\n",
       "  /* unfitted */\n",
       "  background: var(--sklearn-color-unfitted-level-0);\n",
       "  border: .5pt solid var(--sklearn-color-unfitted-level-3);\n",
       "}\n",
       "\n",
       ".sk-estimator-doc-link.fitted span {\n",
       "  /* fitted */\n",
       "  background: var(--sklearn-color-fitted-level-0);\n",
       "  border: var(--sklearn-color-fitted-level-3);\n",
       "}\n",
       "\n",
       ".sk-estimator-doc-link:hover span {\n",
       "  display: block;\n",
       "}\n",
       "\n",
       "/* \"?\"-specific style due to the `<a>` HTML tag */\n",
       "\n",
       "#sk-container-id-1 a.estimator_doc_link {\n",
       "  float: right;\n",
       "  font-size: 1rem;\n",
       "  line-height: 1em;\n",
       "  font-family: monospace;\n",
       "  background-color: var(--sklearn-color-background);\n",
       "  border-radius: 1rem;\n",
       "  height: 1rem;\n",
       "  width: 1rem;\n",
       "  text-decoration: none;\n",
       "  /* unfitted */\n",
       "  color: var(--sklearn-color-unfitted-level-1);\n",
       "  border: var(--sklearn-color-unfitted-level-1) 1pt solid;\n",
       "}\n",
       "\n",
       "#sk-container-id-1 a.estimator_doc_link.fitted {\n",
       "  /* fitted */\n",
       "  border: var(--sklearn-color-fitted-level-1) 1pt solid;\n",
       "  color: var(--sklearn-color-fitted-level-1);\n",
       "}\n",
       "\n",
       "/* On hover */\n",
       "#sk-container-id-1 a.estimator_doc_link:hover {\n",
       "  /* unfitted */\n",
       "  background-color: var(--sklearn-color-unfitted-level-3);\n",
       "  color: var(--sklearn-color-background);\n",
       "  text-decoration: none;\n",
       "}\n",
       "\n",
       "#sk-container-id-1 a.estimator_doc_link.fitted:hover {\n",
       "  /* fitted */\n",
       "  background-color: var(--sklearn-color-fitted-level-3);\n",
       "}\n",
       "</style><div id=\"sk-container-id-1\" class=\"sk-top-container\"><div class=\"sk-text-repr-fallback\"><pre>Pipeline(steps=[(&#x27;transformer&#x27;,\n",
       "                 ColumnTransformer(transformers=[(&#x27;numerical&#x27;, StandardScaler(),\n",
       "                                                  [&#x27;ela&#x27;, &#x27;financeAmount&#x27;,\n",
       "                                                   &#x27;netSalary&#x27;, &#x27;loanApplied&#x27;,\n",
       "                                                   &#x27;ratio_loan_finance&#x27;,\n",
       "                                                   &#x27;ratio_loan_eligibility&#x27;,\n",
       "                                                   &#x27;ratio_loan_salary&#x27;,\n",
       "                                                   &#x27;ratio_salary_ela&#x27;,\n",
       "                                                   &#x27;monthly_payable&#x27;,\n",
       "                                                   &#x27;diff_salary_payable&#x27;,\n",
       "                                                   &#x27;diff_loan_finance&#x27;,\n",
       "                                                   &#x27;interest_amount&#x27;,\n",
       "                                                   &#x27;percent_salary_payable&#x27;,\n",
       "                                                   &#x27;loanTenure&#x27;]),\n",
       "                                                 (&#x27;categorical&#x27;,\n",
       "                                                  OneHotEncoder(drop=&#x27;first&#x27;,\n",
       "                                                                handle_unknown=&#x27;ignore&#x27;),\n",
       "                                                  [&#x27;loanReason&#x27;])])),\n",
       "                (&#x27;model&#x27;, RandomForestClassifier(random_state=2024))])</pre><b>In a Jupyter environment, please rerun this cell to show the HTML representation or trust the notebook. <br />On GitHub, the HTML representation is unable to render, please try loading this page with nbviewer.org.</b></div><div class=\"sk-container\" hidden><div class=\"sk-item sk-dashed-wrapped\"><div class=\"sk-label-container\"><div class=\"sk-label  sk-toggleable\"><input class=\"sk-toggleable__control sk-hidden--visually\" id=\"sk-estimator-id-1\" type=\"checkbox\" ><label for=\"sk-estimator-id-1\" class=\"sk-toggleable__label  sk-toggleable__label-arrow \">&nbsp;&nbsp;Pipeline<a class=\"sk-estimator-doc-link \" rel=\"noreferrer\" target=\"_blank\" href=\"https://scikit-learn.org/1.4/modules/generated/sklearn.pipeline.Pipeline.html\">?<span>Documentation for Pipeline</span></a><span class=\"sk-estimator-doc-link \">i<span>Not fitted</span></span></label><div class=\"sk-toggleable__content \"><pre>Pipeline(steps=[(&#x27;transformer&#x27;,\n",
       "                 ColumnTransformer(transformers=[(&#x27;numerical&#x27;, StandardScaler(),\n",
       "                                                  [&#x27;ela&#x27;, &#x27;financeAmount&#x27;,\n",
       "                                                   &#x27;netSalary&#x27;, &#x27;loanApplied&#x27;,\n",
       "                                                   &#x27;ratio_loan_finance&#x27;,\n",
       "                                                   &#x27;ratio_loan_eligibility&#x27;,\n",
       "                                                   &#x27;ratio_loan_salary&#x27;,\n",
       "                                                   &#x27;ratio_salary_ela&#x27;,\n",
       "                                                   &#x27;monthly_payable&#x27;,\n",
       "                                                   &#x27;diff_salary_payable&#x27;,\n",
       "                                                   &#x27;diff_loan_finance&#x27;,\n",
       "                                                   &#x27;interest_amount&#x27;,\n",
       "                                                   &#x27;percent_salary_payable&#x27;,\n",
       "                                                   &#x27;loanTenure&#x27;]),\n",
       "                                                 (&#x27;categorical&#x27;,\n",
       "                                                  OneHotEncoder(drop=&#x27;first&#x27;,\n",
       "                                                                handle_unknown=&#x27;ignore&#x27;),\n",
       "                                                  [&#x27;loanReason&#x27;])])),\n",
       "                (&#x27;model&#x27;, RandomForestClassifier(random_state=2024))])</pre></div> </div></div><div class=\"sk-serial\"><div class=\"sk-item sk-dashed-wrapped\"><div class=\"sk-label-container\"><div class=\"sk-label  sk-toggleable\"><input class=\"sk-toggleable__control sk-hidden--visually\" id=\"sk-estimator-id-2\" type=\"checkbox\" ><label for=\"sk-estimator-id-2\" class=\"sk-toggleable__label  sk-toggleable__label-arrow \">&nbsp;transformer: ColumnTransformer<a class=\"sk-estimator-doc-link \" rel=\"noreferrer\" target=\"_blank\" href=\"https://scikit-learn.org/1.4/modules/generated/sklearn.compose.ColumnTransformer.html\">?<span>Documentation for transformer: ColumnTransformer</span></a></label><div class=\"sk-toggleable__content \"><pre>ColumnTransformer(transformers=[(&#x27;numerical&#x27;, StandardScaler(),\n",
       "                                 [&#x27;ela&#x27;, &#x27;financeAmount&#x27;, &#x27;netSalary&#x27;,\n",
       "                                  &#x27;loanApplied&#x27;, &#x27;ratio_loan_finance&#x27;,\n",
       "                                  &#x27;ratio_loan_eligibility&#x27;, &#x27;ratio_loan_salary&#x27;,\n",
       "                                  &#x27;ratio_salary_ela&#x27;, &#x27;monthly_payable&#x27;,\n",
       "                                  &#x27;diff_salary_payable&#x27;, &#x27;diff_loan_finance&#x27;,\n",
       "                                  &#x27;interest_amount&#x27;, &#x27;percent_salary_payable&#x27;,\n",
       "                                  &#x27;loanTenure&#x27;]),\n",
       "                                (&#x27;categorical&#x27;,\n",
       "                                 OneHotEncoder(drop=&#x27;first&#x27;,\n",
       "                                               handle_unknown=&#x27;ignore&#x27;),\n",
       "                                 [&#x27;loanReason&#x27;])])</pre></div> </div></div><div class=\"sk-parallel\"><div class=\"sk-parallel-item\"><div class=\"sk-item\"><div class=\"sk-label-container\"><div class=\"sk-label  sk-toggleable\"><input class=\"sk-toggleable__control sk-hidden--visually\" id=\"sk-estimator-id-3\" type=\"checkbox\" ><label for=\"sk-estimator-id-3\" class=\"sk-toggleable__label  sk-toggleable__label-arrow \">numerical</label><div class=\"sk-toggleable__content \"><pre>[&#x27;ela&#x27;, &#x27;financeAmount&#x27;, &#x27;netSalary&#x27;, &#x27;loanApplied&#x27;, &#x27;ratio_loan_finance&#x27;, &#x27;ratio_loan_eligibility&#x27;, &#x27;ratio_loan_salary&#x27;, &#x27;ratio_salary_ela&#x27;, &#x27;monthly_payable&#x27;, &#x27;diff_salary_payable&#x27;, &#x27;diff_loan_finance&#x27;, &#x27;interest_amount&#x27;, &#x27;percent_salary_payable&#x27;, &#x27;loanTenure&#x27;]</pre></div> </div></div><div class=\"sk-serial\"><div class=\"sk-item\"><div class=\"sk-estimator  sk-toggleable\"><input class=\"sk-toggleable__control sk-hidden--visually\" id=\"sk-estimator-id-4\" type=\"checkbox\" ><label for=\"sk-estimator-id-4\" class=\"sk-toggleable__label  sk-toggleable__label-arrow \">&nbsp;StandardScaler<a class=\"sk-estimator-doc-link \" rel=\"noreferrer\" target=\"_blank\" href=\"https://scikit-learn.org/1.4/modules/generated/sklearn.preprocessing.StandardScaler.html\">?<span>Documentation for StandardScaler</span></a></label><div class=\"sk-toggleable__content \"><pre>StandardScaler()</pre></div> </div></div></div></div></div><div class=\"sk-parallel-item\"><div class=\"sk-item\"><div class=\"sk-label-container\"><div class=\"sk-label  sk-toggleable\"><input class=\"sk-toggleable__control sk-hidden--visually\" id=\"sk-estimator-id-5\" type=\"checkbox\" ><label for=\"sk-estimator-id-5\" class=\"sk-toggleable__label  sk-toggleable__label-arrow \">categorical</label><div class=\"sk-toggleable__content \"><pre>[&#x27;loanReason&#x27;]</pre></div> </div></div><div class=\"sk-serial\"><div class=\"sk-item\"><div class=\"sk-estimator  sk-toggleable\"><input class=\"sk-toggleable__control sk-hidden--visually\" id=\"sk-estimator-id-6\" type=\"checkbox\" ><label for=\"sk-estimator-id-6\" class=\"sk-toggleable__label  sk-toggleable__label-arrow \">&nbsp;OneHotEncoder<a class=\"sk-estimator-doc-link \" rel=\"noreferrer\" target=\"_blank\" href=\"https://scikit-learn.org/1.4/modules/generated/sklearn.preprocessing.OneHotEncoder.html\">?<span>Documentation for OneHotEncoder</span></a></label><div class=\"sk-toggleable__content \"><pre>OneHotEncoder(drop=&#x27;first&#x27;, handle_unknown=&#x27;ignore&#x27;)</pre></div> </div></div></div></div></div></div></div><div class=\"sk-item\"><div class=\"sk-estimator  sk-toggleable\"><input class=\"sk-toggleable__control sk-hidden--visually\" id=\"sk-estimator-id-7\" type=\"checkbox\" ><label for=\"sk-estimator-id-7\" class=\"sk-toggleable__label  sk-toggleable__label-arrow \">&nbsp;RandomForestClassifier<a class=\"sk-estimator-doc-link \" rel=\"noreferrer\" target=\"_blank\" href=\"https://scikit-learn.org/1.4/modules/generated/sklearn.ensemble.RandomForestClassifier.html\">?<span>Documentation for RandomForestClassifier</span></a></label><div class=\"sk-toggleable__content \"><pre>RandomForestClassifier(random_state=2024)</pre></div> </div></div></div></div></div></div>"
      ],
      "text/plain": [
       "Pipeline(steps=[('transformer',\n",
       "                 ColumnTransformer(transformers=[('numerical', StandardScaler(),\n",
       "                                                  ['ela', 'financeAmount',\n",
       "                                                   'netSalary', 'loanApplied',\n",
       "                                                   'ratio_loan_finance',\n",
       "                                                   'ratio_loan_eligibility',\n",
       "                                                   'ratio_loan_salary',\n",
       "                                                   'ratio_salary_ela',\n",
       "                                                   'monthly_payable',\n",
       "                                                   'diff_salary_payable',\n",
       "                                                   'diff_loan_finance',\n",
       "                                                   'interest_amount',\n",
       "                                                   'percent_salary_payable',\n",
       "                                                   'loanTenure']),\n",
       "                                                 ('categorical',\n",
       "                                                  OneHotEncoder(drop='first',\n",
       "                                                                handle_unknown='ignore'),\n",
       "                                                  ['loanReason'])])),\n",
       "                ('model', RandomForestClassifier(random_state=2024))])"
      ]
     },
     "execution_count": 34,
     "metadata": {},
     "output_type": "execute_result"
    }
   ],
   "source": [
    "\n",
    "def pipe_builder (model:tuple) -> Pipeline:\n",
    "    scaled_cols = ['ela',\n",
    "                'financeAmount',\n",
    "                'netSalary',\n",
    "                'loanApplied',\n",
    "                'ratio_loan_finance',\n",
    "                'ratio_loan_eligibility',\n",
    "                'ratio_loan_salary',\n",
    "                'ratio_salary_ela',\n",
    "                'monthly_payable',\n",
    "                'diff_salary_payable',\n",
    "                'diff_loan_finance',\n",
    "                'interest_amount',\n",
    "                'percent_salary_payable',\n",
    "                'loanTenure']\n",
    "\n",
    "    column_trans = ColumnTransformer([\n",
    "        ('numerical', StandardScaler(), scaled_cols),\n",
    "        ('categorical', OneHotEncoder(drop='first', handle_unknown='ignore'), ['loanReason'])\n",
    "    ])\n",
    "    pipe = Pipeline([('transformer', column_trans), model])\n",
    "    \n",
    "    return pipe\n",
    "\n",
    "log_pipe = pipe_builder(('model', LogisticRegression(random_state=2024)))\n",
    "rf_pipe = pipe_builder(('model', RandomForestClassifier(random_state=2024)))\n",
    "svc_pipe = pipe_builder(('model', SVC(random_state=2024)))\n",
    "knn = pipe_builder(('model', KNeighborsClassifier()))\n",
    "gbc = pipe_builder(('model', GradientBoostingClassifier(random_state=2024)))\n",
    "xgb = pipe_builder(('model', XGBClassifier(random_state=2024)))\n",
    "rf_pipe"
   ]
  },
  {
   "cell_type": "code",
   "execution_count": 35,
   "metadata": {},
   "outputs": [],
   "source": [
    "# Test of other pipelines - EXPERIMENTAL\n",
    "\n",
    "# def pipe_builder (model:tuple) -> Pipeline:\n",
    "\n",
    "#     all_cols = ['ela',\n",
    "#                 'financeAmount',\n",
    "#                 'netSalary',\n",
    "#                 'loanTenure',\n",
    "#                 'loanApplied',\n",
    "#                 'loanReason',\n",
    "#                 'ratio_loan_finance',\n",
    "#                 'ratio_loan_eligibility',\n",
    "#                 'ratio_loan_salary',\n",
    "#                 'ratio_salary_ela',\n",
    "#                 'monthly_payable',\n",
    "#                 'diff_salary_payable',\n",
    "#                 'diff_loan_finance',\n",
    "#                 'interest_amount',\n",
    "#                 'percent_salary_payable']\n",
    "    \n",
    "#     power_cols = ['ela', 'ratio_loan_eligibility', 'ratio_loan_salary', 'diff_salary_payable', 'ratio_loan_salary',  ]\n",
    "#     bined_cols = []\n",
    "#     passthrough = ['interest_amount','monthly_payable', 'loanApplied', 'financeAmount','ratio_loan_finance', 'diff_loan_finance', 'netSalary','loanTenure']\n",
    "#     # ordinal_col = ['loanTenure']\n",
    "\n",
    "#     column_trans = ColumnTransformer([\n",
    "#         ('power', PowerTransformer(method='yeo-johnson', standardize=False), power_cols),\n",
    "#         # ('binned', KBinsDiscretizer(n_bins=3, encode='onehot', strategy='quantile', random_state=2024, subsample=None), bined_cols),\n",
    "#         # ('ordinal', OrdinalEncoder(), ordinal_col),\n",
    "#         ('categorical', OneHotEncoder( handle_unknown='ignore'), ['loanReason'])\n",
    "#     ], remainder='passthrough')\n",
    "#     pipe = Pipeline([('transformer', column_trans), ('scaler', StandardScaler()), model])\n",
    "    \n",
    "#     return pipe"
   ]
  },
  {
   "cell_type": "code",
   "execution_count": 36,
   "metadata": {},
   "outputs": [],
   "source": [
    "# Candidate Model Fit / Predict\n",
    "rf_fit= rf_pipe.fit(X_train, y_train)\n",
    "log_fit = log_pipe.fit(X_train, y_train)\n",
    "svc_fit = svc_pipe.fit(X_train, y_train)\n",
    "knn_fit= knn.fit(X_train, y_train)\n",
    "gbc_fit = gbc.fit(X_train, y_train)\n",
    "xgb_fit = xgb.fit(X_train, y_train.astype('int32'))\n",
    "\n",
    "rf_pred = rf_pipe.predict(X_test)\n",
    "log_pred = log_pipe.predict(X_test)\n",
    "svc_pred = svc_pipe.predict(X_test)\n",
    "knn_pred = knn.predict(X_test)\n",
    "gbc_pred = gbc.predict(X_test)\n",
    "xgb_pred = xgb.predict(X_test).astype('str')"
   ]
  },
  {
   "cell_type": "code",
   "execution_count": 37,
   "metadata": {},
   "outputs": [
    {
     "data": {
      "text/html": [
       "<div>\n",
       "<style scoped>\n",
       "    .dataframe tbody tr th:only-of-type {\n",
       "        vertical-align: middle;\n",
       "    }\n",
       "\n",
       "    .dataframe tbody tr th {\n",
       "        vertical-align: top;\n",
       "    }\n",
       "\n",
       "    .dataframe thead th {\n",
       "        text-align: right;\n",
       "    }\n",
       "</style>\n",
       "<table border=\"1\" class=\"dataframe\">\n",
       "  <thead>\n",
       "    <tr style=\"text-align: right;\">\n",
       "      <th></th>\n",
       "      <th>Model</th>\n",
       "      <th>Accuracy</th>\n",
       "      <th>Precision</th>\n",
       "      <th>Recall</th>\n",
       "      <th>F1</th>\n",
       "      <th>ROC AUC</th>\n",
       "    </tr>\n",
       "  </thead>\n",
       "  <tbody>\n",
       "    <tr>\n",
       "      <th>0</th>\n",
       "      <td>Random Forest Classifier</td>\n",
       "      <td>0.865</td>\n",
       "      <td>0.800000</td>\n",
       "      <td>0.476190</td>\n",
       "      <td>0.597015</td>\n",
       "      <td>0.722272</td>\n",
       "    </tr>\n",
       "    <tr>\n",
       "      <th>1</th>\n",
       "      <td>Logistic Regression</td>\n",
       "      <td>0.845</td>\n",
       "      <td>0.761905</td>\n",
       "      <td>0.380952</td>\n",
       "      <td>0.507937</td>\n",
       "      <td>0.674653</td>\n",
       "    </tr>\n",
       "    <tr>\n",
       "      <th>2</th>\n",
       "      <td>Support Vector Classifier</td>\n",
       "      <td>0.865</td>\n",
       "      <td>0.941176</td>\n",
       "      <td>0.380952</td>\n",
       "      <td>0.542373</td>\n",
       "      <td>0.687312</td>\n",
       "    </tr>\n",
       "    <tr>\n",
       "      <th>3</th>\n",
       "      <td>KNN Classifier</td>\n",
       "      <td>0.840</td>\n",
       "      <td>0.647059</td>\n",
       "      <td>0.523810</td>\n",
       "      <td>0.578947</td>\n",
       "      <td>0.723930</td>\n",
       "    </tr>\n",
       "    <tr>\n",
       "      <th>4</th>\n",
       "      <td>Gradient Boosting Classifier</td>\n",
       "      <td>0.865</td>\n",
       "      <td>0.741935</td>\n",
       "      <td>0.547619</td>\n",
       "      <td>0.630137</td>\n",
       "      <td>0.748493</td>\n",
       "    </tr>\n",
       "    <tr>\n",
       "      <th>5</th>\n",
       "      <td>XGB Classifier</td>\n",
       "      <td>0.865</td>\n",
       "      <td>0.777778</td>\n",
       "      <td>0.500000</td>\n",
       "      <td>0.608696</td>\n",
       "      <td>0.731013</td>\n",
       "    </tr>\n",
       "  </tbody>\n",
       "</table>\n",
       "</div>"
      ],
      "text/plain": [
       "                          Model  Accuracy  Precision    Recall        F1  \\\n",
       "0      Random Forest Classifier     0.865   0.800000  0.476190  0.597015   \n",
       "1           Logistic Regression     0.845   0.761905  0.380952  0.507937   \n",
       "2     Support Vector Classifier     0.865   0.941176  0.380952  0.542373   \n",
       "3                KNN Classifier     0.840   0.647059  0.523810  0.578947   \n",
       "4  Gradient Boosting Classifier     0.865   0.741935  0.547619  0.630137   \n",
       "5                XGB Classifier     0.865   0.777778  0.500000  0.608696   \n",
       "\n",
       "    ROC AUC  \n",
       "0  0.722272  \n",
       "1  0.674653  \n",
       "2  0.687312  \n",
       "3  0.723930  \n",
       "4  0.748493  \n",
       "5  0.731013  "
      ]
     },
     "execution_count": 37,
     "metadata": {},
     "output_type": "execute_result"
    }
   ],
   "source": [
    "# Candidate Model Evaluation\n",
    "def model_metrics(model, y_test, y_pred):\n",
    "\n",
    "    positive_label = '1'\n",
    "    \n",
    "    accuracy = accuracy_score(y_test, y_pred)\n",
    "    precision = precision_score(y_test, y_pred, pos_label=positive_label)\n",
    "    recall = recall_score(y_test, y_pred, pos_label=positive_label)\n",
    "    f1 = f1_score(y_test, y_pred, pos_label=positive_label)\n",
    "    roc_area = roc_auc_score(np.array(y_test, dtype='float64'), np.array(y_pred, dtype='float64'))\n",
    "\n",
    "    result_df = pd.DataFrame({'Model': [model], 'Accuracy': [accuracy], 'Precision': [precision], 'Recall': [recall], 'F1': [f1], 'ROC AUC': [roc_area]})\n",
    "    return result_df\n",
    "\n",
    "actual = y_test.values\n",
    "\n",
    "rf_metrics = model_metrics('Random Forest Classifier', actual, rf_pred)\n",
    "log_metrics = model_metrics('Logistic Regression', actual, log_pred)\n",
    "svc_metrics = model_metrics('Support Vector Classifier', actual, svc_pred)\n",
    "knn_metrics = model_metrics('KNN Classifier', actual, knn_pred)\n",
    "gbc_metrics = model_metrics('Gradient Boosting Classifier', actual, gbc_pred)\n",
    "xgb_metrics = model_metrics('XGB Classifier', actual, xgb_pred)\n",
    "\n",
    "results = pd.concat([rf_metrics, log_metrics, svc_metrics, knn_metrics, gbc_metrics, xgb_metrics]).reset_index(drop=True)\n",
    "results\n"
   ]
  },
  {
   "cell_type": "code",
   "execution_count": 38,
   "metadata": {},
   "outputs": [
    {
     "name": "stdout",
     "output_type": "stream",
     "text": [
      "Fitting 7 folds for each of 54 candidates, totalling 378 fits\n"
     ]
    },
    {
     "name": "stderr",
     "output_type": "stream",
     "text": [
      "c:\\Users\\aahmadsazali\\anaconda3\\envs\\nowcast\\Lib\\site-packages\\sklearn\\model_selection\\_search.py:1051: UserWarning:\n",
      "\n",
      "One or more of the test scores are non-finite: [nan nan nan nan nan nan nan nan nan nan nan nan nan nan nan nan nan nan\n",
      " nan nan nan nan nan nan nan nan nan nan nan nan nan nan nan nan nan nan\n",
      " nan nan nan nan nan nan nan nan nan nan nan nan nan nan nan nan nan nan]\n",
      "\n"
     ]
    },
    {
     "name": "stdout",
     "output_type": "stream",
     "text": [
      "{'model__learning_rate': 0.025, 'model__loss': 'log_loss', 'model__max_depth': 3, 'model__max_leaf_nodes': None, 'model__min_samples_leaf': 1, 'model__min_samples_split': 2, 'model__n_estimators': 80, 'model__random_state': 2024}\n"
     ]
    }
   ],
   "source": [
    "# Best Candidate Model Tuning\n",
    "\"\"\"\n",
    "Based on the intial testing above, it seems that Gradient Boosting Classifier is the most promising model, it has the highest ROC AUC score and F1 score. Apart from that, it has acceptable inital precision score losing only to support vector classifier and has the \n",
    "highest recall.While support vector classifier has the highest precision, meaning most of its predicted 'APPROVED' values are correct, it has the lowest recall along with logistic regression. At a recall of 0.380952,this implies out of 100 approved applications, \n",
    "only 38 samples will be predicted as approved.\n",
    "\n",
    "The gridsearch performed below will refit the model with the highest ROC AUC score. ROC AUC score is selected as it represents the area under the ROC curve which quantifies the overall perfromance of the model. A score of 0.5 is no better than random chance for \n",
    "a binary classifier. By refitting the search over the roc_auc score, the precision and recall scores will be improved, instead of focusing on either of them.\n",
    "\"\"\"\n",
    "\n",
    "gbc_params = {\n",
    "    'model__loss': ['log_loss'],\n",
    "    'model__learning_rate': [0.025, 0.05, 0.1],\n",
    "    'model__n_estimators': [80, 100, 150, 175, 200, 250],\n",
    "    'model__min_samples_split': [2],\n",
    "    'model__min_samples_leaf': [1],\n",
    "    'model__max_depth': [3, 4, 5],\n",
    "    'model__random_state': [2024],\n",
    "    'model__max_leaf_nodes' : [None]\n",
    "}\n",
    "\n",
    "gbc_pipe = pipe_builder(('model', GradientBoostingClassifier()))\n",
    "cv = StratifiedKFold(n_splits=7, shuffle=True, random_state=2024)\n",
    "scoring = ['accuracy', 'precision', 'recall', 'f1', 'roc_auc']\n",
    "search = GridSearchCV(gbc_pipe, gbc_params, scoring=scoring, cv=cv, n_jobs=4, refit='f1',verbose = 3)\n",
    "gbc_result = search.fit(X_train, y_train)\n",
    "print(gbc_result.best_params_)"
   ]
  },
  {
   "cell_type": "code",
   "execution_count": 39,
   "metadata": {},
   "outputs": [
    {
     "data": {
      "text/html": [
       "<div>\n",
       "<style scoped>\n",
       "    .dataframe tbody tr th:only-of-type {\n",
       "        vertical-align: middle;\n",
       "    }\n",
       "\n",
       "    .dataframe tbody tr th {\n",
       "        vertical-align: top;\n",
       "    }\n",
       "\n",
       "    .dataframe thead th {\n",
       "        text-align: right;\n",
       "    }\n",
       "</style>\n",
       "<table border=\"1\" class=\"dataframe\">\n",
       "  <thead>\n",
       "    <tr style=\"text-align: right;\">\n",
       "      <th></th>\n",
       "      <th>mean_fit_time</th>\n",
       "      <th>std_fit_time</th>\n",
       "      <th>mean_score_time</th>\n",
       "      <th>std_score_time</th>\n",
       "      <th>param_model__learning_rate</th>\n",
       "      <th>param_model__loss</th>\n",
       "      <th>param_model__max_depth</th>\n",
       "      <th>param_model__max_leaf_nodes</th>\n",
       "      <th>param_model__min_samples_leaf</th>\n",
       "      <th>param_model__min_samples_split</th>\n",
       "      <th>...</th>\n",
       "      <th>split0_test_roc_auc</th>\n",
       "      <th>split1_test_roc_auc</th>\n",
       "      <th>split2_test_roc_auc</th>\n",
       "      <th>split3_test_roc_auc</th>\n",
       "      <th>split4_test_roc_auc</th>\n",
       "      <th>split5_test_roc_auc</th>\n",
       "      <th>split6_test_roc_auc</th>\n",
       "      <th>mean_test_roc_auc</th>\n",
       "      <th>std_test_roc_auc</th>\n",
       "      <th>rank_test_roc_auc</th>\n",
       "    </tr>\n",
       "  </thead>\n",
       "  <tbody>\n",
       "    <tr>\n",
       "      <th>0</th>\n",
       "      <td>0.247921</td>\n",
       "      <td>0.006533</td>\n",
       "      <td>0.020227</td>\n",
       "      <td>0.003837</td>\n",
       "      <td>0.025</td>\n",
       "      <td>log_loss</td>\n",
       "      <td>3</td>\n",
       "      <td>None</td>\n",
       "      <td>1</td>\n",
       "      <td>2</td>\n",
       "      <td>...</td>\n",
       "      <td>0.821556</td>\n",
       "      <td>0.908102</td>\n",
       "      <td>0.962963</td>\n",
       "      <td>0.885185</td>\n",
       "      <td>0.921296</td>\n",
       "      <td>0.924537</td>\n",
       "      <td>0.921991</td>\n",
       "      <td>0.906519</td>\n",
       "      <td>0.040786</td>\n",
       "      <td>5</td>\n",
       "    </tr>\n",
       "    <tr>\n",
       "      <th>1</th>\n",
       "      <td>0.326178</td>\n",
       "      <td>0.012655</td>\n",
       "      <td>0.019229</td>\n",
       "      <td>0.004733</td>\n",
       "      <td>0.025</td>\n",
       "      <td>log_loss</td>\n",
       "      <td>3</td>\n",
       "      <td>None</td>\n",
       "      <td>1</td>\n",
       "      <td>2</td>\n",
       "      <td>...</td>\n",
       "      <td>0.823778</td>\n",
       "      <td>0.910417</td>\n",
       "      <td>0.962731</td>\n",
       "      <td>0.886343</td>\n",
       "      <td>0.919907</td>\n",
       "      <td>0.930093</td>\n",
       "      <td>0.915972</td>\n",
       "      <td>0.907034</td>\n",
       "      <td>0.040090</td>\n",
       "      <td>2</td>\n",
       "    </tr>\n",
       "    <tr>\n",
       "      <th>2</th>\n",
       "      <td>0.494354</td>\n",
       "      <td>0.008145</td>\n",
       "      <td>0.019702</td>\n",
       "      <td>0.004175</td>\n",
       "      <td>0.025</td>\n",
       "      <td>log_loss</td>\n",
       "      <td>3</td>\n",
       "      <td>None</td>\n",
       "      <td>1</td>\n",
       "      <td>2</td>\n",
       "      <td>...</td>\n",
       "      <td>0.828222</td>\n",
       "      <td>0.912037</td>\n",
       "      <td>0.957870</td>\n",
       "      <td>0.887731</td>\n",
       "      <td>0.908565</td>\n",
       "      <td>0.941667</td>\n",
       "      <td>0.916204</td>\n",
       "      <td>0.907471</td>\n",
       "      <td>0.038689</td>\n",
       "      <td>1</td>\n",
       "    </tr>\n",
       "    <tr>\n",
       "      <th>3</th>\n",
       "      <td>0.572156</td>\n",
       "      <td>0.018203</td>\n",
       "      <td>0.021717</td>\n",
       "      <td>0.005647</td>\n",
       "      <td>0.025</td>\n",
       "      <td>log_loss</td>\n",
       "      <td>3</td>\n",
       "      <td>None</td>\n",
       "      <td>1</td>\n",
       "      <td>2</td>\n",
       "      <td>...</td>\n",
       "      <td>0.826000</td>\n",
       "      <td>0.913426</td>\n",
       "      <td>0.956481</td>\n",
       "      <td>0.884954</td>\n",
       "      <td>0.911574</td>\n",
       "      <td>0.941204</td>\n",
       "      <td>0.912963</td>\n",
       "      <td>0.906657</td>\n",
       "      <td>0.039211</td>\n",
       "      <td>4</td>\n",
       "    </tr>\n",
       "    <tr>\n",
       "      <th>4</th>\n",
       "      <td>0.758218</td>\n",
       "      <td>0.045993</td>\n",
       "      <td>0.024437</td>\n",
       "      <td>0.008542</td>\n",
       "      <td>0.025</td>\n",
       "      <td>log_loss</td>\n",
       "      <td>3</td>\n",
       "      <td>None</td>\n",
       "      <td>1</td>\n",
       "      <td>2</td>\n",
       "      <td>...</td>\n",
       "      <td>0.827778</td>\n",
       "      <td>0.912500</td>\n",
       "      <td>0.955556</td>\n",
       "      <td>0.885880</td>\n",
       "      <td>0.911574</td>\n",
       "      <td>0.941667</td>\n",
       "      <td>0.912500</td>\n",
       "      <td>0.906779</td>\n",
       "      <td>0.038476</td>\n",
       "      <td>3</td>\n",
       "    </tr>\n",
       "  </tbody>\n",
       "</table>\n",
       "<p>5 rows × 63 columns</p>\n",
       "</div>"
      ],
      "text/plain": [
       "   mean_fit_time  std_fit_time  mean_score_time  std_score_time  \\\n",
       "0       0.247921      0.006533         0.020227        0.003837   \n",
       "1       0.326178      0.012655         0.019229        0.004733   \n",
       "2       0.494354      0.008145         0.019702        0.004175   \n",
       "3       0.572156      0.018203         0.021717        0.005647   \n",
       "4       0.758218      0.045993         0.024437        0.008542   \n",
       "\n",
       "  param_model__learning_rate param_model__loss param_model__max_depth  \\\n",
       "0                      0.025          log_loss                      3   \n",
       "1                      0.025          log_loss                      3   \n",
       "2                      0.025          log_loss                      3   \n",
       "3                      0.025          log_loss                      3   \n",
       "4                      0.025          log_loss                      3   \n",
       "\n",
       "  param_model__max_leaf_nodes param_model__min_samples_leaf  \\\n",
       "0                        None                             1   \n",
       "1                        None                             1   \n",
       "2                        None                             1   \n",
       "3                        None                             1   \n",
       "4                        None                             1   \n",
       "\n",
       "  param_model__min_samples_split  ... split0_test_roc_auc split1_test_roc_auc  \\\n",
       "0                              2  ...            0.821556            0.908102   \n",
       "1                              2  ...            0.823778            0.910417   \n",
       "2                              2  ...            0.828222            0.912037   \n",
       "3                              2  ...            0.826000            0.913426   \n",
       "4                              2  ...            0.827778            0.912500   \n",
       "\n",
       "  split2_test_roc_auc  split3_test_roc_auc  split4_test_roc_auc  \\\n",
       "0            0.962963             0.885185             0.921296   \n",
       "1            0.962731             0.886343             0.919907   \n",
       "2            0.957870             0.887731             0.908565   \n",
       "3            0.956481             0.884954             0.911574   \n",
       "4            0.955556             0.885880             0.911574   \n",
       "\n",
       "   split5_test_roc_auc  split6_test_roc_auc  mean_test_roc_auc  \\\n",
       "0             0.924537             0.921991           0.906519   \n",
       "1             0.930093             0.915972           0.907034   \n",
       "2             0.941667             0.916204           0.907471   \n",
       "3             0.941204             0.912963           0.906657   \n",
       "4             0.941667             0.912500           0.906779   \n",
       "\n",
       "   std_test_roc_auc  rank_test_roc_auc  \n",
       "0          0.040786                  5  \n",
       "1          0.040090                  2  \n",
       "2          0.038689                  1  \n",
       "3          0.039211                  4  \n",
       "4          0.038476                  3  \n",
       "\n",
       "[5 rows x 63 columns]"
      ]
     },
     "execution_count": 39,
     "metadata": {},
     "output_type": "execute_result"
    }
   ],
   "source": [
    "pd.DataFrame(gbc_result.cv_results_).head()"
   ]
  },
  {
   "cell_type": "code",
   "execution_count": 40,
   "metadata": {},
   "outputs": [
    {
     "data": {
      "text/html": [
       "<div>\n",
       "<style scoped>\n",
       "    .dataframe tbody tr th:only-of-type {\n",
       "        vertical-align: middle;\n",
       "    }\n",
       "\n",
       "    .dataframe tbody tr th {\n",
       "        vertical-align: top;\n",
       "    }\n",
       "\n",
       "    .dataframe thead th {\n",
       "        text-align: right;\n",
       "    }\n",
       "</style>\n",
       "<table border=\"1\" class=\"dataframe\">\n",
       "  <thead>\n",
       "    <tr style=\"text-align: right;\">\n",
       "      <th></th>\n",
       "      <th>Model</th>\n",
       "      <th>Accuracy</th>\n",
       "      <th>Precision</th>\n",
       "      <th>Recall</th>\n",
       "      <th>F1</th>\n",
       "      <th>ROC AUC</th>\n",
       "    </tr>\n",
       "  </thead>\n",
       "  <tbody>\n",
       "    <tr>\n",
       "      <th>0</th>\n",
       "      <td>Gradient Boosting Classifier</td>\n",
       "      <td>0.88</td>\n",
       "      <td>0.909091</td>\n",
       "      <td>0.47619</td>\n",
       "      <td>0.625</td>\n",
       "      <td>0.731766</td>\n",
       "    </tr>\n",
       "  </tbody>\n",
       "</table>\n",
       "</div>"
      ],
      "text/plain": [
       "                          Model  Accuracy  Precision   Recall     F1   ROC AUC\n",
       "0  Gradient Boosting Classifier      0.88   0.909091  0.47619  0.625  0.731766"
      ]
     },
     "execution_count": 40,
     "metadata": {},
     "output_type": "execute_result"
    }
   ],
   "source": [
    "# GridSearch Results \n",
    "# {'model__learning_rate': 0.025, 'model__loss': 'log_loss', 'model__max_depth': 3, 'model__max_leaf_nodes': None, 'model__min_samples_leaf': 1, 'model__min_samples_split': 2, 'model__n_estimators': 80, 'model__random_state': 2024}\n",
    "\n",
    "params = {'model__learning_rate': 0.025, 'model__loss': 'log_loss', 'model__max_depth': 3, 'model__max_leaf_nodes': None, 'model__min_samples_leaf': 1, 'model__min_samples_split': 2, 'model__n_estimators': 80, 'model__random_state': 2024}\n",
    "# gbc_result.best_params_\n",
    "gbc_pipe_final = pipe_builder(('model', GradientBoostingClassifier()))\n",
    "gbc_pipe_final.set_params(**params)\n",
    "gbc_pipe_final.fit(X_train, y_train)\n",
    "pred = gbc_pipe_final.predict(X_test).astype('str')\n",
    "\n",
    "evaluation = model_metrics('Gradient Boosting Classifier', actual, pred)\n",
    "evaluation"
   ]
  },
  {
   "cell_type": "markdown",
   "metadata": {},
   "source": [
    "### Conclusion  \n",
    "\n",
    "The highlights of the final model are as follows:  \n",
    "\n",
    "- **Accuracy**: 0.88. This implies that out of 100 samples, 88 are correct regardless of label.\n",
    "- **Precision**: 0.9. This implies that out of 100 predicted positive cases (APPROVED), 90 of them are correct.\n",
    "- **Recall**: 0.47. Out of 100 actual APPROVED samples, the model will be able to recognize 47 of them and label the rest as REJECTED.\n",
    "\n",
    "The high precision of the model is desired as it is ideal to minimize the cases of False Positives, considering the Precision-Recall trade-off. Ideally, it would be best to have the model predict positive cases accurately instead of being able to recognize more actual positive cases.\n",
    "\n",
    "There is room for model performance improvement by adding additional features suggested below:\n",
    "\n",
    "- Number of current loans held by the applicant\n",
    "- Credit score\n",
    "- Missed payment counts\n",
    "- Total amount of loan\n",
    "- Bankruptcy history\n",
    "- Number of years paying debt\n",
    "- Employment status"
   ]
  }
 ],
 "metadata": {
  "kernelspec": {
   "display_name": "ml",
   "language": "python",
   "name": "python3"
  },
  "language_info": {
   "codemirror_mode": {
    "name": "ipython",
    "version": 3
   },
   "file_extension": ".py",
   "mimetype": "text/x-python",
   "name": "python",
   "nbconvert_exporter": "python",
   "pygments_lexer": "ipython3",
   "version": "3.11.7"
  }
 },
 "nbformat": 4,
 "nbformat_minor": 2
}
